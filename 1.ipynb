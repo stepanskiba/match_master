{
 "cells": [
  {
   "cell_type": "code",
   "execution_count": 262,
   "metadata": {
    "collapsed": true,
    "ExecuteTime": {
     "end_time": "2023-06-24T01:42:58.984676700Z",
     "start_time": "2023-06-24T01:42:58.972189600Z"
    }
   },
   "outputs": [],
   "source": [
    "import pandas as pd\n",
    "import numpy as np\n",
    "from collections import defaultdict"
   ]
  },
  {
   "cell_type": "code",
   "execution_count": 177,
   "outputs": [],
   "source": [
    "class Applicant:\n",
    "    def __init__(self, name, preferences_of_school):\n",
    "        self.name = name\n",
    "        self.preferences_of_school = preferences_of_school\n",
    "        self.proposal_index = 0  # Индекс в списке предпочтений, куда была сделана предложение\n",
    "        self.partner = None  # Проект, с которым студент образует пару\n",
    "\n",
    "    def make_proposal(self):\n",
    "        # Метод для сделать предложение выбранным проектом из списка предпочтений\n",
    "        preference_of_school = self.preferences_of_school[self.proposal_index]\n",
    "        self.proposal_index += 1\n",
    "        return preference_of_school\n",
    "\n",
    "    def receive_partner(self, partner):\n",
    "        # Метод для добавления проекта\n",
    "        self.partner = partner\n",
    "\n",
    "    def is_free(self):\n",
    "        # Метод, возвращающий True, если студент свободен и еще не образовал пару\n",
    "        return self.partner is None\n",
    "\n",
    "\n",
    "class Project:\n",
    "    def __init__(self, name, capacity, preferences_of_students):\n",
    "        self.name = name\n",
    "        self.capacity = capacity  # количество\n",
    "        self.preferences_of_students = preferences_of_students  # предпочтения проекта\n",
    "        self.applicants = []\n",
    "\n",
    "    def add_applicant(self, applicant):\n",
    "        # Метод для добавления студента в список принятых проектом\n",
    "        self.applicants.append(applicant)\n",
    "\n",
    "    def remove_applicant(self, applicant):\n",
    "        # Метод для удаления студента из списка принятых проектом\n",
    "        self.applicants.remove(applicant)\n",
    "\n",
    "    def has_capacity(self):\n",
    "        # Метод, возвращающий True, если в проекте есть свободные места\n",
    "        return len(self.applicants) < self.capacity\n",
    "\n",
    "    def prefers_applicant(self, applicant):\n",
    "        # Метод, проверяющий, предпочитает ли проекта данный студент\n",
    "        return applicant in self.preferences_of_students[:self.capacity]\n",
    "\n",
    "    def get_least_preferred_applicant(self):\n",
    "        # Метод, возвращающий наименее предпочитаемого студента в проекте\n",
    "        return self.applicants[-1]\n",
    "\n",
    "\n",
    "def gale_shapley(applicants, schools):\n",
    "    while True:\n",
    "        free_applicants = [applicant for applicant in applicants if applicant.is_free()]\n",
    "\n",
    "        if not free_applicants:\n",
    "            break\n",
    "\n",
    "        for applicant in free_applicants:\n",
    "            school_name = applicant.make_proposal()\n",
    "            school = schools[school_name]\n",
    "\n",
    "            if school.has_capacity():\n",
    "                school.add_applicant(applicant)\n",
    "                applicant.receive_partner(school)\n",
    "                applicant.priority = applicant.preferences_of_school.index(school.name) + 1\n",
    "        else:\n",
    "            least_preferred_applicant = school.get_least_preferred_applicant()\n",
    "\n",
    "            if school.prefers_applicant(applicant):\n",
    "                school.remove_applicant(least_preferred_applicant)\n",
    "                least_preferred_applicant.receive_partner(None)\n",
    "\n",
    "                school.add_applicant(applicant)\n",
    "                applicant.receive_partner(school)\n",
    "\n",
    "    matches = [(applicant, applicant.partner) for applicant in applicants]\n",
    "    return matches"
   ],
   "metadata": {
    "collapsed": false,
    "ExecuteTime": {
     "end_time": "2023-06-23T23:59:24.558432700Z",
     "start_time": "2023-06-23T23:59:24.529457700Z"
    }
   }
  },
  {
   "cell_type": "code",
   "execution_count": 178,
   "outputs": [],
   "source": [
    "students = pd.read_json('students.json')\n",
    "\n",
    "applicants = []\n",
    "for _, row in students.iterrows():\n",
    "    name = row['name']\n",
    "    projects = row['preferences']\n",
    "    applicant = Applicant(name, projects)\n",
    "    applicants.append(applicant)"
   ],
   "metadata": {
    "collapsed": false,
    "ExecuteTime": {
     "end_time": "2023-06-23T23:59:25.575294100Z",
     "start_time": "2023-06-23T23:59:25.567854900Z"
    }
   }
  },
  {
   "cell_type": "code",
   "execution_count": 179,
   "outputs": [],
   "source": [
    "schools = pd.read_json('projects.json')\n",
    "\n",
    "projects = {}\n",
    "for _, row in schools.iterrows():\n",
    "    name = row['name']\n",
    "    capacity = row['capacity']\n",
    "    students = row['preferences']\n",
    "    project = Project(name, capacity, students)\n",
    "    projects[name] = project"
   ],
   "metadata": {
    "collapsed": false,
    "ExecuteTime": {
     "end_time": "2023-06-23T23:59:26.970939700Z",
     "start_time": "2023-06-23T23:59:26.951173700Z"
    }
   }
  },
  {
   "cell_type": "code",
   "execution_count": 279,
   "outputs": [
    {
     "name": "stdout",
     "output_type": "stream",
     "text": [
      "Студент1 Проект1\n",
      "Студент2 Проект1\n",
      "Студент3 Проект3\n",
      "Студент4 Проект2\n",
      "Студент5 Проект3\n"
     ]
    },
    {
     "data": {
      "text/plain": "[None, None, None, None, None]"
     },
     "execution_count": 279,
     "metadata": {},
     "output_type": "execute_result"
    }
   ],
   "source": [
    "matches = gale_shapley(applicants, projects)\n",
    "\n",
    "[print(elem[0].name, elem[1].name) for elem in matches]"
   ],
   "metadata": {
    "collapsed": false,
    "ExecuteTime": {
     "end_time": "2023-06-24T01:50:25.038041400Z",
     "start_time": "2023-06-24T01:50:25.020050800Z"
    }
   }
  },
  {
   "cell_type": "code",
   "execution_count": 281,
   "outputs": [
    {
     "data": {
      "text/plain": "'среднее место проекта у студентов: 1.800, среднее место студентов у проектов: 2.833'"
     },
     "execution_count": 281,
     "metadata": {},
     "output_type": "execute_result"
    }
   ],
   "source": [
    "def metrics(matches):\n",
    "    ind_of_recieved_projects = [matches[i][0].preferences_of_school.index(matches[i][1].name) + 1 for i in\n",
    "                                range(len(matches))]\n",
    "\n",
    "    ind_of_recieved_students_by_project = defaultdict(list)\n",
    "    for elem in matches:\n",
    "        ind_of_recieved_students_by_project[elem[1].name].append(\n",
    "            elem[1].preferences_of_students.index(elem[0].name) + 1)\n",
    "    return f'среднее место проекта у студентов: {np.mean(ind_of_recieved_projects):.3f}, среднее место студентов у проектов: {np.mean(list(map(np.mean, ind_of_recieved_students_by_project.values()))):.3f}'\n",
    "\n",
    "\n",
    "metrics(matches)"
   ],
   "metadata": {
    "collapsed": false,
    "ExecuteTime": {
     "end_time": "2023-06-24T01:50:53.662555500Z",
     "start_time": "2023-06-24T01:50:53.658287700Z"
    }
   }
  },
  {
   "cell_type": "code",
   "execution_count": 108,
   "outputs": [],
   "source": [
    "# # Создание студентов\n",
    "#\n",
    "# applicant1 = Applicant(\"Студент1\", [\"Проект1\", \"Проект2\", \"Проект3\"])\n",
    "# applicant2 = Applicant(\"Студент2\", [\"Проект2\", \"Проект1\", \"Проект3\"])\n",
    "# applicant3 = Applicant(\"Студент3\", [\"Проект3\", \"Проект2\", \"Проект1\"])\n",
    "# applicant4 = Applicant(\"Студент4\", [\"Проект3\", \"Проект2\", \"Проект1\"])\n",
    "# applicant5 = Applicant(\"Студент5\", [\"Проект2\", \"Проект3\", \"Проект1\"])\n",
    "#\n",
    "# # Создание проекта\n",
    "# school1 = Project(\"Проект1\", 2, [\"Студент1\", \"Студент2\", \"Студент3\", \"Студент4\", \"Студент5\"])\n",
    "# school2 = Project(\"Проект2\", 1, [\"Студент2\", \"Студент1\", \"Студент4\", \"Студент3\", \"Студент5\"])\n",
    "# school3 = Project(\"Проект3\", 2, [\"Студент2\", \"Студент4\", \"Студент3\", \"Студент1\", \"Студент5\"])\n",
    "#\n",
    "# # Списки студентов и проектов\n",
    "# applicants = [applicant1, applicant2, applicant3, applicant4, applicant5]\n",
    "# schools = {\"Проект1\": school1, \"Проект2\": school2, \"Проект3\": school3}\n",
    "#\n",
    "# # Выполнение алгоритма Гейла-Шепли\n",
    "# matches = gale_shapley(applicants, schools)\n",
    "#\n",
    "# matches"
   ],
   "metadata": {
    "collapsed": false,
    "ExecuteTime": {
     "end_time": "2023-06-23T14:37:03.606217Z",
     "start_time": "2023-06-23T14:37:03.585305200Z"
    }
   }
  }
 ],
 "metadata": {
  "kernelspec": {
   "display_name": "Python 3",
   "language": "python",
   "name": "python3"
  },
  "language_info": {
   "codemirror_mode": {
    "name": "ipython",
    "version": 2
   },
   "file_extension": ".py",
   "mimetype": "text/x-python",
   "name": "python",
   "nbconvert_exporter": "python",
   "pygments_lexer": "ipython2",
   "version": "2.7.6"
  }
 },
 "nbformat": 4,
 "nbformat_minor": 0
}
