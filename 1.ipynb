{
 "cells": [
  {
   "cell_type": "code",
   "execution_count": 174,
   "metadata": {
    "collapsed": true,
    "ExecuteTime": {
     "end_time": "2023-07-03T14:32:45.871582900Z",
     "start_time": "2023-07-03T14:32:45.643784600Z"
    }
   },
   "outputs": [],
   "source": [
    "import pandas as pd\n",
    "import numpy as np\n",
    "from collections import defaultdict"
   ]
  },
  {
   "cell_type": "code",
   "execution_count": 175,
   "outputs": [],
   "source": [
    "class Applicant:\n",
    "    def __init__(self, name, preferences_of_school):\n",
    "        self.name = name\n",
    "        self.preferences_of_school = preferences_of_school\n",
    "        self.proposal_index = 0  # Индекс в списке предпочтений, куда была сделана предложение\n",
    "        self.partner = None  # Проект, с которым студент образует пару\n",
    "\n",
    "    def make_proposal(self):\n",
    "        # Метод для сделать предложение выбранным проектом из списка предпочтений\n",
    "        preference_of_school = self.preferences_of_school[self.proposal_index]\n",
    "        self.proposal_index += 1\n",
    "        return preference_of_school\n",
    "\n",
    "    def receive_partner(self, partner):\n",
    "        # Метод для добавления проекта\n",
    "        self.partner = partner\n",
    "\n",
    "    def is_free(self):\n",
    "        # Метод, возвращающий True, если студент свободен и еще не образовал пару\n",
    "        return self.partner is None\n",
    "\n",
    "\n",
    "class Project:\n",
    "    def __init__(self, name, capacity, preferences_of_students):\n",
    "        self.name = name\n",
    "        self.capacity = capacity  # количество\n",
    "        self.preferences_of_students = preferences_of_students  # предпочтения проекта\n",
    "        self.applicants = []\n",
    "\n",
    "    def add_applicant(self, applicant):\n",
    "        # Метод для добавления студента в список принятых проектом\n",
    "        self.applicants.append(applicant)\n",
    "\n",
    "    def remove_applicant(self, applicant):\n",
    "        # Метод для удаления студента из списка принятых проектом\n",
    "        self.applicants.remove(applicant)\n",
    "\n",
    "    def has_capacity(self):\n",
    "        # Метод, возвращающий True, если в проекте есть свободные места\n",
    "        return len(self.applicants) < self.capacity\n",
    "\n",
    "    def prefers_applicant(self, applicant):\n",
    "        # Метод, проверяющий, предпочитает ли проекта данный студент\n",
    "        return applicant in self.preferences_of_students[:self.capacity]\n",
    "\n",
    "    def get_least_preferred_applicant(self):\n",
    "        # Метод, возвращающий наименее предпочитаемого студента в проекте\n",
    "        return self.applicants[-1]\n",
    "\n",
    "\n",
    "def gale_shapley(applicants, schools):\n",
    "    while True:\n",
    "        free_applicants = [applicant for applicant in applicants if applicant.is_free()]\n",
    "\n",
    "        if not free_applicants:\n",
    "            break\n",
    "\n",
    "        for applicant in free_applicants:\n",
    "            #print(applicant.name)\n",
    "            school_name = str(applicant.make_proposal())\n",
    "            school = schools[school_name]\n",
    "\n",
    "            if school.has_capacity():\n",
    "                school.add_applicant(applicant)\n",
    "                applicant.receive_partner(school)\n",
    "                applicant.priority = applicant.preferences_of_school.index(school.name) + 1\n",
    "        else:\n",
    "            least_preferred_applicant = school.get_least_preferred_applicant()\n",
    "\n",
    "            if school.prefers_applicant(applicant):\n",
    "                school.remove_applicant(least_preferred_applicant)\n",
    "                least_preferred_applicant.receive_partner(None)\n",
    "\n",
    "                school.add_applicant(applicant)\n",
    "                applicant.receive_partner(school)\n",
    "\n",
    "    matches = [[applicant, applicant.partner] for applicant in applicants]\n",
    "    return matches"
   ],
   "metadata": {
    "collapsed": false,
    "ExecuteTime": {
     "end_time": "2023-07-03T14:32:45.880693900Z",
     "start_time": "2023-07-03T14:32:45.669794100Z"
    }
   }
  },
  {
   "cell_type": "code",
   "execution_count": 202,
   "outputs": [],
   "source": [
    "ratings = pd.read_excel('Отбор ШМЯ 2023 - финал (1) (3).xlsx')\n",
    "ratings = ratings[ratings['Вердикт Лены'] == 'Да']\n",
    "ratings = ratings[ratings['В каком хабе будет во втором этапе'] == 'Москва']\n",
    "ratings['Балл за зум-собеседование (макс 10)'] = ratings['Балл за зум-собеседование (макс 10)'].replace('нет оценки', np.nan)"
   ],
   "metadata": {
    "collapsed": false,
    "ExecuteTime": {
     "end_time": "2023-07-03T14:33:25.063030700Z",
     "start_time": "2023-07-03T14:33:24.958403900Z"
    }
   }
  },
  {
   "cell_type": "code",
   "execution_count": 203,
   "outputs": [],
   "source": [
    "avg_zoom_scores = ratings['Балл за зум-собеседование (макс 10)'].mean()"
   ],
   "metadata": {
    "collapsed": false,
    "ExecuteTime": {
     "end_time": "2023-07-03T14:33:26.380526Z",
     "start_time": "2023-07-03T14:33:26.361172300Z"
    }
   }
  },
  {
   "cell_type": "code",
   "execution_count": 204,
   "outputs": [],
   "source": [
    "ratings['Балл за зум-собеседование (макс 10)'] = ratings['Балл за зум-собеседование (макс 10)'].fillna(avg_zoom_scores)\n",
    "ratings['Итоговая сумма'] = ratings['Балл за зум-собеседование (макс 10)'] + ratings['Балл за VCV (макс 10)'] + ratings['Оценка за мотивацию (макс 3)'] + ratings['Сумма за кейсы (макс 10)']\n",
    "ratings['фамилия + имя'] = ratings['Фамилия кандидата'].str.strip().str.lower() +' '+ ratings['Имя кандидата'].str.strip().str.lower()"
   ],
   "metadata": {
    "collapsed": false,
    "ExecuteTime": {
     "end_time": "2023-07-03T14:33:27.506737200Z",
     "start_time": "2023-07-03T14:33:27.489263400Z"
    }
   }
  },
  {
   "cell_type": "code",
   "execution_count": 205,
   "outputs": [],
   "source": [
    "ratings = ratings[['фамилия + имя', 'Итоговая сумма']]"
   ],
   "metadata": {
    "collapsed": false,
    "ExecuteTime": {
     "end_time": "2023-07-03T14:33:28.746800Z",
     "start_time": "2023-07-03T14:33:28.729134200Z"
    }
   }
  },
  {
   "cell_type": "code",
   "execution_count": 206,
   "outputs": [],
   "source": [
    "ratings = ratings.sort_values(by='Итоговая сумма', ascending=False)"
   ],
   "metadata": {
    "collapsed": false,
    "ExecuteTime": {
     "end_time": "2023-07-03T14:33:30.349003200Z",
     "start_time": "2023-07-03T14:33:30.325527800Z"
    }
   }
  },
  {
   "cell_type": "code",
   "execution_count": 207,
   "outputs": [
    {
     "data": {
      "text/plain": "           фамилия + имя  Итоговая сумма\n76         хажиев роберт        27.00000\n7        мировский слава        27.00000\n1      зубайдуллин ринат        26.00000\n10      алейникова дарья        26.00000\n57   овчинников григорий        26.00000\n52      мурзаева евгения        26.00000\n41          крылов артем        26.00000\n32       иванченко алена        25.00000\n68      тагиев станислав        25.00000\n16     берхольц виктория        25.00000\n59      ревнивцев андрей        25.00000\n2      вэлиулин вячеслав        25.00000\n11       анисимов максим        24.44186\n72       филистович илья        24.00000\n48     малинкович герман        24.00000\n35        кармастина яна        24.00000\n97         юраков кирилл        24.00000\n31         иванов сергей        24.00000\n6       кислицына полина        24.00000\n46          ланцман ефим        23.00000\n86  шилоносова валентина        23.00000\n30       запольская юлия        23.00000\n84        целищев максим        23.00000\n18       борзунова алена        23.00000\n56   нестерович светлана        23.00000\n47         макаров игорь        23.00000\n54        мхитарян ваагн        22.44186\n45        курченко лилия        22.00000\n17   борзунова анастасия        22.00000\n81          хоменюк петр        22.00000\n28       закиров дмитрий        22.00000\n75         фрыкина елена        22.00000\n25        головач максим        22.00000\n61    стержанова виталия        22.00000\n38          комаров олег        22.00000\n53           мусина айша        22.00000\n33          ипатов артем        21.00000\n22        бурзунов данил        21.00000\n13        антонова дарья        21.00000\n42      кузнецов дмитрий        20.00000\n8          абазов руслан        20.00000\n26  горбаренко анастасия        19.00000\n36     касько константин        19.00000\n34     исламуратов марат        19.00000\n83           хури полина        18.00000",
      "text/html": "<div>\n<style scoped>\n    .dataframe tbody tr th:only-of-type {\n        vertical-align: middle;\n    }\n\n    .dataframe tbody tr th {\n        vertical-align: top;\n    }\n\n    .dataframe thead th {\n        text-align: right;\n    }\n</style>\n<table border=\"1\" class=\"dataframe\">\n  <thead>\n    <tr style=\"text-align: right;\">\n      <th></th>\n      <th>фамилия + имя</th>\n      <th>Итоговая сумма</th>\n    </tr>\n  </thead>\n  <tbody>\n    <tr>\n      <th>76</th>\n      <td>хажиев роберт</td>\n      <td>27.00000</td>\n    </tr>\n    <tr>\n      <th>7</th>\n      <td>мировский слава</td>\n      <td>27.00000</td>\n    </tr>\n    <tr>\n      <th>1</th>\n      <td>зубайдуллин ринат</td>\n      <td>26.00000</td>\n    </tr>\n    <tr>\n      <th>10</th>\n      <td>алейникова дарья</td>\n      <td>26.00000</td>\n    </tr>\n    <tr>\n      <th>57</th>\n      <td>овчинников григорий</td>\n      <td>26.00000</td>\n    </tr>\n    <tr>\n      <th>52</th>\n      <td>мурзаева евгения</td>\n      <td>26.00000</td>\n    </tr>\n    <tr>\n      <th>41</th>\n      <td>крылов артем</td>\n      <td>26.00000</td>\n    </tr>\n    <tr>\n      <th>32</th>\n      <td>иванченко алена</td>\n      <td>25.00000</td>\n    </tr>\n    <tr>\n      <th>68</th>\n      <td>тагиев станислав</td>\n      <td>25.00000</td>\n    </tr>\n    <tr>\n      <th>16</th>\n      <td>берхольц виктория</td>\n      <td>25.00000</td>\n    </tr>\n    <tr>\n      <th>59</th>\n      <td>ревнивцев андрей</td>\n      <td>25.00000</td>\n    </tr>\n    <tr>\n      <th>2</th>\n      <td>вэлиулин вячеслав</td>\n      <td>25.00000</td>\n    </tr>\n    <tr>\n      <th>11</th>\n      <td>анисимов максим</td>\n      <td>24.44186</td>\n    </tr>\n    <tr>\n      <th>72</th>\n      <td>филистович илья</td>\n      <td>24.00000</td>\n    </tr>\n    <tr>\n      <th>48</th>\n      <td>малинкович герман</td>\n      <td>24.00000</td>\n    </tr>\n    <tr>\n      <th>35</th>\n      <td>кармастина яна</td>\n      <td>24.00000</td>\n    </tr>\n    <tr>\n      <th>97</th>\n      <td>юраков кирилл</td>\n      <td>24.00000</td>\n    </tr>\n    <tr>\n      <th>31</th>\n      <td>иванов сергей</td>\n      <td>24.00000</td>\n    </tr>\n    <tr>\n      <th>6</th>\n      <td>кислицына полина</td>\n      <td>24.00000</td>\n    </tr>\n    <tr>\n      <th>46</th>\n      <td>ланцман ефим</td>\n      <td>23.00000</td>\n    </tr>\n    <tr>\n      <th>86</th>\n      <td>шилоносова валентина</td>\n      <td>23.00000</td>\n    </tr>\n    <tr>\n      <th>30</th>\n      <td>запольская юлия</td>\n      <td>23.00000</td>\n    </tr>\n    <tr>\n      <th>84</th>\n      <td>целищев максим</td>\n      <td>23.00000</td>\n    </tr>\n    <tr>\n      <th>18</th>\n      <td>борзунова алена</td>\n      <td>23.00000</td>\n    </tr>\n    <tr>\n      <th>56</th>\n      <td>нестерович светлана</td>\n      <td>23.00000</td>\n    </tr>\n    <tr>\n      <th>47</th>\n      <td>макаров игорь</td>\n      <td>23.00000</td>\n    </tr>\n    <tr>\n      <th>54</th>\n      <td>мхитарян ваагн</td>\n      <td>22.44186</td>\n    </tr>\n    <tr>\n      <th>45</th>\n      <td>курченко лилия</td>\n      <td>22.00000</td>\n    </tr>\n    <tr>\n      <th>17</th>\n      <td>борзунова анастасия</td>\n      <td>22.00000</td>\n    </tr>\n    <tr>\n      <th>81</th>\n      <td>хоменюк петр</td>\n      <td>22.00000</td>\n    </tr>\n    <tr>\n      <th>28</th>\n      <td>закиров дмитрий</td>\n      <td>22.00000</td>\n    </tr>\n    <tr>\n      <th>75</th>\n      <td>фрыкина елена</td>\n      <td>22.00000</td>\n    </tr>\n    <tr>\n      <th>25</th>\n      <td>головач максим</td>\n      <td>22.00000</td>\n    </tr>\n    <tr>\n      <th>61</th>\n      <td>стержанова виталия</td>\n      <td>22.00000</td>\n    </tr>\n    <tr>\n      <th>38</th>\n      <td>комаров олег</td>\n      <td>22.00000</td>\n    </tr>\n    <tr>\n      <th>53</th>\n      <td>мусина айша</td>\n      <td>22.00000</td>\n    </tr>\n    <tr>\n      <th>33</th>\n      <td>ипатов артем</td>\n      <td>21.00000</td>\n    </tr>\n    <tr>\n      <th>22</th>\n      <td>бурзунов данил</td>\n      <td>21.00000</td>\n    </tr>\n    <tr>\n      <th>13</th>\n      <td>антонова дарья</td>\n      <td>21.00000</td>\n    </tr>\n    <tr>\n      <th>42</th>\n      <td>кузнецов дмитрий</td>\n      <td>20.00000</td>\n    </tr>\n    <tr>\n      <th>8</th>\n      <td>абазов руслан</td>\n      <td>20.00000</td>\n    </tr>\n    <tr>\n      <th>26</th>\n      <td>горбаренко анастасия</td>\n      <td>19.00000</td>\n    </tr>\n    <tr>\n      <th>36</th>\n      <td>касько константин</td>\n      <td>19.00000</td>\n    </tr>\n    <tr>\n      <th>34</th>\n      <td>исламуратов марат</td>\n      <td>19.00000</td>\n    </tr>\n    <tr>\n      <th>83</th>\n      <td>хури полина</td>\n      <td>18.00000</td>\n    </tr>\n  </tbody>\n</table>\n</div>"
     },
     "execution_count": 207,
     "metadata": {},
     "output_type": "execute_result"
    }
   ],
   "source": [
    "ratings"
   ],
   "metadata": {
    "collapsed": false,
    "ExecuteTime": {
     "end_time": "2023-07-03T14:33:32.321888900Z",
     "start_time": "2023-07-03T14:33:32.251030400Z"
    }
   }
  },
  {
   "cell_type": "code",
   "execution_count": 208,
   "outputs": [],
   "source": [
    "students_choose_projects = pd.read_excel('2023-06-12 ShMIa 2023 vybor proekta.xlsx')\n",
    "students_choose_projects = students_choose_projects[(students_choose_projects['Твой хаб'] == 'Москва') & (students_choose_projects['Направление в ШМЯ'] == 'Управление проектами и продуктами')]\n",
    "students_choose_projects['фамилия + имя'] = students_choose_projects['Фамилия'].str.strip().str.lower() + ' '+ students_choose_projects['Имя'].str.strip().str.lower()\n",
    "students_choose_projects = students_choose_projects.drop(['Фамилия', 'Имя', 'Твой хаб', 'Направление в ШМЯ'], axis=1)\n",
    "students_choose_projects = students_choose_projects.astype(str)"
   ],
   "metadata": {
    "collapsed": false,
    "ExecuteTime": {
     "end_time": "2023-07-03T14:33:34.272948200Z",
     "start_time": "2023-07-03T14:33:34.095584500Z"
    }
   }
  },
  {
   "cell_type": "code",
   "execution_count": 209,
   "outputs": [
    {
     "data": {
      "text/plain": "    1 приоритет 2 приоритет 3 приоритет 4 приоритет 5 приоритет 6 приоритет  \\\n8            19          12          25          32          26          33   \n16           25          12          22          37          50       34-35   \n30           14          13          49          43          48          31   \n33           20          14          25          12          51          36   \n40           36          14          33          15       45-46          24   \n44           48          14          13       45-46          33          19   \n46        45-46          19          13          14       45-46          31   \n47           48          19          32          14          33          12   \n48           19          22          33          31          37       45-46   \n50           51          22       45-46          32          13          31   \n51           33          25          47          26          38          16   \n56           48          25          26          33          49          27   \n58           50          25          26          20          33       34-35   \n61           25          26          23       45-46          24          51   \n63           25          26       34-35          12          37          50   \n74           25          26          48          47          51          33   \n75           28          26          25          33          47          22   \n79           33          26          47          28          31          43   \n80        45-46          27          25          43          13          36   \n81           29          31          12          33       45-46       45-46   \n89           47          31          36          32          37          20   \n90           48          31          33          47          26          44   \n94           26          32          18          29          20          25   \n100          26          32          48          38          22          47   \n101          22          33          25          34          35          29   \n102          37          36          50          28          26          25   \n105          50          37          33          38          51       25-26   \n118          22          38          47          51          26          31   \n119          12          43          32          19          28          31   \n120          48       45-46          33          38          29          47   \n121          28          47          23          39          29          17   \n125          28          47          26          25          19          50   \n126          37          47          33          50          38          32   \n127          50          47          37          48          33          25   \n130          51          47          31          13          40          23   \n134          47          48          33          26          25          22   \n137          50          49          25          23          29          37   \n138          26          50          25          28          47          23   \n140          27          50          23          24       45-46          26   \n146          28          50          38          14          37          29   \n147          37          50          36          26          48          51   \n151          54          52          55          27          12          38   \n154          54          53          52          55          30          32   \n155          55          54          53          52          31          22   \n\n    7 приоритет 8 приоритет 9 приоритет 10 приоритет 11 приоритет  \\\n8            20          50          28           18           24   \n16           23          24          14           40           31   \n30           19          50          56           57           12   \n33           37          47       34-35        34-35           48   \n40           12          38          20           22           23   \n44           49          44          32           29           12   \n46           47          24          23           20           55   \n47        45-46          40          38           31           47   \n48           47          48       34-35           51           14   \n50           17          18          47           37           36   \n51           31          51          48           29           22   \n56           24          43          50           47           12   \n58           37          22          23           24           51   \n61           47          33          16           18           36   \n63           38          47          51           24           32   \n74           20          38          36           37           12   \n75           37          51          39           16           50   \n79           12          25          40           51        45-46   \n80           38          14          23           50           31   \n81           32          43          20           14           42   \n89        34-35          50          48           12           33   \n90        45-46          28          50           32           43   \n94           14          28          31           43           38   \n100       45-46          20          51           25           23   \n101          28          18          48           17           23   \n102          22       34-35          24           23           47   \n105          48          22       45-46           47           29   \n118          33          13          50           28           39   \n119          33       45-46          47           25           37   \n120          43          30          17           31           26   \n121          24          20          26           51           33   \n125          40          32          12           13           14   \n126          39          22          48           51           26   \n127          26          22          51           28           49   \n130          24          29          48           16           17   \n134          24          23       45-46           29           31   \n137          24       45-46          28        56-57           43   \n138          24          37          38           51           17   \n140          49          28          47           22           29   \n146          43          31          22           45           55   \n147          47          33          28           29           25   \n151          14          13          29           30           31   \n154       45-46       45-46          23           24           14   \n155          51          38          32           25           26   \n\n    12 приоритет 13 приоритет 14 приоритет 15 приоритет         фамилия + имя  \n8             48           29           22           43           хури полина  \n16         56-57           38           30           51     исламуратов марат  \n30            22           50           40           47      алейникова дарья  \n33            33           26           50           19      ревнивцев андрей  \n40            13           31           28           42        бурзунов данил  \n44            22           15           26           28        головач максим  \n46            44           28           27           49   нестерович светлана  \n47         34-35           20           28           25      мурзаева евгения  \n48            25           26           38           32   овчинников григорий  \n50            19           20           28           26        целищев максим  \n51            18           43        45-46           12          крылов артем  \n56            13           19           37           14         абазов руслан  \n58            12           19           38           23       анисимов максим  \n61            22           50           48           37       закиров дмитрий  \n63            23           28        45-46           29         иванов сергей  \n74            50           24           31           43        антонова дарья  \n75            18           38        45-46           13         хажиев роберт  \n79            22           29           39           14         макаров игорь  \n80            20           42           12           33  горбаренко анастасия  \n81            47           38           49           40       филистович илья  \n89         45-46           14           38           24     зубайдуллин ринат  \n90            22           23           38           20     вэлиулин вячеслав  \n94            36           33           37           47      кислицына полина  \n100           24           50           28        34-35     малинкович герман  \n101           24           27           36           32       запольская юлия  \n102           33           16           18           40      кузнецов дмитрий  \n105           43           18           16           54        мхитарян ваагн  \n118           29           37           24        56-57     касько константин  \n119        34-35           24           29           27           мусина айша  \n120           13           44           19           12       иванченко алена  \n121           25           16           30           18  шилоносова валентина  \n125           43           29           31           38        курченко лилия  \n126           29           31           17           12      тагиев станислав  \n127        56-57           31           17           29         юраков кирилл  \n130           25           33           32           38       борзунова алена  \n134           20           14           50           19    стержанова виталия  \n137           33           14           15           21       мировский слава  \n138           33           31           32           39   борзунова анастасия  \n140           25           31           33           44        кармастина яна  \n146           36           51           20           23          комаров олег  \n147           18           45           22           39          ипатов артем  \n151           43        45-46           50           48         фрыкина елена  \n154           13           19           33           12     берхольц виктория  \n155           14           15           18           37          хоменюк петр  ",
      "text/html": "<div>\n<style scoped>\n    .dataframe tbody tr th:only-of-type {\n        vertical-align: middle;\n    }\n\n    .dataframe tbody tr th {\n        vertical-align: top;\n    }\n\n    .dataframe thead th {\n        text-align: right;\n    }\n</style>\n<table border=\"1\" class=\"dataframe\">\n  <thead>\n    <tr style=\"text-align: right;\">\n      <th></th>\n      <th>1 приоритет</th>\n      <th>2 приоритет</th>\n      <th>3 приоритет</th>\n      <th>4 приоритет</th>\n      <th>5 приоритет</th>\n      <th>6 приоритет</th>\n      <th>7 приоритет</th>\n      <th>8 приоритет</th>\n      <th>9 приоритет</th>\n      <th>10 приоритет</th>\n      <th>11 приоритет</th>\n      <th>12 приоритет</th>\n      <th>13 приоритет</th>\n      <th>14 приоритет</th>\n      <th>15 приоритет</th>\n      <th>фамилия + имя</th>\n    </tr>\n  </thead>\n  <tbody>\n    <tr>\n      <th>8</th>\n      <td>19</td>\n      <td>12</td>\n      <td>25</td>\n      <td>32</td>\n      <td>26</td>\n      <td>33</td>\n      <td>20</td>\n      <td>50</td>\n      <td>28</td>\n      <td>18</td>\n      <td>24</td>\n      <td>48</td>\n      <td>29</td>\n      <td>22</td>\n      <td>43</td>\n      <td>хури полина</td>\n    </tr>\n    <tr>\n      <th>16</th>\n      <td>25</td>\n      <td>12</td>\n      <td>22</td>\n      <td>37</td>\n      <td>50</td>\n      <td>34-35</td>\n      <td>23</td>\n      <td>24</td>\n      <td>14</td>\n      <td>40</td>\n      <td>31</td>\n      <td>56-57</td>\n      <td>38</td>\n      <td>30</td>\n      <td>51</td>\n      <td>исламуратов марат</td>\n    </tr>\n    <tr>\n      <th>30</th>\n      <td>14</td>\n      <td>13</td>\n      <td>49</td>\n      <td>43</td>\n      <td>48</td>\n      <td>31</td>\n      <td>19</td>\n      <td>50</td>\n      <td>56</td>\n      <td>57</td>\n      <td>12</td>\n      <td>22</td>\n      <td>50</td>\n      <td>40</td>\n      <td>47</td>\n      <td>алейникова дарья</td>\n    </tr>\n    <tr>\n      <th>33</th>\n      <td>20</td>\n      <td>14</td>\n      <td>25</td>\n      <td>12</td>\n      <td>51</td>\n      <td>36</td>\n      <td>37</td>\n      <td>47</td>\n      <td>34-35</td>\n      <td>34-35</td>\n      <td>48</td>\n      <td>33</td>\n      <td>26</td>\n      <td>50</td>\n      <td>19</td>\n      <td>ревнивцев андрей</td>\n    </tr>\n    <tr>\n      <th>40</th>\n      <td>36</td>\n      <td>14</td>\n      <td>33</td>\n      <td>15</td>\n      <td>45-46</td>\n      <td>24</td>\n      <td>12</td>\n      <td>38</td>\n      <td>20</td>\n      <td>22</td>\n      <td>23</td>\n      <td>13</td>\n      <td>31</td>\n      <td>28</td>\n      <td>42</td>\n      <td>бурзунов данил</td>\n    </tr>\n    <tr>\n      <th>44</th>\n      <td>48</td>\n      <td>14</td>\n      <td>13</td>\n      <td>45-46</td>\n      <td>33</td>\n      <td>19</td>\n      <td>49</td>\n      <td>44</td>\n      <td>32</td>\n      <td>29</td>\n      <td>12</td>\n      <td>22</td>\n      <td>15</td>\n      <td>26</td>\n      <td>28</td>\n      <td>головач максим</td>\n    </tr>\n    <tr>\n      <th>46</th>\n      <td>45-46</td>\n      <td>19</td>\n      <td>13</td>\n      <td>14</td>\n      <td>45-46</td>\n      <td>31</td>\n      <td>47</td>\n      <td>24</td>\n      <td>23</td>\n      <td>20</td>\n      <td>55</td>\n      <td>44</td>\n      <td>28</td>\n      <td>27</td>\n      <td>49</td>\n      <td>нестерович светлана</td>\n    </tr>\n    <tr>\n      <th>47</th>\n      <td>48</td>\n      <td>19</td>\n      <td>32</td>\n      <td>14</td>\n      <td>33</td>\n      <td>12</td>\n      <td>45-46</td>\n      <td>40</td>\n      <td>38</td>\n      <td>31</td>\n      <td>47</td>\n      <td>34-35</td>\n      <td>20</td>\n      <td>28</td>\n      <td>25</td>\n      <td>мурзаева евгения</td>\n    </tr>\n    <tr>\n      <th>48</th>\n      <td>19</td>\n      <td>22</td>\n      <td>33</td>\n      <td>31</td>\n      <td>37</td>\n      <td>45-46</td>\n      <td>47</td>\n      <td>48</td>\n      <td>34-35</td>\n      <td>51</td>\n      <td>14</td>\n      <td>25</td>\n      <td>26</td>\n      <td>38</td>\n      <td>32</td>\n      <td>овчинников григорий</td>\n    </tr>\n    <tr>\n      <th>50</th>\n      <td>51</td>\n      <td>22</td>\n      <td>45-46</td>\n      <td>32</td>\n      <td>13</td>\n      <td>31</td>\n      <td>17</td>\n      <td>18</td>\n      <td>47</td>\n      <td>37</td>\n      <td>36</td>\n      <td>19</td>\n      <td>20</td>\n      <td>28</td>\n      <td>26</td>\n      <td>целищев максим</td>\n    </tr>\n    <tr>\n      <th>51</th>\n      <td>33</td>\n      <td>25</td>\n      <td>47</td>\n      <td>26</td>\n      <td>38</td>\n      <td>16</td>\n      <td>31</td>\n      <td>51</td>\n      <td>48</td>\n      <td>29</td>\n      <td>22</td>\n      <td>18</td>\n      <td>43</td>\n      <td>45-46</td>\n      <td>12</td>\n      <td>крылов артем</td>\n    </tr>\n    <tr>\n      <th>56</th>\n      <td>48</td>\n      <td>25</td>\n      <td>26</td>\n      <td>33</td>\n      <td>49</td>\n      <td>27</td>\n      <td>24</td>\n      <td>43</td>\n      <td>50</td>\n      <td>47</td>\n      <td>12</td>\n      <td>13</td>\n      <td>19</td>\n      <td>37</td>\n      <td>14</td>\n      <td>абазов руслан</td>\n    </tr>\n    <tr>\n      <th>58</th>\n      <td>50</td>\n      <td>25</td>\n      <td>26</td>\n      <td>20</td>\n      <td>33</td>\n      <td>34-35</td>\n      <td>37</td>\n      <td>22</td>\n      <td>23</td>\n      <td>24</td>\n      <td>51</td>\n      <td>12</td>\n      <td>19</td>\n      <td>38</td>\n      <td>23</td>\n      <td>анисимов максим</td>\n    </tr>\n    <tr>\n      <th>61</th>\n      <td>25</td>\n      <td>26</td>\n      <td>23</td>\n      <td>45-46</td>\n      <td>24</td>\n      <td>51</td>\n      <td>47</td>\n      <td>33</td>\n      <td>16</td>\n      <td>18</td>\n      <td>36</td>\n      <td>22</td>\n      <td>50</td>\n      <td>48</td>\n      <td>37</td>\n      <td>закиров дмитрий</td>\n    </tr>\n    <tr>\n      <th>63</th>\n      <td>25</td>\n      <td>26</td>\n      <td>34-35</td>\n      <td>12</td>\n      <td>37</td>\n      <td>50</td>\n      <td>38</td>\n      <td>47</td>\n      <td>51</td>\n      <td>24</td>\n      <td>32</td>\n      <td>23</td>\n      <td>28</td>\n      <td>45-46</td>\n      <td>29</td>\n      <td>иванов сергей</td>\n    </tr>\n    <tr>\n      <th>74</th>\n      <td>25</td>\n      <td>26</td>\n      <td>48</td>\n      <td>47</td>\n      <td>51</td>\n      <td>33</td>\n      <td>20</td>\n      <td>38</td>\n      <td>36</td>\n      <td>37</td>\n      <td>12</td>\n      <td>50</td>\n      <td>24</td>\n      <td>31</td>\n      <td>43</td>\n      <td>антонова дарья</td>\n    </tr>\n    <tr>\n      <th>75</th>\n      <td>28</td>\n      <td>26</td>\n      <td>25</td>\n      <td>33</td>\n      <td>47</td>\n      <td>22</td>\n      <td>37</td>\n      <td>51</td>\n      <td>39</td>\n      <td>16</td>\n      <td>50</td>\n      <td>18</td>\n      <td>38</td>\n      <td>45-46</td>\n      <td>13</td>\n      <td>хажиев роберт</td>\n    </tr>\n    <tr>\n      <th>79</th>\n      <td>33</td>\n      <td>26</td>\n      <td>47</td>\n      <td>28</td>\n      <td>31</td>\n      <td>43</td>\n      <td>12</td>\n      <td>25</td>\n      <td>40</td>\n      <td>51</td>\n      <td>45-46</td>\n      <td>22</td>\n      <td>29</td>\n      <td>39</td>\n      <td>14</td>\n      <td>макаров игорь</td>\n    </tr>\n    <tr>\n      <th>80</th>\n      <td>45-46</td>\n      <td>27</td>\n      <td>25</td>\n      <td>43</td>\n      <td>13</td>\n      <td>36</td>\n      <td>38</td>\n      <td>14</td>\n      <td>23</td>\n      <td>50</td>\n      <td>31</td>\n      <td>20</td>\n      <td>42</td>\n      <td>12</td>\n      <td>33</td>\n      <td>горбаренко анастасия</td>\n    </tr>\n    <tr>\n      <th>81</th>\n      <td>29</td>\n      <td>31</td>\n      <td>12</td>\n      <td>33</td>\n      <td>45-46</td>\n      <td>45-46</td>\n      <td>32</td>\n      <td>43</td>\n      <td>20</td>\n      <td>14</td>\n      <td>42</td>\n      <td>47</td>\n      <td>38</td>\n      <td>49</td>\n      <td>40</td>\n      <td>филистович илья</td>\n    </tr>\n    <tr>\n      <th>89</th>\n      <td>47</td>\n      <td>31</td>\n      <td>36</td>\n      <td>32</td>\n      <td>37</td>\n      <td>20</td>\n      <td>34-35</td>\n      <td>50</td>\n      <td>48</td>\n      <td>12</td>\n      <td>33</td>\n      <td>45-46</td>\n      <td>14</td>\n      <td>38</td>\n      <td>24</td>\n      <td>зубайдуллин ринат</td>\n    </tr>\n    <tr>\n      <th>90</th>\n      <td>48</td>\n      <td>31</td>\n      <td>33</td>\n      <td>47</td>\n      <td>26</td>\n      <td>44</td>\n      <td>45-46</td>\n      <td>28</td>\n      <td>50</td>\n      <td>32</td>\n      <td>43</td>\n      <td>22</td>\n      <td>23</td>\n      <td>38</td>\n      <td>20</td>\n      <td>вэлиулин вячеслав</td>\n    </tr>\n    <tr>\n      <th>94</th>\n      <td>26</td>\n      <td>32</td>\n      <td>18</td>\n      <td>29</td>\n      <td>20</td>\n      <td>25</td>\n      <td>14</td>\n      <td>28</td>\n      <td>31</td>\n      <td>43</td>\n      <td>38</td>\n      <td>36</td>\n      <td>33</td>\n      <td>37</td>\n      <td>47</td>\n      <td>кислицына полина</td>\n    </tr>\n    <tr>\n      <th>100</th>\n      <td>26</td>\n      <td>32</td>\n      <td>48</td>\n      <td>38</td>\n      <td>22</td>\n      <td>47</td>\n      <td>45-46</td>\n      <td>20</td>\n      <td>51</td>\n      <td>25</td>\n      <td>23</td>\n      <td>24</td>\n      <td>50</td>\n      <td>28</td>\n      <td>34-35</td>\n      <td>малинкович герман</td>\n    </tr>\n    <tr>\n      <th>101</th>\n      <td>22</td>\n      <td>33</td>\n      <td>25</td>\n      <td>34</td>\n      <td>35</td>\n      <td>29</td>\n      <td>28</td>\n      <td>18</td>\n      <td>48</td>\n      <td>17</td>\n      <td>23</td>\n      <td>24</td>\n      <td>27</td>\n      <td>36</td>\n      <td>32</td>\n      <td>запольская юлия</td>\n    </tr>\n    <tr>\n      <th>102</th>\n      <td>37</td>\n      <td>36</td>\n      <td>50</td>\n      <td>28</td>\n      <td>26</td>\n      <td>25</td>\n      <td>22</td>\n      <td>34-35</td>\n      <td>24</td>\n      <td>23</td>\n      <td>47</td>\n      <td>33</td>\n      <td>16</td>\n      <td>18</td>\n      <td>40</td>\n      <td>кузнецов дмитрий</td>\n    </tr>\n    <tr>\n      <th>105</th>\n      <td>50</td>\n      <td>37</td>\n      <td>33</td>\n      <td>38</td>\n      <td>51</td>\n      <td>25-26</td>\n      <td>48</td>\n      <td>22</td>\n      <td>45-46</td>\n      <td>47</td>\n      <td>29</td>\n      <td>43</td>\n      <td>18</td>\n      <td>16</td>\n      <td>54</td>\n      <td>мхитарян ваагн</td>\n    </tr>\n    <tr>\n      <th>118</th>\n      <td>22</td>\n      <td>38</td>\n      <td>47</td>\n      <td>51</td>\n      <td>26</td>\n      <td>31</td>\n      <td>33</td>\n      <td>13</td>\n      <td>50</td>\n      <td>28</td>\n      <td>39</td>\n      <td>29</td>\n      <td>37</td>\n      <td>24</td>\n      <td>56-57</td>\n      <td>касько константин</td>\n    </tr>\n    <tr>\n      <th>119</th>\n      <td>12</td>\n      <td>43</td>\n      <td>32</td>\n      <td>19</td>\n      <td>28</td>\n      <td>31</td>\n      <td>33</td>\n      <td>45-46</td>\n      <td>47</td>\n      <td>25</td>\n      <td>37</td>\n      <td>34-35</td>\n      <td>24</td>\n      <td>29</td>\n      <td>27</td>\n      <td>мусина айша</td>\n    </tr>\n    <tr>\n      <th>120</th>\n      <td>48</td>\n      <td>45-46</td>\n      <td>33</td>\n      <td>38</td>\n      <td>29</td>\n      <td>47</td>\n      <td>43</td>\n      <td>30</td>\n      <td>17</td>\n      <td>31</td>\n      <td>26</td>\n      <td>13</td>\n      <td>44</td>\n      <td>19</td>\n      <td>12</td>\n      <td>иванченко алена</td>\n    </tr>\n    <tr>\n      <th>121</th>\n      <td>28</td>\n      <td>47</td>\n      <td>23</td>\n      <td>39</td>\n      <td>29</td>\n      <td>17</td>\n      <td>24</td>\n      <td>20</td>\n      <td>26</td>\n      <td>51</td>\n      <td>33</td>\n      <td>25</td>\n      <td>16</td>\n      <td>30</td>\n      <td>18</td>\n      <td>шилоносова валентина</td>\n    </tr>\n    <tr>\n      <th>125</th>\n      <td>28</td>\n      <td>47</td>\n      <td>26</td>\n      <td>25</td>\n      <td>19</td>\n      <td>50</td>\n      <td>40</td>\n      <td>32</td>\n      <td>12</td>\n      <td>13</td>\n      <td>14</td>\n      <td>43</td>\n      <td>29</td>\n      <td>31</td>\n      <td>38</td>\n      <td>курченко лилия</td>\n    </tr>\n    <tr>\n      <th>126</th>\n      <td>37</td>\n      <td>47</td>\n      <td>33</td>\n      <td>50</td>\n      <td>38</td>\n      <td>32</td>\n      <td>39</td>\n      <td>22</td>\n      <td>48</td>\n      <td>51</td>\n      <td>26</td>\n      <td>29</td>\n      <td>31</td>\n      <td>17</td>\n      <td>12</td>\n      <td>тагиев станислав</td>\n    </tr>\n    <tr>\n      <th>127</th>\n      <td>50</td>\n      <td>47</td>\n      <td>37</td>\n      <td>48</td>\n      <td>33</td>\n      <td>25</td>\n      <td>26</td>\n      <td>22</td>\n      <td>51</td>\n      <td>28</td>\n      <td>49</td>\n      <td>56-57</td>\n      <td>31</td>\n      <td>17</td>\n      <td>29</td>\n      <td>юраков кирилл</td>\n    </tr>\n    <tr>\n      <th>130</th>\n      <td>51</td>\n      <td>47</td>\n      <td>31</td>\n      <td>13</td>\n      <td>40</td>\n      <td>23</td>\n      <td>24</td>\n      <td>29</td>\n      <td>48</td>\n      <td>16</td>\n      <td>17</td>\n      <td>25</td>\n      <td>33</td>\n      <td>32</td>\n      <td>38</td>\n      <td>борзунова алена</td>\n    </tr>\n    <tr>\n      <th>134</th>\n      <td>47</td>\n      <td>48</td>\n      <td>33</td>\n      <td>26</td>\n      <td>25</td>\n      <td>22</td>\n      <td>24</td>\n      <td>23</td>\n      <td>45-46</td>\n      <td>29</td>\n      <td>31</td>\n      <td>20</td>\n      <td>14</td>\n      <td>50</td>\n      <td>19</td>\n      <td>стержанова виталия</td>\n    </tr>\n    <tr>\n      <th>137</th>\n      <td>50</td>\n      <td>49</td>\n      <td>25</td>\n      <td>23</td>\n      <td>29</td>\n      <td>37</td>\n      <td>24</td>\n      <td>45-46</td>\n      <td>28</td>\n      <td>56-57</td>\n      <td>43</td>\n      <td>33</td>\n      <td>14</td>\n      <td>15</td>\n      <td>21</td>\n      <td>мировский слава</td>\n    </tr>\n    <tr>\n      <th>138</th>\n      <td>26</td>\n      <td>50</td>\n      <td>25</td>\n      <td>28</td>\n      <td>47</td>\n      <td>23</td>\n      <td>24</td>\n      <td>37</td>\n      <td>38</td>\n      <td>51</td>\n      <td>17</td>\n      <td>33</td>\n      <td>31</td>\n      <td>32</td>\n      <td>39</td>\n      <td>борзунова анастасия</td>\n    </tr>\n    <tr>\n      <th>140</th>\n      <td>27</td>\n      <td>50</td>\n      <td>23</td>\n      <td>24</td>\n      <td>45-46</td>\n      <td>26</td>\n      <td>49</td>\n      <td>28</td>\n      <td>47</td>\n      <td>22</td>\n      <td>29</td>\n      <td>25</td>\n      <td>31</td>\n      <td>33</td>\n      <td>44</td>\n      <td>кармастина яна</td>\n    </tr>\n    <tr>\n      <th>146</th>\n      <td>28</td>\n      <td>50</td>\n      <td>38</td>\n      <td>14</td>\n      <td>37</td>\n      <td>29</td>\n      <td>43</td>\n      <td>31</td>\n      <td>22</td>\n      <td>45</td>\n      <td>55</td>\n      <td>36</td>\n      <td>51</td>\n      <td>20</td>\n      <td>23</td>\n      <td>комаров олег</td>\n    </tr>\n    <tr>\n      <th>147</th>\n      <td>37</td>\n      <td>50</td>\n      <td>36</td>\n      <td>26</td>\n      <td>48</td>\n      <td>51</td>\n      <td>47</td>\n      <td>33</td>\n      <td>28</td>\n      <td>29</td>\n      <td>25</td>\n      <td>18</td>\n      <td>45</td>\n      <td>22</td>\n      <td>39</td>\n      <td>ипатов артем</td>\n    </tr>\n    <tr>\n      <th>151</th>\n      <td>54</td>\n      <td>52</td>\n      <td>55</td>\n      <td>27</td>\n      <td>12</td>\n      <td>38</td>\n      <td>14</td>\n      <td>13</td>\n      <td>29</td>\n      <td>30</td>\n      <td>31</td>\n      <td>43</td>\n      <td>45-46</td>\n      <td>50</td>\n      <td>48</td>\n      <td>фрыкина елена</td>\n    </tr>\n    <tr>\n      <th>154</th>\n      <td>54</td>\n      <td>53</td>\n      <td>52</td>\n      <td>55</td>\n      <td>30</td>\n      <td>32</td>\n      <td>45-46</td>\n      <td>45-46</td>\n      <td>23</td>\n      <td>24</td>\n      <td>14</td>\n      <td>13</td>\n      <td>19</td>\n      <td>33</td>\n      <td>12</td>\n      <td>берхольц виктория</td>\n    </tr>\n    <tr>\n      <th>155</th>\n      <td>55</td>\n      <td>54</td>\n      <td>53</td>\n      <td>52</td>\n      <td>31</td>\n      <td>22</td>\n      <td>51</td>\n      <td>38</td>\n      <td>32</td>\n      <td>25</td>\n      <td>26</td>\n      <td>14</td>\n      <td>15</td>\n      <td>18</td>\n      <td>37</td>\n      <td>хоменюк петр</td>\n    </tr>\n  </tbody>\n</table>\n</div>"
     },
     "execution_count": 209,
     "metadata": {},
     "output_type": "execute_result"
    }
   ],
   "source": [
    "students_choose_projects"
   ],
   "metadata": {
    "collapsed": false,
    "ExecuteTime": {
     "end_time": "2023-07-03T14:33:36.325297500Z",
     "start_time": "2023-07-03T14:33:36.259500900Z"
    }
   }
  },
  {
   "cell_type": "code",
   "execution_count": 210,
   "outputs": [],
   "source": [
    "cols = ['1 приоритет', '2 приоритет', '3 приоритет', '4 приоритет', '5 приоритет', '6 приоритет', '7 приоритет', '8 приоритет', '9 приоритет', '10 приоритет', '11 приоритет', '12 приоритет', '13 приоритет', '14 приоритет', '15 приоритет']\n",
    "lst_of_all_projects = pd.concat([students_choose_projects[col] for col in cols]).unique()\n",
    "#lst_of_all_projects"
   ],
   "metadata": {
    "collapsed": false,
    "ExecuteTime": {
     "end_time": "2023-07-03T14:33:37.875988200Z",
     "start_time": "2023-07-03T14:33:37.828594100Z"
    }
   }
  },
  {
   "cell_type": "code",
   "execution_count": 211,
   "outputs": [],
   "source": [
    "applicants = []\n",
    "for _, row in students_choose_projects.iterrows():\n",
    "    name = row['фамилия + имя']  # Использование столбца 'Фамилия + имя' из students_choose_projects\n",
    "    projects = []\n",
    "    for i in range(1, 16):  # Итерация по столбцам с приоритетами ('1 приоритет', '2 приоритет', ..., '15 приоритет')\n",
    "        project = row[str(i) + ' приоритет']  # Получение значения приоритета проекта\n",
    "        projects.append(project)\n",
    "\n",
    "    remaining_projects = set(lst_of_all_projects) - set(projects)\n",
    "    projects += list(remaining_projects)\n",
    "\n",
    "    applicant = Applicant(name, projects)\n",
    "    applicants.append(applicant)"
   ],
   "metadata": {
    "collapsed": false,
    "ExecuteTime": {
     "end_time": "2023-07-03T14:33:39.467085400Z",
     "start_time": "2023-07-03T14:33:39.462371200Z"
    }
   }
  },
  {
   "cell_type": "code",
   "execution_count": 212,
   "outputs": [],
   "source": [
    "projects = {}\n",
    "for project_number in lst_of_all_projects:\n",
    "    name = str(project_number)\n",
    "    capacity = 2 if name == '48' else 1  # Устанавливаем capacity=2 для проекта с номером '48', иначе capacity=1\n",
    "    students = list(ratings['фамилия + имя'])  # Заполняем список студентов из столбца 'фамилия + имя' в DataFrame ratings\n",
    "    project = Project(name, capacity, students)\n",
    "    projects[name] = project"
   ],
   "metadata": {
    "collapsed": false,
    "ExecuteTime": {
     "end_time": "2023-07-03T14:33:41.122894900Z",
     "start_time": "2023-07-03T14:33:41.076301100Z"
    }
   }
  },
  {
   "cell_type": "code",
   "execution_count": 213,
   "outputs": [],
   "source": [
    "matches = gale_shapley(applicants, projects)\n",
    "\n",
    "#[print(elem[0].name, elem[1].name) for elem in matches]"
   ],
   "metadata": {
    "collapsed": false,
    "ExecuteTime": {
     "end_time": "2023-07-03T14:33:43.828739900Z",
     "start_time": "2023-07-03T14:33:43.809360500Z"
    }
   }
  },
  {
   "cell_type": "code",
   "execution_count": 217,
   "outputs": [
    {
     "name": "stdout",
     "output_type": "stream",
     "text": [
      "хури полина <__main__.Project object at 0x000001AC58822DA0>\n",
      "исламуратов марат <__main__.Project object at 0x000001AC58823940>\n",
      "алейникова дарья <__main__.Project object at 0x000001AC588218A0>\n",
      "ревнивцев андрей <__main__.Project object at 0x000001AC58822320>\n",
      "бурзунов данил <__main__.Project object at 0x000001AC58822B60>\n",
      "головач максим <__main__.Project object at 0x000001AC58C38190>\n",
      "нестерович светлана <__main__.Project object at 0x000001AC58C39300>\n",
      "мурзаева евгения <__main__.Project object at 0x000001AC58C38190>\n",
      "овчинников григорий <__main__.Project object at 0x000001AC58C38FA0>\n",
      "целищев максим <__main__.Project object at 0x000001AC58C3B430>\n",
      "крылов артем <__main__.Project object at 0x000001AC58C3A230>\n",
      "абазов руслан <__main__.Project object at 0x000001AC58C3AB60>\n",
      "анисимов максим <__main__.Project object at 0x000001AC58C3AC80>\n",
      "закиров дмитрий <__main__.Project object at 0x000001AC58C3A350>\n",
      "иванов сергей <__main__.Project object at 0x000001AC58C3A980>\n",
      "антонова дарья <__main__.Project object at 0x000001AC58C39F60>\n",
      "хажиев роберт <__main__.Project object at 0x000001AC58C39390>\n",
      "макаров игорь <__main__.Project object at 0x000001AC58C3A530>\n",
      "горбаренко анастасия <__main__.Project object at 0x000001AC58C383D0>\n",
      "филистович илья <__main__.Project object at 0x000001AC58C39600>\n",
      "зубайдуллин ринат <__main__.Project object at 0x000001AC58C3AFB0>\n",
      "вэлиулин вячеслав <__main__.Project object at 0x000001AC58C39EA0>\n",
      "кислицына полина <__main__.Project object at 0x000001AC58C3B610>\n",
      "малинкович герман <__main__.Project object at 0x000001AC58C38580>\n",
      "запольская юлия <__main__.Project object at 0x000001AC58C3B8E0>\n",
      "кузнецов дмитрий <__main__.Project object at 0x000001AC58C3B6D0>\n",
      "мхитарян ваагн <__main__.Project object at 0x000001AC58C3A3E0>\n",
      "касько константин <__main__.Project object at 0x000001AC58C380D0>\n",
      "мусина айша <__main__.Project object at 0x000001AC58C3AB30>\n",
      "иванченко алена <__main__.Project object at 0x000001AC58C3A890>\n",
      "шилоносова валентина <__main__.Project object at 0x000001AC58C3B0D0>\n",
      "курченко лилия <__main__.Project object at 0x000001AC58C39510>\n",
      "тагиев станислав <__main__.Project object at 0x000001AC58C38A90>\n",
      "юраков кирилл <__main__.Project object at 0x000001AC58C39450>\n",
      "борзунова алена <__main__.Project object at 0x000001AC58C3B160>\n",
      "стержанова виталия <__main__.Project object at 0x000001AC58C3A320>\n",
      "мировский слава <__main__.Project object at 0x000001AC58C3AAA0>\n",
      "борзунова анастасия <__main__.Project object at 0x000001AC58C38280>\n",
      "кармастина яна <__main__.Project object at 0x000001AC58C3A5F0>\n",
      "комаров олег <__main__.Project object at 0x000001AC58C3B520>\n",
      "ипатов артем <__main__.Project object at 0x000001AC58C3B880>\n",
      "фрыкина елена <__main__.Project object at 0x000001AC58C394B0>\n",
      "берхольц виктория <__main__.Project object at 0x000001AC58C38310>\n",
      "хоменюк петр <__main__.Project object at 0x000001AC58C3A050>\n"
     ]
    },
    {
     "data": {
      "text/plain": "[None,\n None,\n None,\n None,\n None,\n None,\n None,\n None,\n None,\n None,\n None,\n None,\n None,\n None,\n None,\n None,\n None,\n None,\n None,\n None,\n None,\n None,\n None,\n None,\n None,\n None,\n None,\n None,\n None,\n None,\n None,\n None,\n None,\n None,\n None,\n None,\n None,\n None,\n None,\n None,\n None,\n None,\n None,\n None]"
     },
     "execution_count": 217,
     "metadata": {},
     "output_type": "execute_result"
    }
   ],
   "source": [
    "[print(elem[0].name, elem[0].partner) for elem in matches]"
   ],
   "metadata": {
    "collapsed": false,
    "ExecuteTime": {
     "end_time": "2023-07-03T14:34:30.437897900Z",
     "start_time": "2023-07-03T14:34:30.400683900Z"
    }
   }
  },
  {
   "cell_type": "code",
   "execution_count": 218,
   "outputs": [
    {
     "name": "stdout",
     "output_type": "stream",
     "text": [
      "<__main__.Applicant object at 0x000001AC5764DDB0> <__main__.Project object at 0x000001AC58822DA0>\n",
      "<__main__.Applicant object at 0x000001AC58822CB0> <__main__.Project object at 0x000001AC58823940>\n",
      "<__main__.Applicant object at 0x000001AC5764C580> <__main__.Project object at 0x000001AC588218A0>\n",
      "<__main__.Applicant object at 0x000001AC5764C640> <__main__.Project object at 0x000001AC58822320>\n",
      "<__main__.Applicant object at 0x000001AC5764E470> <__main__.Project object at 0x000001AC58822B60>\n",
      "<__main__.Applicant object at 0x000001AC5764C6A0> <__main__.Project object at 0x000001AC58C38190>\n",
      "<__main__.Applicant object at 0x000001AC573704F0> <__main__.Project object at 0x000001AC58C39300>\n",
      "<__main__.Applicant object at 0x000001AC57371B10> <__main__.Project object at 0x000001AC58C38190>\n",
      "<__main__.Applicant object at 0x000001AC5764C1F0> <__main__.Project object at 0x000001AC58C38FA0>\n",
      "<__main__.Applicant object at 0x000001AC5764DA20> <__main__.Project object at 0x000001AC58C3B430>\n",
      "<__main__.Applicant object at 0x000001AC5764D000> <__main__.Project object at 0x000001AC58C3A230>\n",
      "<__main__.Applicant object at 0x000001AC5764D930> <__main__.Project object at 0x000001AC58C3AB60>\n",
      "<__main__.Applicant object at 0x000001AC5764FC40> <__main__.Project object at 0x000001AC58C3AC80>\n",
      "<__main__.Applicant object at 0x000001AC58C39360> <__main__.Project object at 0x000001AC58C3A350>\n",
      "<__main__.Applicant object at 0x000001AC58C382E0> <__main__.Project object at 0x000001AC58C3A980>\n",
      "<__main__.Applicant object at 0x000001AC58C38820> <__main__.Project object at 0x000001AC58C39F60>\n",
      "<__main__.Applicant object at 0x000001AC58C38790> <__main__.Project object at 0x000001AC58C39390>\n",
      "<__main__.Applicant object at 0x000001AC58C3AA10> <__main__.Project object at 0x000001AC58C3A530>\n",
      "<__main__.Applicant object at 0x000001AC58C395A0> <__main__.Project object at 0x000001AC58C383D0>\n",
      "<__main__.Applicant object at 0x000001AC58C3AC50> <__main__.Project object at 0x000001AC58C39600>\n",
      "<__main__.Applicant object at 0x000001AC58C386A0> <__main__.Project object at 0x000001AC58C3AFB0>\n",
      "<__main__.Applicant object at 0x000001AC58C381C0> <__main__.Project object at 0x000001AC58C39EA0>\n",
      "<__main__.Applicant object at 0x000001AC58C3A860> <__main__.Project object at 0x000001AC58C3B610>\n",
      "<__main__.Applicant object at 0x000001AC5871B700> <__main__.Project object at 0x000001AC58C38580>\n",
      "<__main__.Applicant object at 0x000001AC589EA500> <__main__.Project object at 0x000001AC58C3B8E0>\n",
      "<__main__.Applicant object at 0x000001AC58786C20> <__main__.Project object at 0x000001AC58C3B6D0>\n",
      "<__main__.Applicant object at 0x000001AC573725F0> <__main__.Project object at 0x000001AC58C3A3E0>\n",
      "<__main__.Applicant object at 0x000001AC57373E50> <__main__.Project object at 0x000001AC58C380D0>\n",
      "<__main__.Applicant object at 0x000001AC57372290> <__main__.Project object at 0x000001AC58C3AB30>\n",
      "<__main__.Applicant object at 0x000001AC57373190> <__main__.Project object at 0x000001AC58C3A890>\n",
      "<__main__.Applicant object at 0x000001AC573734C0> <__main__.Project object at 0x000001AC58C3B0D0>\n",
      "<__main__.Applicant object at 0x000001AC57370B20> <__main__.Project object at 0x000001AC58C39510>\n",
      "<__main__.Applicant object at 0x000001AC57373EE0> <__main__.Project object at 0x000001AC58C38A90>\n",
      "<__main__.Applicant object at 0x000001AC57370A00> <__main__.Project object at 0x000001AC58C39450>\n",
      "<__main__.Applicant object at 0x000001AC57373760> <__main__.Project object at 0x000001AC58C3B160>\n",
      "<__main__.Applicant object at 0x000001AC57370AF0> <__main__.Project object at 0x000001AC58C3A320>\n",
      "<__main__.Applicant object at 0x000001AC57370310> <__main__.Project object at 0x000001AC58C3AAA0>\n",
      "<__main__.Applicant object at 0x000001AC57372650> <__main__.Project object at 0x000001AC58C38280>\n",
      "<__main__.Applicant object at 0x000001AC57373310> <__main__.Project object at 0x000001AC58C3A5F0>\n",
      "<__main__.Applicant object at 0x000001AC57373850> <__main__.Project object at 0x000001AC58C3B520>\n",
      "<__main__.Applicant object at 0x000001AC57373A30> <__main__.Project object at 0x000001AC58C3B880>\n",
      "<__main__.Applicant object at 0x000001AC57370C40> <__main__.Project object at 0x000001AC58C394B0>\n",
      "<__main__.Applicant object at 0x000001AC573706A0> <__main__.Project object at 0x000001AC58C38310>\n",
      "<__main__.Applicant object at 0x000001AC58C38CD0> <__main__.Project object at 0x000001AC58C3A050>\n"
     ]
    },
    {
     "data": {
      "text/plain": "[None,\n None,\n None,\n None,\n None,\n None,\n None,\n None,\n None,\n None,\n None,\n None,\n None,\n None,\n None,\n None,\n None,\n None,\n None,\n None,\n None,\n None,\n None,\n None,\n None,\n None,\n None,\n None,\n None,\n None,\n None,\n None,\n None,\n None,\n None,\n None,\n None,\n None,\n None,\n None,\n None,\n None,\n None,\n None]"
     },
     "execution_count": 218,
     "metadata": {},
     "output_type": "execute_result"
    }
   ],
   "source": [
    "[print(elem[0], elem[1]) for elem in matches]"
   ],
   "metadata": {
    "collapsed": false,
    "ExecuteTime": {
     "end_time": "2023-07-03T14:34:42.098117Z",
     "start_time": "2023-07-03T14:34:42.080360900Z"
    }
   }
  },
  {
   "cell_type": "code",
   "execution_count": 190,
   "outputs": [
    {
     "data": {
      "text/plain": "           фамилия + имя  Итоговая сумма\n76         хажиев роберт        27.00000\n7        мировский слава        27.00000\n1      зубайдуллин ринат        26.00000\n10      алейникова дарья        26.00000\n57   овчинников григорий        26.00000\n52      мурзаева евгения        26.00000\n41          крылов артем        26.00000\n32       иванченко алена        25.00000\n68      тагиев станислав        25.00000\n16     берхольц виктория        25.00000\n59      ревнивцев андрей        25.00000\n2      вэлиулин вячеслав        25.00000\n11       анисимов максим        24.44186\n72       филистович илья        24.00000\n48     малинкович герман        24.00000\n35        кармастина яна        24.00000\n97         юраков кирилл        24.00000\n31         иванов сергей        24.00000\n6       кислицына полина        24.00000\n46          ланцман ефим        23.00000\n86  шилоносова валентина        23.00000\n30       запольская юлия        23.00000\n84        целищев максим        23.00000\n18       борзунова алена        23.00000\n56   нестерович светлана        23.00000\n47         макаров игорь        23.00000\n54        мхитарян ваагн        22.44186\n45        курченко лилия        22.00000\n17   борзунова анастасия        22.00000\n81          хоменюк петр        22.00000\n28       закиров дмитрий        22.00000\n75         фрыкина елена        22.00000\n25        головач максим        22.00000\n61    стержанова виталия        22.00000\n38          комаров олег        22.00000\n53           мусина айша        22.00000\n33          ипатов артем        21.00000\n22        бурзунов данил        21.00000\n13        антонова дарья        21.00000\n42      кузнецов дмитрий        20.00000\n8          абазов руслан        20.00000\n26  горбаренко анастасия        19.00000\n36     касько константин        19.00000\n34     исламуратов марат        19.00000\n83           хури полина        18.00000",
      "text/html": "<div>\n<style scoped>\n    .dataframe tbody tr th:only-of-type {\n        vertical-align: middle;\n    }\n\n    .dataframe tbody tr th {\n        vertical-align: top;\n    }\n\n    .dataframe thead th {\n        text-align: right;\n    }\n</style>\n<table border=\"1\" class=\"dataframe\">\n  <thead>\n    <tr style=\"text-align: right;\">\n      <th></th>\n      <th>фамилия + имя</th>\n      <th>Итоговая сумма</th>\n    </tr>\n  </thead>\n  <tbody>\n    <tr>\n      <th>76</th>\n      <td>хажиев роберт</td>\n      <td>27.00000</td>\n    </tr>\n    <tr>\n      <th>7</th>\n      <td>мировский слава</td>\n      <td>27.00000</td>\n    </tr>\n    <tr>\n      <th>1</th>\n      <td>зубайдуллин ринат</td>\n      <td>26.00000</td>\n    </tr>\n    <tr>\n      <th>10</th>\n      <td>алейникова дарья</td>\n      <td>26.00000</td>\n    </tr>\n    <tr>\n      <th>57</th>\n      <td>овчинников григорий</td>\n      <td>26.00000</td>\n    </tr>\n    <tr>\n      <th>52</th>\n      <td>мурзаева евгения</td>\n      <td>26.00000</td>\n    </tr>\n    <tr>\n      <th>41</th>\n      <td>крылов артем</td>\n      <td>26.00000</td>\n    </tr>\n    <tr>\n      <th>32</th>\n      <td>иванченко алена</td>\n      <td>25.00000</td>\n    </tr>\n    <tr>\n      <th>68</th>\n      <td>тагиев станислав</td>\n      <td>25.00000</td>\n    </tr>\n    <tr>\n      <th>16</th>\n      <td>берхольц виктория</td>\n      <td>25.00000</td>\n    </tr>\n    <tr>\n      <th>59</th>\n      <td>ревнивцев андрей</td>\n      <td>25.00000</td>\n    </tr>\n    <tr>\n      <th>2</th>\n      <td>вэлиулин вячеслав</td>\n      <td>25.00000</td>\n    </tr>\n    <tr>\n      <th>11</th>\n      <td>анисимов максим</td>\n      <td>24.44186</td>\n    </tr>\n    <tr>\n      <th>72</th>\n      <td>филистович илья</td>\n      <td>24.00000</td>\n    </tr>\n    <tr>\n      <th>48</th>\n      <td>малинкович герман</td>\n      <td>24.00000</td>\n    </tr>\n    <tr>\n      <th>35</th>\n      <td>кармастина яна</td>\n      <td>24.00000</td>\n    </tr>\n    <tr>\n      <th>97</th>\n      <td>юраков кирилл</td>\n      <td>24.00000</td>\n    </tr>\n    <tr>\n      <th>31</th>\n      <td>иванов сергей</td>\n      <td>24.00000</td>\n    </tr>\n    <tr>\n      <th>6</th>\n      <td>кислицына полина</td>\n      <td>24.00000</td>\n    </tr>\n    <tr>\n      <th>46</th>\n      <td>ланцман ефим</td>\n      <td>23.00000</td>\n    </tr>\n    <tr>\n      <th>86</th>\n      <td>шилоносова валентина</td>\n      <td>23.00000</td>\n    </tr>\n    <tr>\n      <th>30</th>\n      <td>запольская юлия</td>\n      <td>23.00000</td>\n    </tr>\n    <tr>\n      <th>84</th>\n      <td>целищев максим</td>\n      <td>23.00000</td>\n    </tr>\n    <tr>\n      <th>18</th>\n      <td>борзунова алена</td>\n      <td>23.00000</td>\n    </tr>\n    <tr>\n      <th>56</th>\n      <td>нестерович светлана</td>\n      <td>23.00000</td>\n    </tr>\n    <tr>\n      <th>47</th>\n      <td>макаров игорь</td>\n      <td>23.00000</td>\n    </tr>\n    <tr>\n      <th>54</th>\n      <td>мхитарян ваагн</td>\n      <td>22.44186</td>\n    </tr>\n    <tr>\n      <th>45</th>\n      <td>курченко лилия</td>\n      <td>22.00000</td>\n    </tr>\n    <tr>\n      <th>17</th>\n      <td>борзунова анастасия</td>\n      <td>22.00000</td>\n    </tr>\n    <tr>\n      <th>81</th>\n      <td>хоменюк петр</td>\n      <td>22.00000</td>\n    </tr>\n    <tr>\n      <th>28</th>\n      <td>закиров дмитрий</td>\n      <td>22.00000</td>\n    </tr>\n    <tr>\n      <th>75</th>\n      <td>фрыкина елена</td>\n      <td>22.00000</td>\n    </tr>\n    <tr>\n      <th>25</th>\n      <td>головач максим</td>\n      <td>22.00000</td>\n    </tr>\n    <tr>\n      <th>61</th>\n      <td>стержанова виталия</td>\n      <td>22.00000</td>\n    </tr>\n    <tr>\n      <th>38</th>\n      <td>комаров олег</td>\n      <td>22.00000</td>\n    </tr>\n    <tr>\n      <th>53</th>\n      <td>мусина айша</td>\n      <td>22.00000</td>\n    </tr>\n    <tr>\n      <th>33</th>\n      <td>ипатов артем</td>\n      <td>21.00000</td>\n    </tr>\n    <tr>\n      <th>22</th>\n      <td>бурзунов данил</td>\n      <td>21.00000</td>\n    </tr>\n    <tr>\n      <th>13</th>\n      <td>антонова дарья</td>\n      <td>21.00000</td>\n    </tr>\n    <tr>\n      <th>42</th>\n      <td>кузнецов дмитрий</td>\n      <td>20.00000</td>\n    </tr>\n    <tr>\n      <th>8</th>\n      <td>абазов руслан</td>\n      <td>20.00000</td>\n    </tr>\n    <tr>\n      <th>26</th>\n      <td>горбаренко анастасия</td>\n      <td>19.00000</td>\n    </tr>\n    <tr>\n      <th>36</th>\n      <td>касько константин</td>\n      <td>19.00000</td>\n    </tr>\n    <tr>\n      <th>34</th>\n      <td>исламуратов марат</td>\n      <td>19.00000</td>\n    </tr>\n    <tr>\n      <th>83</th>\n      <td>хури полина</td>\n      <td>18.00000</td>\n    </tr>\n  </tbody>\n</table>\n</div>"
     },
     "execution_count": 190,
     "metadata": {},
     "output_type": "execute_result"
    }
   ],
   "source": [
    "ratings"
   ],
   "metadata": {
    "collapsed": false,
    "ExecuteTime": {
     "end_time": "2023-07-03T14:32:46.534772300Z",
     "start_time": "2023-07-03T14:32:46.292681100Z"
    }
   }
  },
  {
   "cell_type": "code",
   "execution_count": 219,
   "outputs": [
    {
     "data": {
      "text/plain": "'среднее место проекта у студентов: 5.364, среднее место студентов у проектов: 23.151'"
     },
     "execution_count": 219,
     "metadata": {},
     "output_type": "execute_result"
    }
   ],
   "source": [
    "def metrics(matches):\n",
    "    ind_of_recieved_projects = [matches[i][0].preferences_of_school.index(matches[i][1].name) + 1 for i in\n",
    "                                range(len(matches))]\n",
    "\n",
    "    ind_of_recieved_students_by_project = defaultdict(list)\n",
    "    for elem in matches:\n",
    "        ind_of_recieved_students_by_project[elem[1].name].append(\n",
    "            elem[1].preferences_of_students.index(elem[0].name) + 1)\n",
    "    return f'среднее место проекта у студентов: {np.mean(ind_of_recieved_projects):.3f}, среднее место студентов у проектов: {np.mean(list(map(np.mean, ind_of_recieved_students_by_project.values()))):.3f}'\n",
    "\n",
    "\n",
    "metrics(matches)"
   ],
   "metadata": {
    "collapsed": false,
    "ExecuteTime": {
     "end_time": "2023-07-03T14:34:54.927285900Z",
     "start_time": "2023-07-03T14:34:54.902430100Z"
    }
   }
  },
  {
   "cell_type": "code",
   "execution_count": 220,
   "outputs": [],
   "source": [
    "raspredelenie = pd.read_excel('Студенты по локациям 2023.xlsx', sheet_name='Распределение студентов')\n",
    "df = pd.DataFrame(raspredelenie, columns=['Unnamed: 3', 'Unnamed: 7'])\n",
    "df['фамилия + имя'] = df['Unnamed: 3'].str.lower()\n",
    "df = df.drop('Unnamed: 3', axis=1)\n",
    "df = df.rename(columns={'Unnamed: 7': 'проект'})\n",
    "\n",
    "df['Word Count'] = df['фамилия + имя'].str.split().str.len()\n",
    "df_first = df[df['Word Count'] == 2].drop('Word Count', axis=1)\n",
    "##\n",
    "df = pd.DataFrame(raspredelenie, columns=['Unnamed: 15', 'Unnamed: 19'])\n",
    "df['фамилия + имя'] = df['Unnamed: 15'].str.lower()\n",
    "df = df.drop('Unnamed: 15', axis=1)\n",
    "df = df.rename(columns={'Unnamed: 19': 'проект'})\n",
    "\n",
    "df['Word Count'] = df['фамилия + имя'].str.split().str.len()\n",
    "df_second = df[df['Word Count'] == 2].drop('Word Count', axis=1)\n",
    "\n",
    "##\n",
    "\n",
    "cur_raspredelenie = pd.concat([df_first, df_second], axis=0)\n",
    "cur_raspredelenie['проект'] = cur_raspredelenie['проект'].astype(str)\n",
    "cur_raspredelenie['фамилия + имя'] = cur_raspredelenie['фамилия + имя'].str.replace('ё', 'е').str.strip()"
   ],
   "metadata": {
    "collapsed": false,
    "ExecuteTime": {
     "end_time": "2023-07-03T14:34:57.782846Z",
     "start_time": "2023-07-03T14:34:57.676886800Z"
    }
   }
  },
  {
   "cell_type": "code",
   "execution_count": 221,
   "outputs": [],
   "source": [
    "dict_with_raspredelenie = cur_raspredelenie.set_index('фамилия + имя')['проект'].to_dict()"
   ],
   "metadata": {
    "collapsed": false,
    "ExecuteTime": {
     "end_time": "2023-07-03T14:35:00.507244700Z",
     "start_time": "2023-07-03T14:35:00.498969700Z"
    }
   }
  },
  {
   "cell_type": "code",
   "execution_count": 222,
   "outputs": [],
   "source": [
    "cur_matches = matches.copy()"
   ],
   "metadata": {
    "collapsed": false,
    "ExecuteTime": {
     "end_time": "2023-07-03T14:35:02.457785Z",
     "start_time": "2023-07-03T14:35:02.448444Z"
    }
   }
  },
  {
   "cell_type": "code",
   "execution_count": 195,
   "outputs": [],
   "source": [
    "#dict_with_raspredelenie"
   ],
   "metadata": {
    "collapsed": false,
    "ExecuteTime": {
     "end_time": "2023-07-03T14:32:46.585661200Z",
     "start_time": "2023-07-03T14:32:46.495682900Z"
    }
   }
  },
  {
   "cell_type": "code",
   "execution_count": 227,
   "outputs": [
    {
     "name": "stdout",
     "output_type": "stream",
     "text": [
      "хури полина 19\n",
      "исламуратов марат 25\n",
      "алейникова дарья 14\n",
      "ревнивцев андрей 20\n",
      "бурзунов данил 36\n",
      "головач максим 48\n",
      "нестерович светлана 45-46\n",
      "мурзаева евгения 48\n",
      "овчинников григорий 57\n",
      "целищев максим 51\n",
      "крылов артем 33\n",
      "абазов руслан 24\n",
      "анисимов максим 50\n",
      "закиров дмитрий 23\n",
      "иванов сергей 34-35\n",
      "антонова дарья 34\n",
      "хажиев роберт 28\n",
      "макаров игорь 44\n",
      "горбаренко анастасия 43\n",
      "филистович илья 29\n",
      "зубайдуллин ринат 47\n",
      "вэлиулин вячеслав 31\n",
      "кислицына полина 26\n",
      "малинкович герман 32\n",
      "запольская юлия 22\n",
      "кузнецов дмитрий 37\n",
      "мхитарян ваагн 25-26\n",
      "касько константин 38\n",
      "мусина айша 12\n",
      "иванченко алена 30\n",
      "шилоносова валентина 39\n",
      "курченко лилия 40\n",
      "тагиев станислав 42\n",
      "юраков кирилл 56-57\n",
      "борзунова алена 13\n",
      "стержанова виталия 56\n",
      "мировский слава 49\n",
      "борзунова анастасия 17\n",
      "кармастина яна 27\n",
      "комаров олег 45\n",
      "ипатов артем 18\n",
      "фрыкина елена 54\n",
      "берхольц виктория 53\n",
      "хоменюк петр 55\n"
     ]
    }
   ],
   "source": [
    "for i in range(len(cur_matches)):\n",
    "    print(cur_matches[i][0].name, cur_matches[i][0].partner.name)"
   ],
   "metadata": {
    "collapsed": false,
    "ExecuteTime": {
     "end_time": "2023-07-03T14:35:43.782172300Z",
     "start_time": "2023-07-03T14:35:43.772983100Z"
    }
   }
  },
  {
   "cell_type": "code",
   "execution_count": 197,
   "outputs": [
    {
     "data": {
      "text/plain": "[[<__main__.Applicant at 0x1ac58bf8fa0>, <__main__.Project at 0x1ac5764dfc0>],\n [<__main__.Applicant at 0x1ac58be9d20>, <__main__.Project at 0x1ac5764d6c0>],\n [<__main__.Applicant at 0x1ac58bf9930>, <__main__.Project at 0x1ac5764ce20>],\n [<__main__.Applicant at 0x1ac58bf86a0>, <__main__.Project at 0x1ac5764dde0>],\n [<__main__.Applicant at 0x1ac574c8b80>, <__main__.Project at 0x1ac5764c700>],\n [<__main__.Applicant at 0x1ac574cae90>, <__main__.Project at 0x1ac58be8a30>],\n [<__main__.Applicant at 0x1ac58bf9180>, <__main__.Project at 0x1ac5764cf70>],\n [<__main__.Applicant at 0x1ac58bfaa40>, <__main__.Project at 0x1ac5764c490>],\n [<__main__.Applicant at 0x1ac58bfae90>, <__main__.Project at 0x1ac58be96f0>],\n [<__main__.Applicant at 0x1ac58bfb250>, <__main__.Project at 0x1ac5764df90>],\n [<__main__.Applicant at 0x1ac58bfa9e0>, <__main__.Project at 0x1ac58be8040>],\n [<__main__.Applicant at 0x1ac5764cac0>, <__main__.Project at 0x1ac5764c790>],\n [<__main__.Applicant at 0x1ac5764d120>, <__main__.Project at 0x1ac5764c0a0>],\n [<__main__.Applicant at 0x1ac5764d3c0>, <__main__.Project at 0x1ac5764d8a0>],\n [<__main__.Applicant at 0x1ac5764c190>, <__main__.Project at 0x1ac5764d6c0>],\n [<__main__.Applicant at 0x1ac5764e170>, <__main__.Project at 0x1ac5764ded0>],\n [<__main__.Applicant at 0x1ac5764c670>, <__main__.Project at 0x1ac5764e440>],\n [<__main__.Applicant at 0x1ac5764d990>, <__main__.Project at 0x1ac5764e0e0>],\n [<__main__.Applicant at 0x1ac5764d1b0>, <__main__.Project at 0x1ac5764df90>],\n [<__main__.Applicant at 0x1ac5764d2a0>, <__main__.Project at 0x1ac5764ce50>],\n [<__main__.Applicant at 0x1ac5764c160>, <__main__.Project at 0x1ac5764d330>],\n [<__main__.Applicant at 0x1ac5764ccd0>, <__main__.Project at 0x1ac5764c370>],\n [<__main__.Applicant at 0x1ac58bebbe0>, <__main__.Project at 0x1ac5764c4c0>],\n [<__main__.Applicant at 0x1ac5764df30>, <__main__.Project at 0x1ac5764ceb0>],\n [<__main__.Applicant at 0x1ac5764e1d0>, <__main__.Project at 0x1ac5764ca30>],\n [<__main__.Applicant at 0x1ac5764d900>, <__main__.Project at 0x1ac5764e140>],\n [<__main__.Applicant at 0x1ac5764c340>, <__main__.Project at 0x1ac5764c280>],\n [<__main__.Applicant at 0x1ac5764dc00>, <__main__.Project at 0x1ac5764d0c0>],\n [<__main__.Applicant at 0x1ac5764c460>, <__main__.Project at 0x1ac5764d570>],\n [<__main__.Applicant at 0x1ac5764d720>, <__main__.Project at 0x1ac5764d3f0>],\n [<__main__.Applicant at 0x1ac5764d210>, <__main__.Project at 0x1ac5764dba0>],\n [<__main__.Applicant at 0x1ac5764c820>, <__main__.Project at 0x1ac5764d150>],\n [<__main__.Applicant at 0x1ac5764ffa0>, <__main__.Project at 0x1ac5764dd50>],\n [<__main__.Applicant at 0x1ac5764d240>, <__main__.Project at 0x1ac5764dc30>],\n [<__main__.Applicant at 0x1ac5764d7b0>, <__main__.Project at 0x1ac5764d600>],\n [<__main__.Applicant at 0x1ac5764de70>, <__main__.Project at 0x1ac5764c490>],\n [<__main__.Applicant at 0x1ac5764c310>, <__main__.Project at 0x1ac5764c400>],\n [<__main__.Applicant at 0x1ac5764d8d0>, <__main__.Project at 0x1ac5764cfd0>],\n [<__main__.Applicant at 0x1ac5764dd20>, <__main__.Project at 0x1ac5764cca0>],\n [<__main__.Applicant at 0x1ac5764d300>, <__main__.Project at 0x1ac5764db40>],\n [<__main__.Applicant at 0x1ac5764e260>, <__main__.Project at 0x1ac5764cdf0>],\n [<__main__.Applicant at 0x1ac5764d540>, <__main__.Project at 0x1ac5764cd00>],\n [<__main__.Applicant at 0x1ac5764c760>, <__main__.Project at 0x1ac5764cee0>],\n [<__main__.Applicant at 0x1ac5764d690>, <__main__.Project at 0x1ac5764dd80>]]"
     },
     "execution_count": 197,
     "metadata": {},
     "output_type": "execute_result"
    }
   ],
   "source": [
    "for i in range(len(cur_matches)):\n",
    "    cur_matches[i][1] = projects[dict_with_raspredelenie[cur_matches[i][0].name]]\n",
    "    cur_matches[i][0].partner = projects[dict_with_raspredelenie[cur_matches[i][0].name]]\n",
    "cur_matches"
   ],
   "metadata": {
    "collapsed": false,
    "ExecuteTime": {
     "end_time": "2023-07-03T14:32:46.754321900Z",
     "start_time": "2023-07-03T14:32:46.536316800Z"
    }
   }
  },
  {
   "cell_type": "code",
   "execution_count": 201,
   "outputs": [
    {
     "name": "stdout",
     "output_type": "stream",
     "text": [
      "хури полина 12\n",
      "исламуратов марат 34-35\n",
      "алейникова дарья 49\n",
      "ревнивцев андрей 20\n",
      "бурзунов данил 15\n",
      "головач максим 14\n",
      "нестерович светлана 13\n",
      "мурзаева евгения 48\n",
      "овчинников григорий 19\n",
      "целищев максим 45-46\n",
      "крылов артем 25\n",
      "абазов руслан 24\n",
      "анисимов максим 22\n",
      "закиров дмитрий 23\n",
      "иванов сергей 34-35\n",
      "антонова дарья 51\n",
      "хажиев роберт 16\n",
      "макаров игорь 33\n",
      "горбаренко анастасия 45-46\n",
      "филистович илья 42\n",
      "зубайдуллин ринат 31\n",
      "вэлиулин вячеслав 44\n",
      "кислицына полина 18\n",
      "малинкович герман 32\n",
      "запольская юлия 29\n",
      "кузнецов дмитрий 36\n",
      "мхитарян ваагн 38\n",
      "касько константин 47\n",
      "мусина айша 43\n",
      "иванченко алена 30\n",
      "шилоносова валентина 39\n",
      "курченко лилия 28\n",
      "тагиев станислав 37\n",
      "юраков кирилл 56-57\n",
      "борзунова алена 40\n",
      "стержанова виталия 48\n",
      "мировский слава 50\n",
      "борзунова анастасия 17\n",
      "кармастина яна 27\n",
      "комаров олег 55\n",
      "ипатов артем 26\n",
      "фрыкина елена 52\n",
      "берхольц виктория 53\n",
      "хоменюк петр 54\n"
     ]
    },
    {
     "data": {
      "text/plain": "[None,\n None,\n None,\n None,\n None,\n None,\n None,\n None,\n None,\n None,\n None,\n None,\n None,\n None,\n None,\n None,\n None,\n None,\n None,\n None,\n None,\n None,\n None,\n None,\n None,\n None,\n None,\n None,\n None,\n None,\n None,\n None,\n None,\n None,\n None,\n None,\n None,\n None,\n None,\n None,\n None,\n None,\n None,\n None]"
     },
     "execution_count": 201,
     "metadata": {},
     "output_type": "execute_result"
    }
   ],
   "source": [
    "[print(elem[0].name, elem[0].partner.name) for elem in cur_matches]"
   ],
   "metadata": {
    "collapsed": false,
    "ExecuteTime": {
     "end_time": "2023-07-03T14:32:54.585570700Z",
     "start_time": "2023-07-03T14:32:54.549165200Z"
    }
   }
  },
  {
   "cell_type": "code",
   "execution_count": 199,
   "outputs": [
    {
     "data": {
      "text/plain": "'среднее место проекта у студентов: 3.955, среднее место студентов у проектов: 22.720'"
     },
     "execution_count": 199,
     "metadata": {},
     "output_type": "execute_result"
    }
   ],
   "source": [
    "metrics(matches)"
   ],
   "metadata": {
    "collapsed": false,
    "ExecuteTime": {
     "end_time": "2023-07-03T14:32:46.873659600Z",
     "start_time": "2023-07-03T14:32:46.610687200Z"
    }
   }
  },
  {
   "cell_type": "code",
   "execution_count": 200,
   "outputs": [],
   "source": [
    "# # Создание студентов\n",
    "#\n",
    "# applicant1 = Applicant(\"Студент1\", [\"Проект1\", \"Проект2\", \"Проект3\"])\n",
    "# applicant2 = Applicant(\"Студент2\", [\"Проект2\", \"Проект1\", \"Проект3\"])\n",
    "# applicant3 = Applicant(\"Студент3\", [\"Проект3\", \"Проект2\", \"Проект1\"])\n",
    "# applicant4 = Applicant(\"Студент4\", [\"Проект3\", \"Проект2\", \"Проект1\"])\n",
    "# applicant5 = Applicant(\"Студент5\", [\"Проект2\", \"Проект3\", \"Проект1\"])\n",
    "#\n",
    "# # Создание проекта\n",
    "# school1 = Project(\"Проект1\", 2, [\"Студент1\", \"Студент2\", \"Студент3\", \"Студент4\", \"Студент5\"])\n",
    "# school2 = Project(\"Проект2\", 1, [\"Студент2\", \"Студент1\", \"Студент4\", \"Студент3\", \"Студент5\"])\n",
    "# school3 = Project(\"Проект3\", 2, [\"Студент2\", \"Студент4\", \"Студент3\", \"Студент1\", \"Студент5\"])\n",
    "#\n",
    "# # Списки студентов и проектов\n",
    "# applicants = [applicant1, applicant2, applicant3, applicant4, applicant5]\n",
    "# schools = {\"Проект1\": school1, \"Проект2\": school2, \"Проект3\": school3}\n",
    "#\n",
    "# # Выполнение алгоритма Гейла-Шепли\n",
    "# matches = gale_shapley(applicants, schools)\n",
    "#\n",
    "# matches"
   ],
   "metadata": {
    "collapsed": false,
    "ExecuteTime": {
     "end_time": "2023-07-03T14:32:46.873659600Z",
     "start_time": "2023-07-03T14:32:46.628990300Z"
    }
   }
  }
 ],
 "metadata": {
  "kernelspec": {
   "display_name": "Python 3",
   "language": "python",
   "name": "python3"
  },
  "language_info": {
   "codemirror_mode": {
    "name": "ipython",
    "version": 2
   },
   "file_extension": ".py",
   "mimetype": "text/x-python",
   "name": "python",
   "nbconvert_exporter": "python",
   "pygments_lexer": "ipython2",
   "version": "2.7.6"
  }
 },
 "nbformat": 4,
 "nbformat_minor": 0
}
