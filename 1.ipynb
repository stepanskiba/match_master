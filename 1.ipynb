{
 "cells": [
  {
   "cell_type": "code",
   "execution_count": 57,
   "metadata": {
    "collapsed": true
   },
   "outputs": [],
   "source": [
    "class Applicant:\n",
    "    def __init__(self, name, preferences):\n",
    "        self.name = name\n",
    "        self.preferences = preferences\n",
    "        self.proposal_index = 0  # Индекс в списке предпочтений, куда была сделана предложение\n",
    "        self.partner = None  # Проект, с которой студент образует пару\n",
    "\n",
    "    def make_proposal(self):\n",
    "        # Метод для сделать предложение выбранным проектом из списка предпочтений\n",
    "        preference = self.preferences[self.proposal_index]\n",
    "        self.proposal_index += 1\n",
    "        return preference\n",
    "\n",
    "    def receive_partner(self, partner):\n",
    "        # Метод для получения проекта\n",
    "        self.partner = partner\n",
    "\n",
    "    def is_free(self):\n",
    "        # Метод, возвращающий True, если студент свободен и еще не образовал пару\n",
    "        return self.partner is None\n",
    "\n",
    "\n",
    "class Project:\n",
    "    def __init__(self, name, capacity, preferences):\n",
    "        self.name = name\n",
    "        self.capacity = capacity  # количество\n",
    "        self.preferences = preferences  # предпочтения проекта\n",
    "        self.applicants = []\n",
    "\n",
    "    def add_applicant(self, applicant):\n",
    "        # Метод для добавления студента в список принятых проектом\n",
    "        self.applicants.append(applicant)\n",
    "\n",
    "    def remove_applicant(self, applicant):\n",
    "        # Метод для удаления студента из списка принятых проектом\n",
    "        self.applicants.remove(applicant)\n",
    "\n",
    "    def has_capacity(self):\n",
    "        # Метод, возвращающий True, если в проекте есть свободные места\n",
    "        return len(self.applicants) < self.capacity\n",
    "\n",
    "    def prefers_applicant(self, applicant):\n",
    "        # Метод, проверяющий, предпочитает ли проекта данный студент\n",
    "        return applicant in self.preferences[:self.capacity]\n",
    "\n",
    "    def get_least_preferred_applicant(self):\n",
    "        # Метод, возвращающий наименее предпочитаемого студента в проекте\n",
    "        return self.applicants[-1]\n",
    "\n",
    "\n",
    "def gale_shapley(applicants, schools):\n",
    "    while True:\n",
    "        free_applicants = [applicant for applicant in applicants if applicant.is_free()]\n",
    "\n",
    "        if not free_applicants:\n",
    "            break\n",
    "\n",
    "        for applicant in free_applicants:\n",
    "            school_name = applicant.make_proposal()\n",
    "            school = schools[school_name]\n",
    "\n",
    "            if school.has_capacity():\n",
    "                school.add_applicant(applicant)\n",
    "                applicant.receive_partner(school)\n",
    "            else:\n",
    "                least_preferred_applicant = school.get_least_preferred_applicant()\n",
    "\n",
    "                if school.prefers_applicant(applicant):\n",
    "                    school.remove_applicant(least_preferred_applicant)\n",
    "                    least_preferred_applicant.receive_partner(None)\n",
    "\n",
    "                    school.add_applicant(applicant)\n",
    "                    applicant.receive_partner(school)\n",
    "\n",
    "    matches = [(applicant.name, applicant.partner.name) for applicant in applicants]\n",
    "    return matches"
   ]
  },
  {
   "cell_type": "code",
   "execution_count": 58,
   "outputs": [
    {
     "data": {
      "text/plain": "[('Студент1', 'Проект1'),\n ('Студент2', 'Проект2'),\n ('Студент3', 'Проект3'),\n ('Студент4', 'Проект3'),\n ('Студент5', 'Проект1')]"
     },
     "execution_count": 58,
     "metadata": {},
     "output_type": "execute_result"
    }
   ],
   "source": [
    "# Создание студентов\n",
    "\n",
    "applicant1 = Applicant(\"Студент1\", [\"Проект1\", \"Проект2\", \"Проект3\"])\n",
    "applicant2 = Applicant(\"Студент2\", [\"Проект2\", \"Проект1\", \"Проект3\"])\n",
    "applicant3 = Applicant(\"Студент3\", [\"Проект3\", \"Проект2\", \"Проект1\"])\n",
    "applicant4 = Applicant(\"Студент4\", [\"Проект3\", \"Проект2\", \"Проект1\"])\n",
    "applicant5 = Applicant(\"Студент5\", [\"Проект2\", \"Проект3\", \"Проект1\"])\n",
    "\n",
    "# Создание проекта\n",
    "school1 = Project(\"Проект1\", 2, [\"Студент1\", \"Студент2\", \"Студент3\", \"Студент4\", \"Студент5\"])\n",
    "school2 = Project(\"Проект2\", 1, [\"Студент2\", \"Студент1\", \"Студент4\", \"Студент3\", \"Студент5\"])\n",
    "school3 = Project(\"Проект3\", 2, [\"Студент2\", \"Студент4\", \"Студент3\", \"Студент1\", \"Студент5\"])\n",
    "\n",
    "# Списки студентов и проектов\n",
    "applicants = [applicant1, applicant2, applicant3, applicant4, applicant5]\n",
    "schools = {\"Проект1\": school1, \"Проект2\": school2, \"Проект3\": school3}\n",
    "\n",
    "# Выполнение алгоритма Гейла-Шепли\n",
    "matches = gale_shapley(applicants, schools)\n",
    "\n",
    "matches"
   ],
   "metadata": {
    "collapsed": false
   }
  }
 ],
 "metadata": {
  "kernelspec": {
   "display_name": "Python 3",
   "language": "python",
   "name": "python3"
  },
  "language_info": {
   "codemirror_mode": {
    "name": "ipython",
    "version": 2
   },
   "file_extension": ".py",
   "mimetype": "text/x-python",
   "name": "python",
   "nbconvert_exporter": "python",
   "pygments_lexer": "ipython2",
   "version": "2.7.6"
  }
 },
 "nbformat": 4,
 "nbformat_minor": 0
}
