{
 "cells": [
  {
   "cell_type": "code",
   "execution_count": 213,
   "metadata": {
    "collapsed": true,
    "ExecuteTime": {
     "end_time": "2023-07-24T12:58:45.214054400Z",
     "start_time": "2023-07-24T12:58:45.070240500Z"
    }
   },
   "outputs": [],
   "source": [
    "import pandas as pd\n",
    "import numpy as np\n",
    "from collections import defaultdict\n",
    "import matplotlib.pyplot as plt\n",
    "import random"
   ]
  },
  {
   "cell_type": "code",
   "execution_count": 214,
   "outputs": [],
   "source": [
    "class Applicant:\n",
    "    def __init__(self, name, preferences_of_school):\n",
    "        self.name = name\n",
    "        self.preferences_of_school = preferences_of_school\n",
    "        self.proposal_index = 0  # Индекс в списке предпочтений, куда была сделана предложение\n",
    "        self.partner = None  # Проект, с которым студент образует пару\n",
    "\n",
    "    def make_proposal(self):\n",
    "        # Метод для сделать предложение выбранным проектом из списка предпочтений\n",
    "        preference_of_school = self.preferences_of_school[self.proposal_index]\n",
    "        self.proposal_index += 1\n",
    "        return preference_of_school\n",
    "\n",
    "    def receive_partner(self, partner):\n",
    "        # Метод для добавления проекта\n",
    "        self.partner = partner\n",
    "\n",
    "    def is_free(self):\n",
    "        # Метод, возвращающий True, если студент свободен и еще не образовал пару\n",
    "        return self.partner is None\n",
    "\n",
    "\n",
    "class Project:\n",
    "    def __init__(self, name, capacity, preferences_of_students):\n",
    "        self.name = name\n",
    "        self.capacity = capacity  # количество\n",
    "        self.preferences_of_students = preferences_of_students  # предпочтения проекта\n",
    "        self.applicants = []\n",
    "\n",
    "    def add_applicant(self, applicant):\n",
    "        # Метод для добавления студента в список принятых проектом\n",
    "        self.applicants.append(applicant)\n",
    "\n",
    "    def remove_applicant(self, applicant):\n",
    "        # Метод для удаления студента из списка принятых проектом\n",
    "        self.applicants.remove(applicant)\n",
    "\n",
    "    def has_capacity(self):\n",
    "        # Метод, возвращающий True, если в проекте есть свободные места\n",
    "        return len(self.applicants) < self.capacity\n",
    "\n",
    "    def prefers_applicant(self, applicant):\n",
    "        # Метод, проверяющий, предпочитает ли проекта данный студент\n",
    "        return applicant in self.preferences_of_students[:self.capacity]\n",
    "\n",
    "    # def prefers_applicant(self, applicant, current_partner):\n",
    "    #     # Метод, проверяющий, предпочитает ли проект данный студент своему текущему партнеру\n",
    "    #     return self.preferences_of_students.index(applicant.name) < self.preferences_of_students.index(current_partner.name)\n",
    "\n",
    "    def get_least_preferred_applicant(self):\n",
    "        # Метод, возвращающий наименее предпочитаемого студента в проекте\n",
    "        return self.applicants[-1]\n",
    "\n",
    "\n",
    "def gale_shapley(applicants, schools):\n",
    "    #[print(elem.name) for elem in applicants]\n",
    "    while True:\n",
    "        free_applicants = [applicant for applicant in applicants if applicant.is_free()]\n",
    "        #print(applicants)\n",
    "\n",
    "        if not free_applicants:\n",
    "            break\n",
    "\n",
    "        for applicant in free_applicants:\n",
    "            #print(applicant.name)\n",
    "            school_name = str(applicant.make_proposal())\n",
    "            school = schools[school_name]\n",
    "\n",
    "            if school.has_capacity():\n",
    "                school.add_applicant(applicant)\n",
    "                applicant.receive_partner(school)\n",
    "                applicant.priority = applicant.preferences_of_school.index(school.name) + 1\n",
    "            else:\n",
    "                least_preferred_applicant = school.get_least_preferred_applicant()\n",
    "\n",
    "            if school.prefers_applicant(applicant):\n",
    "                school.remove_applicant(least_preferred_applicant)\n",
    "                least_preferred_applicant.receive_partner(None)\n",
    "\n",
    "                school.add_applicant(applicant)\n",
    "                applicant.receive_partner(school)\n",
    "\n",
    "    matches = [[applicant, applicant.partner] for applicant in applicants]\n",
    "    return matches"
   ],
   "metadata": {
    "collapsed": false,
    "ExecuteTime": {
     "end_time": "2023-07-24T12:58:45.236916400Z",
     "start_time": "2023-07-24T12:58:45.129920200Z"
    }
   }
  },
  {
   "cell_type": "code",
   "execution_count": 215,
   "outputs": [],
   "source": [
    "def make_ratings_of_students(path_to_score):\n",
    "    ratings = pd.read_excel(path_to_score)\n",
    "    ratings = ratings[ratings['Вердикт Лены'] == 'Да']\n",
    "    ratings = ratings[ratings['В каком хабе будет во втором этапе'] == 'Москва']\n",
    "    ratings['Балл за зум-собеседование (макс 10)'] = ratings['Балл за зум-собеседование (макс 10)'].replace(\n",
    "        'нет оценки', np.nan)\n",
    "    avg_zoom_scores = ratings['Балл за зум-собеседование (макс 10)'].mean()\n",
    "    ratings['Балл за зум-собеседование (макс 10)'] = ratings['Балл за зум-собеседование (макс 10)'].fillna(\n",
    "        avg_zoom_scores)\n",
    "    ratings['Итоговая сумма'] = ratings['Балл за зум-собеседование (макс 10)'] + ratings['Балл за VCV (макс 10)'] + \\\n",
    "                                ratings[\n",
    "                                    'Оценка за мотивацию (макс 3)'] + ratings['Сумма за кейсы (макс 10)']\n",
    "    ratings['фамилия + имя'] = ratings['Фамилия кандидата'].str.strip().str.lower() + ' ' + ratings[\n",
    "        'Имя кандидата'].str.strip().str.lower()\n",
    "    ratings = ratings[['фамилия + имя', 'Итоговая сумма']]\n",
    "    ratings = ratings.sort_values(by='Итоговая сумма', ascending=False)\n",
    "    return ratings"
   ],
   "metadata": {
    "collapsed": false,
    "ExecuteTime": {
     "end_time": "2023-07-24T12:58:45.236916400Z",
     "start_time": "2023-07-24T12:58:45.168136700Z"
    }
   }
  },
  {
   "cell_type": "code",
   "execution_count": 216,
   "outputs": [
    {
     "data": {
      "text/plain": "           фамилия + имя  Итоговая сумма\n76         хажиев роберт        27.00000\n7        мировский слава        27.00000\n1      зубайдуллин ринат        26.00000\n10      алейникова дарья        26.00000\n57   овчинников григорий        26.00000\n52      мурзаева евгения        26.00000\n41          крылов артем        26.00000\n32       иванченко алена        25.00000\n68      тагиев станислав        25.00000\n16     берхольц виктория        25.00000\n59      ревнивцев андрей        25.00000\n2      вэлиулин вячеслав        25.00000\n11       анисимов максим        24.44186\n72       филистович илья        24.00000\n48     малинкович герман        24.00000\n35        кармастина яна        24.00000\n97         юраков кирилл        24.00000\n31         иванов сергей        24.00000\n6       кислицына полина        24.00000\n46          ланцман ефим        23.00000\n86  шилоносова валентина        23.00000\n30       запольская юлия        23.00000\n84        целищев максим        23.00000\n18       борзунова алена        23.00000\n56   нестерович светлана        23.00000\n47         макаров игорь        23.00000\n54        мхитарян ваагн        22.44186\n45        курченко лилия        22.00000\n17   борзунова анастасия        22.00000\n81          хоменюк петр        22.00000\n28       закиров дмитрий        22.00000\n75         фрыкина елена        22.00000\n25        головач максим        22.00000\n61    стержанова виталия        22.00000\n38          комаров олег        22.00000\n53           мусина айша        22.00000\n33          ипатов артем        21.00000\n22        бурзунов данил        21.00000\n13        антонова дарья        21.00000\n42      кузнецов дмитрий        20.00000\n8          абазов руслан        20.00000\n26  горбаренко анастасия        19.00000\n36     касько константин        19.00000\n34     исламуратов марат        19.00000\n83           хури полина        18.00000",
      "text/html": "<div>\n<style scoped>\n    .dataframe tbody tr th:only-of-type {\n        vertical-align: middle;\n    }\n\n    .dataframe tbody tr th {\n        vertical-align: top;\n    }\n\n    .dataframe thead th {\n        text-align: right;\n    }\n</style>\n<table border=\"1\" class=\"dataframe\">\n  <thead>\n    <tr style=\"text-align: right;\">\n      <th></th>\n      <th>фамилия + имя</th>\n      <th>Итоговая сумма</th>\n    </tr>\n  </thead>\n  <tbody>\n    <tr>\n      <th>76</th>\n      <td>хажиев роберт</td>\n      <td>27.00000</td>\n    </tr>\n    <tr>\n      <th>7</th>\n      <td>мировский слава</td>\n      <td>27.00000</td>\n    </tr>\n    <tr>\n      <th>1</th>\n      <td>зубайдуллин ринат</td>\n      <td>26.00000</td>\n    </tr>\n    <tr>\n      <th>10</th>\n      <td>алейникова дарья</td>\n      <td>26.00000</td>\n    </tr>\n    <tr>\n      <th>57</th>\n      <td>овчинников григорий</td>\n      <td>26.00000</td>\n    </tr>\n    <tr>\n      <th>52</th>\n      <td>мурзаева евгения</td>\n      <td>26.00000</td>\n    </tr>\n    <tr>\n      <th>41</th>\n      <td>крылов артем</td>\n      <td>26.00000</td>\n    </tr>\n    <tr>\n      <th>32</th>\n      <td>иванченко алена</td>\n      <td>25.00000</td>\n    </tr>\n    <tr>\n      <th>68</th>\n      <td>тагиев станислав</td>\n      <td>25.00000</td>\n    </tr>\n    <tr>\n      <th>16</th>\n      <td>берхольц виктория</td>\n      <td>25.00000</td>\n    </tr>\n    <tr>\n      <th>59</th>\n      <td>ревнивцев андрей</td>\n      <td>25.00000</td>\n    </tr>\n    <tr>\n      <th>2</th>\n      <td>вэлиулин вячеслав</td>\n      <td>25.00000</td>\n    </tr>\n    <tr>\n      <th>11</th>\n      <td>анисимов максим</td>\n      <td>24.44186</td>\n    </tr>\n    <tr>\n      <th>72</th>\n      <td>филистович илья</td>\n      <td>24.00000</td>\n    </tr>\n    <tr>\n      <th>48</th>\n      <td>малинкович герман</td>\n      <td>24.00000</td>\n    </tr>\n    <tr>\n      <th>35</th>\n      <td>кармастина яна</td>\n      <td>24.00000</td>\n    </tr>\n    <tr>\n      <th>97</th>\n      <td>юраков кирилл</td>\n      <td>24.00000</td>\n    </tr>\n    <tr>\n      <th>31</th>\n      <td>иванов сергей</td>\n      <td>24.00000</td>\n    </tr>\n    <tr>\n      <th>6</th>\n      <td>кислицына полина</td>\n      <td>24.00000</td>\n    </tr>\n    <tr>\n      <th>46</th>\n      <td>ланцман ефим</td>\n      <td>23.00000</td>\n    </tr>\n    <tr>\n      <th>86</th>\n      <td>шилоносова валентина</td>\n      <td>23.00000</td>\n    </tr>\n    <tr>\n      <th>30</th>\n      <td>запольская юлия</td>\n      <td>23.00000</td>\n    </tr>\n    <tr>\n      <th>84</th>\n      <td>целищев максим</td>\n      <td>23.00000</td>\n    </tr>\n    <tr>\n      <th>18</th>\n      <td>борзунова алена</td>\n      <td>23.00000</td>\n    </tr>\n    <tr>\n      <th>56</th>\n      <td>нестерович светлана</td>\n      <td>23.00000</td>\n    </tr>\n    <tr>\n      <th>47</th>\n      <td>макаров игорь</td>\n      <td>23.00000</td>\n    </tr>\n    <tr>\n      <th>54</th>\n      <td>мхитарян ваагн</td>\n      <td>22.44186</td>\n    </tr>\n    <tr>\n      <th>45</th>\n      <td>курченко лилия</td>\n      <td>22.00000</td>\n    </tr>\n    <tr>\n      <th>17</th>\n      <td>борзунова анастасия</td>\n      <td>22.00000</td>\n    </tr>\n    <tr>\n      <th>81</th>\n      <td>хоменюк петр</td>\n      <td>22.00000</td>\n    </tr>\n    <tr>\n      <th>28</th>\n      <td>закиров дмитрий</td>\n      <td>22.00000</td>\n    </tr>\n    <tr>\n      <th>75</th>\n      <td>фрыкина елена</td>\n      <td>22.00000</td>\n    </tr>\n    <tr>\n      <th>25</th>\n      <td>головач максим</td>\n      <td>22.00000</td>\n    </tr>\n    <tr>\n      <th>61</th>\n      <td>стержанова виталия</td>\n      <td>22.00000</td>\n    </tr>\n    <tr>\n      <th>38</th>\n      <td>комаров олег</td>\n      <td>22.00000</td>\n    </tr>\n    <tr>\n      <th>53</th>\n      <td>мусина айша</td>\n      <td>22.00000</td>\n    </tr>\n    <tr>\n      <th>33</th>\n      <td>ипатов артем</td>\n      <td>21.00000</td>\n    </tr>\n    <tr>\n      <th>22</th>\n      <td>бурзунов данил</td>\n      <td>21.00000</td>\n    </tr>\n    <tr>\n      <th>13</th>\n      <td>антонова дарья</td>\n      <td>21.00000</td>\n    </tr>\n    <tr>\n      <th>42</th>\n      <td>кузнецов дмитрий</td>\n      <td>20.00000</td>\n    </tr>\n    <tr>\n      <th>8</th>\n      <td>абазов руслан</td>\n      <td>20.00000</td>\n    </tr>\n    <tr>\n      <th>26</th>\n      <td>горбаренко анастасия</td>\n      <td>19.00000</td>\n    </tr>\n    <tr>\n      <th>36</th>\n      <td>касько константин</td>\n      <td>19.00000</td>\n    </tr>\n    <tr>\n      <th>34</th>\n      <td>исламуратов марат</td>\n      <td>19.00000</td>\n    </tr>\n    <tr>\n      <th>83</th>\n      <td>хури полина</td>\n      <td>18.00000</td>\n    </tr>\n  </tbody>\n</table>\n</div>"
     },
     "execution_count": 216,
     "metadata": {},
     "output_type": "execute_result"
    }
   ],
   "source": [
    "ratings = make_ratings_of_students('Отбор ШМЯ 2023 - финал (1) (3).xlsx')\n",
    "ratings"
   ],
   "metadata": {
    "collapsed": false,
    "ExecuteTime": {
     "end_time": "2023-07-24T12:58:45.435461600Z",
     "start_time": "2023-07-24T12:58:45.201520700Z"
    }
   }
  },
  {
   "cell_type": "code",
   "execution_count": 217,
   "outputs": [],
   "source": [
    "def func2(ratings, path_to_preferences):\n",
    "    students_choose_projects = pd.read_excel(path_to_preferences)\n",
    "    students_choose_projects = students_choose_projects[(students_choose_projects['Твой хаб'] == 'Москва') & (\n",
    "            students_choose_projects['Направление в ШМЯ'] == 'Управление проектами и продуктами')]\n",
    "    students_choose_projects['фамилия + имя'] = students_choose_projects['Фамилия'].str.strip().str.lower() + ' ' + \\\n",
    "                                                students_choose_projects['Имя'].str.strip().str.lower()\n",
    "    students_choose_projects = students_choose_projects.drop(['Фамилия', 'Имя', 'Твой хаб', 'Направление в ШМЯ'],\n",
    "                                                             axis=1)\n",
    "    students_choose_projects = students_choose_projects.astype(str)\n",
    "    students_choose_projects = pd.merge(students_choose_projects, ratings, on='фамилия + имя').sort_values(\n",
    "        by='Итоговая сумма', ascending=False)\n",
    "    return students_choose_projects"
   ],
   "metadata": {
    "collapsed": false,
    "ExecuteTime": {
     "end_time": "2023-07-24T12:58:45.501527900Z",
     "start_time": "2023-07-24T12:58:45.448252Z"
    }
   }
  },
  {
   "cell_type": "code",
   "execution_count": 218,
   "outputs": [
    {
     "data": {
      "text/plain": "   1 приоритет 2 приоритет 3 приоритет 4 приоритет 5 приоритет 6 приоритет  \\\n36          50          49          25          23          29          37   \n16          28          26          25          33          47          22   \n10          33          25          47          26          38          16   \n7           48          19          32          14          33          12   \n8           19          22          33          31          37       45-46   \n20          47          31          36          32          37          20   \n2           14          13          49          43          48          31   \n32          37          47          33          50          38          32   \n29          48       45-46          33          38          29          47   \n42          54          53          52          55          30          32   \n21          48          31          33          47          26          44   \n3           20          14          25          12          51          36   \n12          50          25          26          20          33       34-35   \n33          50          47          37          48          33          25   \n38          27          50          23          24       45-46          26   \n14          25          26       34-35          12          37          50   \n23          26          32          48          38          22          47   \n19          29          31          12          33       45-46       45-46   \n22          26          32          18          29          20          25   \n34          51          47          31          13          40          23   \n24          22          33          25          34          35          29   \n30          28          47          23          39          29          17   \n17          33          26          47          28          31          43   \n9           51          22       45-46          32          13          31   \n6        45-46          19          13          14       45-46          31   \n26          50          37          33          38          51       25-26   \n35          47          48          33          26          25          22   \n31          28          47          26          25          19          50   \n39          28          50          38          14          37          29   \n41          54          52          55          27          12          38   \n37          26          50          25          28          47          23   \n43          55          54          53          52          31          22   \n28          12          43          32          19          28          31   \n13          25          26          23       45-46          24          51   \n5           48          14          13       45-46          33          19   \n15          25          26          48          47          51          33   \n40          37          50          36          26          48          51   \n4           36          14          33          15       45-46          24   \n25          37          36          50          28          26          25   \n11          48          25          26          33          49          27   \n27          22          38          47          51          26          31   \n1           25          12          22          37          50       34-35   \n18       45-46          27          25          43          13          36   \n0           19          12          25          32          26          33   \n\n   7 приоритет 8 приоритет 9 приоритет 10 приоритет 11 приоритет 12 приоритет  \\\n36          24       45-46          28        56-57           43           33   \n16          37          51          39           16           50           18   \n10          31          51          48           29           22           18   \n7        45-46          40          38           31           47        34-35   \n8           47          48       34-35           51           14           25   \n20       34-35          50          48           12           33        45-46   \n2           19          50          56           57           12           22   \n32          39          22          48           51           26           29   \n29          43          30          17           31           26           13   \n42       45-46       45-46          23           24           14           13   \n21       45-46          28          50           32           43           22   \n3           37          47       34-35        34-35           48           33   \n12          37          22          23           24           51           12   \n33          26          22          51           28           49        56-57   \n38          49          28          47           22           29           25   \n14          38          47          51           24           32           23   \n23       45-46          20          51           25           23           24   \n19          32          43          20           14           42           47   \n22          14          28          31           43           38           36   \n34          24          29          48           16           17           25   \n24          28          18          48           17           23           24   \n30          24          20          26           51           33           25   \n17          12          25          40           51        45-46           22   \n9           17          18          47           37           36           19   \n6           47          24          23           20           55           44   \n26          48          22       45-46           47           29           43   \n35          24          23       45-46           29           31           20   \n31          40          32          12           13           14           43   \n39          43          31          22           45           55           36   \n41          14          13          29           30           31           43   \n37          24          37          38           51           17           33   \n43          51          38          32           25           26           14   \n28          33       45-46          47           25           37        34-35   \n13          47          33          16           18           36           22   \n5           49          44          32           29           12           22   \n15          20          38          36           37           12           50   \n40          47          33          28           29           25           18   \n4           12          38          20           22           23           13   \n25          22       34-35          24           23           47           33   \n11          24          43          50           47           12           13   \n27          33          13          50           28           39           29   \n1           23          24          14           40           31        56-57   \n18          38          14          23           50           31           20   \n0           20          50          28           18           24           48   \n\n   13 приоритет 14 приоритет 15 приоритет         фамилия + имя  \\\n36           14           15           21       мировский слава   \n16           38        45-46           13         хажиев роберт   \n10           43        45-46           12          крылов артем   \n7            20           28           25      мурзаева евгения   \n8            26           38           32   овчинников григорий   \n20           14           38           24     зубайдуллин ринат   \n2            50           40           47      алейникова дарья   \n32           31           17           12      тагиев станислав   \n29           44           19           12       иванченко алена   \n42           19           33           12     берхольц виктория   \n21           23           38           20     вэлиулин вячеслав   \n3            26           50           19      ревнивцев андрей   \n12           19           38           23       анисимов максим   \n33           31           17           29         юраков кирилл   \n38           31           33           44        кармастина яна   \n14           28        45-46           29         иванов сергей   \n23           50           28        34-35     малинкович герман   \n19           38           49           40       филистович илья   \n22           33           37           47      кислицына полина   \n34           33           32           38       борзунова алена   \n24           27           36           32       запольская юлия   \n30           16           30           18  шилоносова валентина   \n17           29           39           14         макаров игорь   \n9            20           28           26        целищев максим   \n6            28           27           49   нестерович светлана   \n26           18           16           54        мхитарян ваагн   \n35           14           50           19    стержанова виталия   \n31           29           31           38        курченко лилия   \n39           51           20           23          комаров олег   \n41        45-46           50           48         фрыкина елена   \n37           31           32           39   борзунова анастасия   \n43           15           18           37          хоменюк петр   \n28           24           29           27           мусина айша   \n13           50           48           37       закиров дмитрий   \n5            15           26           28        головач максим   \n15           24           31           43        антонова дарья   \n40           45           22           39          ипатов артем   \n4            31           28           42        бурзунов данил   \n25           16           18           40      кузнецов дмитрий   \n11           19           37           14         абазов руслан   \n27           37           24        56-57     касько константин   \n1            38           30           51     исламуратов марат   \n18           42           12           33  горбаренко анастасия   \n0            29           22           43           хури полина   \n\n    Итоговая сумма  \n36        27.00000  \n16        27.00000  \n10        26.00000  \n7         26.00000  \n8         26.00000  \n20        26.00000  \n2         26.00000  \n32        25.00000  \n29        25.00000  \n42        25.00000  \n21        25.00000  \n3         25.00000  \n12        24.44186  \n33        24.00000  \n38        24.00000  \n14        24.00000  \n23        24.00000  \n19        24.00000  \n22        24.00000  \n34        23.00000  \n24        23.00000  \n30        23.00000  \n17        23.00000  \n9         23.00000  \n6         23.00000  \n26        22.44186  \n35        22.00000  \n31        22.00000  \n39        22.00000  \n41        22.00000  \n37        22.00000  \n43        22.00000  \n28        22.00000  \n13        22.00000  \n5         22.00000  \n15        21.00000  \n40        21.00000  \n4         21.00000  \n25        20.00000  \n11        20.00000  \n27        19.00000  \n1         19.00000  \n18        19.00000  \n0         18.00000  ",
      "text/html": "<div>\n<style scoped>\n    .dataframe tbody tr th:only-of-type {\n        vertical-align: middle;\n    }\n\n    .dataframe tbody tr th {\n        vertical-align: top;\n    }\n\n    .dataframe thead th {\n        text-align: right;\n    }\n</style>\n<table border=\"1\" class=\"dataframe\">\n  <thead>\n    <tr style=\"text-align: right;\">\n      <th></th>\n      <th>1 приоритет</th>\n      <th>2 приоритет</th>\n      <th>3 приоритет</th>\n      <th>4 приоритет</th>\n      <th>5 приоритет</th>\n      <th>6 приоритет</th>\n      <th>7 приоритет</th>\n      <th>8 приоритет</th>\n      <th>9 приоритет</th>\n      <th>10 приоритет</th>\n      <th>11 приоритет</th>\n      <th>12 приоритет</th>\n      <th>13 приоритет</th>\n      <th>14 приоритет</th>\n      <th>15 приоритет</th>\n      <th>фамилия + имя</th>\n      <th>Итоговая сумма</th>\n    </tr>\n  </thead>\n  <tbody>\n    <tr>\n      <th>36</th>\n      <td>50</td>\n      <td>49</td>\n      <td>25</td>\n      <td>23</td>\n      <td>29</td>\n      <td>37</td>\n      <td>24</td>\n      <td>45-46</td>\n      <td>28</td>\n      <td>56-57</td>\n      <td>43</td>\n      <td>33</td>\n      <td>14</td>\n      <td>15</td>\n      <td>21</td>\n      <td>мировский слава</td>\n      <td>27.00000</td>\n    </tr>\n    <tr>\n      <th>16</th>\n      <td>28</td>\n      <td>26</td>\n      <td>25</td>\n      <td>33</td>\n      <td>47</td>\n      <td>22</td>\n      <td>37</td>\n      <td>51</td>\n      <td>39</td>\n      <td>16</td>\n      <td>50</td>\n      <td>18</td>\n      <td>38</td>\n      <td>45-46</td>\n      <td>13</td>\n      <td>хажиев роберт</td>\n      <td>27.00000</td>\n    </tr>\n    <tr>\n      <th>10</th>\n      <td>33</td>\n      <td>25</td>\n      <td>47</td>\n      <td>26</td>\n      <td>38</td>\n      <td>16</td>\n      <td>31</td>\n      <td>51</td>\n      <td>48</td>\n      <td>29</td>\n      <td>22</td>\n      <td>18</td>\n      <td>43</td>\n      <td>45-46</td>\n      <td>12</td>\n      <td>крылов артем</td>\n      <td>26.00000</td>\n    </tr>\n    <tr>\n      <th>7</th>\n      <td>48</td>\n      <td>19</td>\n      <td>32</td>\n      <td>14</td>\n      <td>33</td>\n      <td>12</td>\n      <td>45-46</td>\n      <td>40</td>\n      <td>38</td>\n      <td>31</td>\n      <td>47</td>\n      <td>34-35</td>\n      <td>20</td>\n      <td>28</td>\n      <td>25</td>\n      <td>мурзаева евгения</td>\n      <td>26.00000</td>\n    </tr>\n    <tr>\n      <th>8</th>\n      <td>19</td>\n      <td>22</td>\n      <td>33</td>\n      <td>31</td>\n      <td>37</td>\n      <td>45-46</td>\n      <td>47</td>\n      <td>48</td>\n      <td>34-35</td>\n      <td>51</td>\n      <td>14</td>\n      <td>25</td>\n      <td>26</td>\n      <td>38</td>\n      <td>32</td>\n      <td>овчинников григорий</td>\n      <td>26.00000</td>\n    </tr>\n    <tr>\n      <th>20</th>\n      <td>47</td>\n      <td>31</td>\n      <td>36</td>\n      <td>32</td>\n      <td>37</td>\n      <td>20</td>\n      <td>34-35</td>\n      <td>50</td>\n      <td>48</td>\n      <td>12</td>\n      <td>33</td>\n      <td>45-46</td>\n      <td>14</td>\n      <td>38</td>\n      <td>24</td>\n      <td>зубайдуллин ринат</td>\n      <td>26.00000</td>\n    </tr>\n    <tr>\n      <th>2</th>\n      <td>14</td>\n      <td>13</td>\n      <td>49</td>\n      <td>43</td>\n      <td>48</td>\n      <td>31</td>\n      <td>19</td>\n      <td>50</td>\n      <td>56</td>\n      <td>57</td>\n      <td>12</td>\n      <td>22</td>\n      <td>50</td>\n      <td>40</td>\n      <td>47</td>\n      <td>алейникова дарья</td>\n      <td>26.00000</td>\n    </tr>\n    <tr>\n      <th>32</th>\n      <td>37</td>\n      <td>47</td>\n      <td>33</td>\n      <td>50</td>\n      <td>38</td>\n      <td>32</td>\n      <td>39</td>\n      <td>22</td>\n      <td>48</td>\n      <td>51</td>\n      <td>26</td>\n      <td>29</td>\n      <td>31</td>\n      <td>17</td>\n      <td>12</td>\n      <td>тагиев станислав</td>\n      <td>25.00000</td>\n    </tr>\n    <tr>\n      <th>29</th>\n      <td>48</td>\n      <td>45-46</td>\n      <td>33</td>\n      <td>38</td>\n      <td>29</td>\n      <td>47</td>\n      <td>43</td>\n      <td>30</td>\n      <td>17</td>\n      <td>31</td>\n      <td>26</td>\n      <td>13</td>\n      <td>44</td>\n      <td>19</td>\n      <td>12</td>\n      <td>иванченко алена</td>\n      <td>25.00000</td>\n    </tr>\n    <tr>\n      <th>42</th>\n      <td>54</td>\n      <td>53</td>\n      <td>52</td>\n      <td>55</td>\n      <td>30</td>\n      <td>32</td>\n      <td>45-46</td>\n      <td>45-46</td>\n      <td>23</td>\n      <td>24</td>\n      <td>14</td>\n      <td>13</td>\n      <td>19</td>\n      <td>33</td>\n      <td>12</td>\n      <td>берхольц виктория</td>\n      <td>25.00000</td>\n    </tr>\n    <tr>\n      <th>21</th>\n      <td>48</td>\n      <td>31</td>\n      <td>33</td>\n      <td>47</td>\n      <td>26</td>\n      <td>44</td>\n      <td>45-46</td>\n      <td>28</td>\n      <td>50</td>\n      <td>32</td>\n      <td>43</td>\n      <td>22</td>\n      <td>23</td>\n      <td>38</td>\n      <td>20</td>\n      <td>вэлиулин вячеслав</td>\n      <td>25.00000</td>\n    </tr>\n    <tr>\n      <th>3</th>\n      <td>20</td>\n      <td>14</td>\n      <td>25</td>\n      <td>12</td>\n      <td>51</td>\n      <td>36</td>\n      <td>37</td>\n      <td>47</td>\n      <td>34-35</td>\n      <td>34-35</td>\n      <td>48</td>\n      <td>33</td>\n      <td>26</td>\n      <td>50</td>\n      <td>19</td>\n      <td>ревнивцев андрей</td>\n      <td>25.00000</td>\n    </tr>\n    <tr>\n      <th>12</th>\n      <td>50</td>\n      <td>25</td>\n      <td>26</td>\n      <td>20</td>\n      <td>33</td>\n      <td>34-35</td>\n      <td>37</td>\n      <td>22</td>\n      <td>23</td>\n      <td>24</td>\n      <td>51</td>\n      <td>12</td>\n      <td>19</td>\n      <td>38</td>\n      <td>23</td>\n      <td>анисимов максим</td>\n      <td>24.44186</td>\n    </tr>\n    <tr>\n      <th>33</th>\n      <td>50</td>\n      <td>47</td>\n      <td>37</td>\n      <td>48</td>\n      <td>33</td>\n      <td>25</td>\n      <td>26</td>\n      <td>22</td>\n      <td>51</td>\n      <td>28</td>\n      <td>49</td>\n      <td>56-57</td>\n      <td>31</td>\n      <td>17</td>\n      <td>29</td>\n      <td>юраков кирилл</td>\n      <td>24.00000</td>\n    </tr>\n    <tr>\n      <th>38</th>\n      <td>27</td>\n      <td>50</td>\n      <td>23</td>\n      <td>24</td>\n      <td>45-46</td>\n      <td>26</td>\n      <td>49</td>\n      <td>28</td>\n      <td>47</td>\n      <td>22</td>\n      <td>29</td>\n      <td>25</td>\n      <td>31</td>\n      <td>33</td>\n      <td>44</td>\n      <td>кармастина яна</td>\n      <td>24.00000</td>\n    </tr>\n    <tr>\n      <th>14</th>\n      <td>25</td>\n      <td>26</td>\n      <td>34-35</td>\n      <td>12</td>\n      <td>37</td>\n      <td>50</td>\n      <td>38</td>\n      <td>47</td>\n      <td>51</td>\n      <td>24</td>\n      <td>32</td>\n      <td>23</td>\n      <td>28</td>\n      <td>45-46</td>\n      <td>29</td>\n      <td>иванов сергей</td>\n      <td>24.00000</td>\n    </tr>\n    <tr>\n      <th>23</th>\n      <td>26</td>\n      <td>32</td>\n      <td>48</td>\n      <td>38</td>\n      <td>22</td>\n      <td>47</td>\n      <td>45-46</td>\n      <td>20</td>\n      <td>51</td>\n      <td>25</td>\n      <td>23</td>\n      <td>24</td>\n      <td>50</td>\n      <td>28</td>\n      <td>34-35</td>\n      <td>малинкович герман</td>\n      <td>24.00000</td>\n    </tr>\n    <tr>\n      <th>19</th>\n      <td>29</td>\n      <td>31</td>\n      <td>12</td>\n      <td>33</td>\n      <td>45-46</td>\n      <td>45-46</td>\n      <td>32</td>\n      <td>43</td>\n      <td>20</td>\n      <td>14</td>\n      <td>42</td>\n      <td>47</td>\n      <td>38</td>\n      <td>49</td>\n      <td>40</td>\n      <td>филистович илья</td>\n      <td>24.00000</td>\n    </tr>\n    <tr>\n      <th>22</th>\n      <td>26</td>\n      <td>32</td>\n      <td>18</td>\n      <td>29</td>\n      <td>20</td>\n      <td>25</td>\n      <td>14</td>\n      <td>28</td>\n      <td>31</td>\n      <td>43</td>\n      <td>38</td>\n      <td>36</td>\n      <td>33</td>\n      <td>37</td>\n      <td>47</td>\n      <td>кислицына полина</td>\n      <td>24.00000</td>\n    </tr>\n    <tr>\n      <th>34</th>\n      <td>51</td>\n      <td>47</td>\n      <td>31</td>\n      <td>13</td>\n      <td>40</td>\n      <td>23</td>\n      <td>24</td>\n      <td>29</td>\n      <td>48</td>\n      <td>16</td>\n      <td>17</td>\n      <td>25</td>\n      <td>33</td>\n      <td>32</td>\n      <td>38</td>\n      <td>борзунова алена</td>\n      <td>23.00000</td>\n    </tr>\n    <tr>\n      <th>24</th>\n      <td>22</td>\n      <td>33</td>\n      <td>25</td>\n      <td>34</td>\n      <td>35</td>\n      <td>29</td>\n      <td>28</td>\n      <td>18</td>\n      <td>48</td>\n      <td>17</td>\n      <td>23</td>\n      <td>24</td>\n      <td>27</td>\n      <td>36</td>\n      <td>32</td>\n      <td>запольская юлия</td>\n      <td>23.00000</td>\n    </tr>\n    <tr>\n      <th>30</th>\n      <td>28</td>\n      <td>47</td>\n      <td>23</td>\n      <td>39</td>\n      <td>29</td>\n      <td>17</td>\n      <td>24</td>\n      <td>20</td>\n      <td>26</td>\n      <td>51</td>\n      <td>33</td>\n      <td>25</td>\n      <td>16</td>\n      <td>30</td>\n      <td>18</td>\n      <td>шилоносова валентина</td>\n      <td>23.00000</td>\n    </tr>\n    <tr>\n      <th>17</th>\n      <td>33</td>\n      <td>26</td>\n      <td>47</td>\n      <td>28</td>\n      <td>31</td>\n      <td>43</td>\n      <td>12</td>\n      <td>25</td>\n      <td>40</td>\n      <td>51</td>\n      <td>45-46</td>\n      <td>22</td>\n      <td>29</td>\n      <td>39</td>\n      <td>14</td>\n      <td>макаров игорь</td>\n      <td>23.00000</td>\n    </tr>\n    <tr>\n      <th>9</th>\n      <td>51</td>\n      <td>22</td>\n      <td>45-46</td>\n      <td>32</td>\n      <td>13</td>\n      <td>31</td>\n      <td>17</td>\n      <td>18</td>\n      <td>47</td>\n      <td>37</td>\n      <td>36</td>\n      <td>19</td>\n      <td>20</td>\n      <td>28</td>\n      <td>26</td>\n      <td>целищев максим</td>\n      <td>23.00000</td>\n    </tr>\n    <tr>\n      <th>6</th>\n      <td>45-46</td>\n      <td>19</td>\n      <td>13</td>\n      <td>14</td>\n      <td>45-46</td>\n      <td>31</td>\n      <td>47</td>\n      <td>24</td>\n      <td>23</td>\n      <td>20</td>\n      <td>55</td>\n      <td>44</td>\n      <td>28</td>\n      <td>27</td>\n      <td>49</td>\n      <td>нестерович светлана</td>\n      <td>23.00000</td>\n    </tr>\n    <tr>\n      <th>26</th>\n      <td>50</td>\n      <td>37</td>\n      <td>33</td>\n      <td>38</td>\n      <td>51</td>\n      <td>25-26</td>\n      <td>48</td>\n      <td>22</td>\n      <td>45-46</td>\n      <td>47</td>\n      <td>29</td>\n      <td>43</td>\n      <td>18</td>\n      <td>16</td>\n      <td>54</td>\n      <td>мхитарян ваагн</td>\n      <td>22.44186</td>\n    </tr>\n    <tr>\n      <th>35</th>\n      <td>47</td>\n      <td>48</td>\n      <td>33</td>\n      <td>26</td>\n      <td>25</td>\n      <td>22</td>\n      <td>24</td>\n      <td>23</td>\n      <td>45-46</td>\n      <td>29</td>\n      <td>31</td>\n      <td>20</td>\n      <td>14</td>\n      <td>50</td>\n      <td>19</td>\n      <td>стержанова виталия</td>\n      <td>22.00000</td>\n    </tr>\n    <tr>\n      <th>31</th>\n      <td>28</td>\n      <td>47</td>\n      <td>26</td>\n      <td>25</td>\n      <td>19</td>\n      <td>50</td>\n      <td>40</td>\n      <td>32</td>\n      <td>12</td>\n      <td>13</td>\n      <td>14</td>\n      <td>43</td>\n      <td>29</td>\n      <td>31</td>\n      <td>38</td>\n      <td>курченко лилия</td>\n      <td>22.00000</td>\n    </tr>\n    <tr>\n      <th>39</th>\n      <td>28</td>\n      <td>50</td>\n      <td>38</td>\n      <td>14</td>\n      <td>37</td>\n      <td>29</td>\n      <td>43</td>\n      <td>31</td>\n      <td>22</td>\n      <td>45</td>\n      <td>55</td>\n      <td>36</td>\n      <td>51</td>\n      <td>20</td>\n      <td>23</td>\n      <td>комаров олег</td>\n      <td>22.00000</td>\n    </tr>\n    <tr>\n      <th>41</th>\n      <td>54</td>\n      <td>52</td>\n      <td>55</td>\n      <td>27</td>\n      <td>12</td>\n      <td>38</td>\n      <td>14</td>\n      <td>13</td>\n      <td>29</td>\n      <td>30</td>\n      <td>31</td>\n      <td>43</td>\n      <td>45-46</td>\n      <td>50</td>\n      <td>48</td>\n      <td>фрыкина елена</td>\n      <td>22.00000</td>\n    </tr>\n    <tr>\n      <th>37</th>\n      <td>26</td>\n      <td>50</td>\n      <td>25</td>\n      <td>28</td>\n      <td>47</td>\n      <td>23</td>\n      <td>24</td>\n      <td>37</td>\n      <td>38</td>\n      <td>51</td>\n      <td>17</td>\n      <td>33</td>\n      <td>31</td>\n      <td>32</td>\n      <td>39</td>\n      <td>борзунова анастасия</td>\n      <td>22.00000</td>\n    </tr>\n    <tr>\n      <th>43</th>\n      <td>55</td>\n      <td>54</td>\n      <td>53</td>\n      <td>52</td>\n      <td>31</td>\n      <td>22</td>\n      <td>51</td>\n      <td>38</td>\n      <td>32</td>\n      <td>25</td>\n      <td>26</td>\n      <td>14</td>\n      <td>15</td>\n      <td>18</td>\n      <td>37</td>\n      <td>хоменюк петр</td>\n      <td>22.00000</td>\n    </tr>\n    <tr>\n      <th>28</th>\n      <td>12</td>\n      <td>43</td>\n      <td>32</td>\n      <td>19</td>\n      <td>28</td>\n      <td>31</td>\n      <td>33</td>\n      <td>45-46</td>\n      <td>47</td>\n      <td>25</td>\n      <td>37</td>\n      <td>34-35</td>\n      <td>24</td>\n      <td>29</td>\n      <td>27</td>\n      <td>мусина айша</td>\n      <td>22.00000</td>\n    </tr>\n    <tr>\n      <th>13</th>\n      <td>25</td>\n      <td>26</td>\n      <td>23</td>\n      <td>45-46</td>\n      <td>24</td>\n      <td>51</td>\n      <td>47</td>\n      <td>33</td>\n      <td>16</td>\n      <td>18</td>\n      <td>36</td>\n      <td>22</td>\n      <td>50</td>\n      <td>48</td>\n      <td>37</td>\n      <td>закиров дмитрий</td>\n      <td>22.00000</td>\n    </tr>\n    <tr>\n      <th>5</th>\n      <td>48</td>\n      <td>14</td>\n      <td>13</td>\n      <td>45-46</td>\n      <td>33</td>\n      <td>19</td>\n      <td>49</td>\n      <td>44</td>\n      <td>32</td>\n      <td>29</td>\n      <td>12</td>\n      <td>22</td>\n      <td>15</td>\n      <td>26</td>\n      <td>28</td>\n      <td>головач максим</td>\n      <td>22.00000</td>\n    </tr>\n    <tr>\n      <th>15</th>\n      <td>25</td>\n      <td>26</td>\n      <td>48</td>\n      <td>47</td>\n      <td>51</td>\n      <td>33</td>\n      <td>20</td>\n      <td>38</td>\n      <td>36</td>\n      <td>37</td>\n      <td>12</td>\n      <td>50</td>\n      <td>24</td>\n      <td>31</td>\n      <td>43</td>\n      <td>антонова дарья</td>\n      <td>21.00000</td>\n    </tr>\n    <tr>\n      <th>40</th>\n      <td>37</td>\n      <td>50</td>\n      <td>36</td>\n      <td>26</td>\n      <td>48</td>\n      <td>51</td>\n      <td>47</td>\n      <td>33</td>\n      <td>28</td>\n      <td>29</td>\n      <td>25</td>\n      <td>18</td>\n      <td>45</td>\n      <td>22</td>\n      <td>39</td>\n      <td>ипатов артем</td>\n      <td>21.00000</td>\n    </tr>\n    <tr>\n      <th>4</th>\n      <td>36</td>\n      <td>14</td>\n      <td>33</td>\n      <td>15</td>\n      <td>45-46</td>\n      <td>24</td>\n      <td>12</td>\n      <td>38</td>\n      <td>20</td>\n      <td>22</td>\n      <td>23</td>\n      <td>13</td>\n      <td>31</td>\n      <td>28</td>\n      <td>42</td>\n      <td>бурзунов данил</td>\n      <td>21.00000</td>\n    </tr>\n    <tr>\n      <th>25</th>\n      <td>37</td>\n      <td>36</td>\n      <td>50</td>\n      <td>28</td>\n      <td>26</td>\n      <td>25</td>\n      <td>22</td>\n      <td>34-35</td>\n      <td>24</td>\n      <td>23</td>\n      <td>47</td>\n      <td>33</td>\n      <td>16</td>\n      <td>18</td>\n      <td>40</td>\n      <td>кузнецов дмитрий</td>\n      <td>20.00000</td>\n    </tr>\n    <tr>\n      <th>11</th>\n      <td>48</td>\n      <td>25</td>\n      <td>26</td>\n      <td>33</td>\n      <td>49</td>\n      <td>27</td>\n      <td>24</td>\n      <td>43</td>\n      <td>50</td>\n      <td>47</td>\n      <td>12</td>\n      <td>13</td>\n      <td>19</td>\n      <td>37</td>\n      <td>14</td>\n      <td>абазов руслан</td>\n      <td>20.00000</td>\n    </tr>\n    <tr>\n      <th>27</th>\n      <td>22</td>\n      <td>38</td>\n      <td>47</td>\n      <td>51</td>\n      <td>26</td>\n      <td>31</td>\n      <td>33</td>\n      <td>13</td>\n      <td>50</td>\n      <td>28</td>\n      <td>39</td>\n      <td>29</td>\n      <td>37</td>\n      <td>24</td>\n      <td>56-57</td>\n      <td>касько константин</td>\n      <td>19.00000</td>\n    </tr>\n    <tr>\n      <th>1</th>\n      <td>25</td>\n      <td>12</td>\n      <td>22</td>\n      <td>37</td>\n      <td>50</td>\n      <td>34-35</td>\n      <td>23</td>\n      <td>24</td>\n      <td>14</td>\n      <td>40</td>\n      <td>31</td>\n      <td>56-57</td>\n      <td>38</td>\n      <td>30</td>\n      <td>51</td>\n      <td>исламуратов марат</td>\n      <td>19.00000</td>\n    </tr>\n    <tr>\n      <th>18</th>\n      <td>45-46</td>\n      <td>27</td>\n      <td>25</td>\n      <td>43</td>\n      <td>13</td>\n      <td>36</td>\n      <td>38</td>\n      <td>14</td>\n      <td>23</td>\n      <td>50</td>\n      <td>31</td>\n      <td>20</td>\n      <td>42</td>\n      <td>12</td>\n      <td>33</td>\n      <td>горбаренко анастасия</td>\n      <td>19.00000</td>\n    </tr>\n    <tr>\n      <th>0</th>\n      <td>19</td>\n      <td>12</td>\n      <td>25</td>\n      <td>32</td>\n      <td>26</td>\n      <td>33</td>\n      <td>20</td>\n      <td>50</td>\n      <td>28</td>\n      <td>18</td>\n      <td>24</td>\n      <td>48</td>\n      <td>29</td>\n      <td>22</td>\n      <td>43</td>\n      <td>хури полина</td>\n      <td>18.00000</td>\n    </tr>\n  </tbody>\n</table>\n</div>"
     },
     "execution_count": 218,
     "metadata": {},
     "output_type": "execute_result"
    }
   ],
   "source": [
    "students_choose_projects = func2(ratings, '2023-06-12 ShMIa 2023 vybor proekta.xlsx')\n",
    "students_choose_projects"
   ],
   "metadata": {
    "collapsed": false,
    "ExecuteTime": {
     "end_time": "2023-07-24T12:58:46.384167800Z",
     "start_time": "2023-07-24T12:58:45.471149500Z"
    }
   }
  },
  {
   "cell_type": "code",
   "execution_count": 219,
   "outputs": [],
   "source": [
    "cols = ['1 приоритет', '2 приоритет', '3 приоритет', '4 приоритет', '5 приоритет', '6 приоритет', '7 приоритет',\n",
    "        '8 приоритет', '9 приоритет', '10 приоритет', '11 приоритет', '12 приоритет', '13 приоритет', '14 приоритет',\n",
    "        '15 приоритет']\n",
    "lst_of_all_projects = pd.concat([students_choose_projects[col] for col in cols]).unique()\n",
    "#lst_of_all_projects"
   ],
   "metadata": {
    "collapsed": false,
    "ExecuteTime": {
     "end_time": "2023-07-24T12:58:46.417198300Z",
     "start_time": "2023-07-24T12:58:46.385153100Z"
    }
   }
  },
  {
   "cell_type": "code",
   "execution_count": 220,
   "outputs": [],
   "source": [
    "applicants = []\n",
    "for _, row in students_choose_projects.iterrows():\n",
    "    name = row['фамилия + имя']  # Использование столбца 'Фамилия + имя' из students_choose_projects\n",
    "    projects = []\n",
    "    for i in range(1, 16):  # Итерация по столбцам с приоритетами ('1 приоритет', '2 приоритет', ..., '15 приоритет')\n",
    "        project = row[str(i) + ' приоритет']  # Получение значения приоритета проекта\n",
    "        projects.append(project)\n",
    "\n",
    "    remaining_projects = list(set(lst_of_all_projects) - set(projects))\n",
    "    random.Random(3).shuffle(remaining_projects)\n",
    "    projects += remaining_projects\n",
    "\n",
    "    applicant = Applicant(name, projects)\n",
    "    applicants.append(applicant)"
   ],
   "metadata": {
    "collapsed": false,
    "ExecuteTime": {
     "end_time": "2023-07-24T12:58:46.533178700Z",
     "start_time": "2023-07-24T12:58:46.399635800Z"
    }
   }
  },
  {
   "cell_type": "code",
   "execution_count": 221,
   "outputs": [],
   "source": [
    "projects = {}\n",
    "for project_number in lst_of_all_projects:\n",
    "    name = str(project_number)\n",
    "    capacity = 2 if name == '48' else 1  # Устанавливаем capacity=2 для проекта с номером '48', иначе capacity=1\n",
    "    students = list(\n",
    "        ratings['фамилия + имя'])  # Заполняем список студентов из столбца 'фамилия + имя' в DataFrame ratings\n",
    "    project = Project(name, capacity, students)\n",
    "    projects[name] = project"
   ],
   "metadata": {
    "collapsed": false,
    "ExecuteTime": {
     "end_time": "2023-07-24T12:58:46.535169400Z",
     "start_time": "2023-07-24T12:58:46.454430Z"
    }
   }
  },
  {
   "cell_type": "code",
   "execution_count": 222,
   "outputs": [],
   "source": [
    "matches = gale_shapley(applicants, projects)"
   ],
   "metadata": {
    "collapsed": false,
    "ExecuteTime": {
     "end_time": "2023-07-24T12:58:46.577763100Z",
     "start_time": "2023-07-24T12:58:46.480596200Z"
    }
   }
  },
  {
   "cell_type": "code",
   "execution_count": 223,
   "outputs": [
    {
     "data": {
      "text/plain": "<Figure size 640x480 with 1 Axes>",
      "image/png": "[encoded data removed]"
     },
     "metadata": {},
     "output_type": "display_data"
    }
   ],
   "source": [
    "def metrics(matches):\n",
    "    ind_of_recieved_projects = [matches[i][0].preferences_of_school.index(matches[i][1].name) + 1 for i in\n",
    "                                range(len(matches))]\n",
    "\n",
    "    ind_of_recieved_students_by_project = defaultdict(list)\n",
    "    for elem in matches:\n",
    "        ind_of_recieved_students_by_project[elem[1].name].append(\n",
    "            elem[1].preferences_of_students.index(elem[0].name) + 1)\n",
    "\n",
    "    weight_places = [(len(ind_of_recieved_projects) - i) * ind_of_recieved_projects[i] for i in\n",
    "                     range(len(ind_of_recieved_projects))]\n",
    "    return f'среднее место проекта у студентов: {np.mean(ind_of_recieved_projects):.3f}, среднее место студентов у проектов: {np.mean(list(map(np.mean, ind_of_recieved_students_by_project.values()))):.3f}'\n",
    "\n",
    "\n",
    "def plot(matches):\n",
    "    ind_of_recieved_projects = [matches[i][0].preferences_of_school.index(matches[i][1].name) + 1 for i in\n",
    "                                range(len(matches))]\n",
    "\n",
    "    x = range(1, len(ind_of_recieved_projects) + 1)\n",
    "    y = ind_of_recieved_projects\n",
    "\n",
    "    plt.scatter(x, y)\n",
    "    plt.xlabel('Номер по баллам')\n",
    "    plt.ylim(0, 34)\n",
    "    plt.ylabel('Место проекта у студента')\n",
    "    plt.title('График')\n",
    "    plt.show()\n",
    "\n",
    "    return ind_of_recieved_projects\n",
    "\n",
    "\n",
    "our = plot(matches)"
   ],
   "metadata": {
    "collapsed": false,
    "ExecuteTime": {
     "end_time": "2023-07-24T12:58:46.771941200Z",
     "start_time": "2023-07-24T12:58:46.493546700Z"
    }
   }
  },
  {
   "cell_type": "code",
   "execution_count": 224,
   "outputs": [],
   "source": [
    "lst_ans = [(elem[0].name, elem[1].name) for elem in matches]\n",
    "ans = pd.DataFrame(lst_ans).rename({0: 'Фамилия Имя', 1: 'Номер полученного проекта'}, axis=1)\n",
    "ans.to_excel('ans.xlsx', index=False)"
   ],
   "metadata": {
    "collapsed": false,
    "ExecuteTime": {
     "end_time": "2023-07-24T12:58:46.923502800Z",
     "start_time": "2023-07-24T12:58:46.781940600Z"
    }
   }
  },
  {
   "cell_type": "code",
   "execution_count": 225,
   "outputs": [],
   "source": [
    "# raspredelenie = pd.read_excel('Студенты по локациям 2023.xlsx', sheet_name='Распределение студентов')\n",
    "# df = pd.DataFrame(raspredelenie, columns=['Unnamed: 3', 'Unnamed: 7'])\n",
    "# df['фамилия + имя'] = df['Unnamed: 3'].str.lower()\n",
    "# df = df.drop('Unnamed: 3', axis=1)\n",
    "# df = df.rename(columns={'Unnamed: 7': 'проект'})\n",
    "#\n",
    "# df['Word Count'] = df['фамилия + имя'].str.split().str.len()\n",
    "# df_first = df[df['Word Count'] == 2].drop('Word Count', axis=1)\n",
    "# ##\n",
    "# df = pd.DataFrame(raspredelenie, columns=['Unnamed: 15', 'Unnamed: 19'])\n",
    "# df['фамилия + имя'] = df['Unnamed: 15'].str.lower()\n",
    "# df = df.drop('Unnamed: 15', axis=1)\n",
    "# df = df.rename(columns={'Unnamed: 19': 'проект'})\n",
    "#\n",
    "# df['Word Count'] = df['фамилия + имя'].str.split().str.len()\n",
    "# df_second = df[df['Word Count'] == 2].drop('Word Count', axis=1)\n",
    "#\n",
    "# ##\n",
    "#\n",
    "# cur_raspredelenie = pd.concat([df_first, df_second], axis=0)\n",
    "# cur_raspredelenie['проект'] = cur_raspredelenie['проект'].astype(str)\n",
    "# cur_raspredelenie['фамилия + имя'] = cur_raspredelenie['фамилия + имя'].str.replace('ё', 'е').str.strip()"
   ],
   "metadata": {
    "collapsed": false,
    "ExecuteTime": {
     "end_time": "2023-07-24T12:58:46.934207100Z",
     "start_time": "2023-07-24T12:58:46.826545500Z"
    }
   }
  },
  {
   "cell_type": "code",
   "execution_count": 226,
   "outputs": [],
   "source": [
    "# dict_with_raspredelenie = cur_raspredelenie.set_index('фамилия + имя')['проект'].to_dict()"
   ],
   "metadata": {
    "collapsed": false,
    "ExecuteTime": {
     "end_time": "2023-07-24T12:58:46.935197900Z",
     "start_time": "2023-07-24T12:58:46.843647700Z"
    }
   }
  },
  {
   "cell_type": "code",
   "execution_count": 227,
   "outputs": [],
   "source": [
    "# cur_matches = matches.copy()"
   ],
   "metadata": {
    "collapsed": false,
    "ExecuteTime": {
     "end_time": "2023-07-24T12:58:46.935197900Z",
     "start_time": "2023-07-24T12:58:46.854101Z"
    }
   }
  },
  {
   "cell_type": "code",
   "execution_count": 228,
   "outputs": [],
   "source": [
    "# for i in range(len(cur_matches)):\n",
    "#     cur_matches[i][1] = projects[dict_with_raspredelenie[cur_matches[i][0].name]]\n",
    "#     cur_matches[i][0].partner = projects[dict_with_raspredelenie[cur_matches[i][0].name]]\n",
    "# #cur_matches"
   ],
   "metadata": {
    "collapsed": false,
    "ExecuteTime": {
     "end_time": "2023-07-24T12:58:46.936249300Z",
     "start_time": "2023-07-24T12:58:46.869093700Z"
    }
   }
  },
  {
   "cell_type": "code",
   "execution_count": 229,
   "outputs": [],
   "source": [
    "# [print(elem[0].name, elem[0].proposal_index) for elem in cur_matches]\n",
    "# None"
   ],
   "metadata": {
    "collapsed": false,
    "ExecuteTime": {
     "end_time": "2023-07-24T12:58:46.936249300Z",
     "start_time": "2023-07-24T12:58:46.886219600Z"
    }
   }
  },
  {
   "cell_type": "code",
   "execution_count": 230,
   "outputs": [],
   "source": [
    "# his = plot(matches)\n",
    "# metrics(matches)"
   ],
   "metadata": {
    "collapsed": false,
    "ExecuteTime": {
     "end_time": "2023-07-24T12:58:46.937209400Z",
     "start_time": "2023-07-24T12:58:46.903501Z"
    }
   }
  },
  {
   "cell_type": "code",
   "execution_count": 231,
   "outputs": [],
   "source": [
    "# plt.figure()\n",
    "#\n",
    "# plt.scatter(x=range(1, len(our) + 1), y=our, color='red', label='автоматическое')\n",
    "# plt.xlabel('Номер по баллам')\n",
    "# plt.scatter(x=range(1, len(his) + 1), y=[elem - 0.2 for elem in his], color='blue', label='ручное')\n",
    "# plt.ylabel('Место проекта у студента')\n",
    "# plt.legend()\n",
    "#\n",
    "# plt.show()"
   ],
   "metadata": {
    "collapsed": false,
    "ExecuteTime": {
     "end_time": "2023-07-24T12:58:46.937209400Z",
     "start_time": "2023-07-24T12:58:46.915037700Z"
    }
   }
  }
 ],
 "metadata": {
  "kernelspec": {
   "display_name": "Python 3",
   "language": "python",
   "name": "python3"
  },
  "language_info": {
   "codemirror_mode": {
    "name": "ipython",
    "version": 2
   },
   "file_extension": ".py",
   "mimetype": "text/x-python",
   "name": "python",
   "nbconvert_exporter": "python",
   "pygments_lexer": "ipython2",
   "version": "2.7.6"
  }
 },
 "nbformat": 4,
 "nbformat_minor": 0
}
