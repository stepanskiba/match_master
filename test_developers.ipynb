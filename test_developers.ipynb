{
 "cells": [
  {
   "cell_type": "code",
   "execution_count": 1,
   "metadata": {
    "collapsed": true,
    "ExecuteTime": {
     "end_time": "2023-07-30T11:18:45.534345200Z",
     "start_time": "2023-07-30T11:18:41.728448800Z"
    }
   },
   "outputs": [],
   "source": [
    "import pandas as pd\n",
    "import numpy as np\n",
    "from collections import defaultdict\n",
    "import matplotlib.pyplot as plt\n",
    "import random\n",
    "import re"
   ]
  },
  {
   "cell_type": "code",
   "execution_count": 2,
   "outputs": [],
   "source": [
    "class Applicant:\n",
    "    def __init__(self, name, preferences_of_school, specialization):\n",
    "        self.name = name\n",
    "        self.specialization = specialization\n",
    "        self.preferences_of_school = preferences_of_school\n",
    "        self.proposal_index = 0  # Индекс в списке предпочтений, куда была сделана предложение\n",
    "        self.partner = None  # Проект, с которым студент образует пару\n",
    "\n",
    "    def make_proposal(self):\n",
    "        # Метод для сделать предложение выбранным проектом из списка предпочтений\n",
    "        preference_of_school = self.preferences_of_school[self.proposal_index]\n",
    "        self.proposal_index += 1\n",
    "        return preference_of_school\n",
    "\n",
    "    def receive_partner(self, partner):\n",
    "        # Метод для добавления проекта\n",
    "        self.partner = partner\n",
    "\n",
    "    def is_free(self):\n",
    "        # Метод, возвращающий True, если студент свободен и еще не образовал пару\n",
    "        return self.partner is None\n",
    "\n",
    "\n",
    "class Project:\n",
    "    def __init__(self, name, capacity, preferences_of_students):\n",
    "        self.name = name\n",
    "        self.capacity = int(capacity)  # количество мест\n",
    "        self.place = None\n",
    "        self.preferences_of_students = preferences_of_students  # предпочтения проекта\n",
    "        self.applicants = []\n",
    "\n",
    "    def add_applicant(self, applicant):\n",
    "        # Метод для добавления студента в список принятых проектом\n",
    "        self.applicants.append(applicant)\n",
    "\n",
    "    def remove_applicant(self, applicant):\n",
    "        # Метод для удаления студента из списка принятых проектом\n",
    "        self.applicants.remove(applicant)\n",
    "\n",
    "    def has_capacity(self):\n",
    "        # Метод, возвращающий True, если в проекте есть свободные места\n",
    "        return len(self.applicants) < self.capacity\n",
    "\n",
    "    def prefers_applicant(self, applicant):\n",
    "        # Метод, проверяющий, предпочитает ли проекта данный студент\n",
    "        #return self.capacity\n",
    "        #print(applicant.name, self.preferences_of_students[:self.capacity])\n",
    "        return applicant.name in self.preferences_of_students[:self.capacity]\n",
    "\n",
    "    def get_least_preferred_applicant(self):\n",
    "        # Метод, возвращающий наименее предпочитаемого студента в проекте\n",
    "        return self.applicants[-1]\n",
    "\n",
    "\n",
    "def gale_shapley(applicants, schools, ratings):\n",
    "    applicants_sort = [applicants[elem] for elem in ratings['Фамилия Имя'].tolist()]\n",
    "    #return applicants\n",
    "    while True:\n",
    "        free_applicants = [applicant for applicant in applicants_sort if applicant.is_free()]\n",
    "\n",
    "        if not free_applicants:\n",
    "            break\n",
    "\n",
    "        for applicant in free_applicants:\n",
    "            #print(applicant.name)\n",
    "            school_name = str(applicant.make_proposal())\n",
    "            school = schools[school_name]\n",
    "\n",
    "            if school.has_capacity():\n",
    "                school.add_applicant(applicant)\n",
    "                applicant.receive_partner(school)\n",
    "                applicant.priority = applicant.preferences_of_school.index(school.name) + 1\n",
    "        else:\n",
    "            least_preferred_applicant = school.get_least_preferred_applicant()\n",
    "\n",
    "            if school.prefers_applicant(applicant):\n",
    "                school.remove_applicant(least_preferred_applicant)\n",
    "                least_preferred_applicant.receive_partner(None)\n",
    "\n",
    "                school.add_applicant(applicant)\n",
    "                applicant.receive_partner(school)\n",
    "\n",
    "    matches = [[applicant, applicant.partner] for applicant in applicants_sort]\n",
    "    return matches"
   ],
   "metadata": {
    "collapsed": false,
    "ExecuteTime": {
     "end_time": "2023-07-30T11:18:45.552878Z",
     "start_time": "2023-07-30T11:18:45.538641600Z"
    }
   }
  },
  {
   "cell_type": "code",
   "execution_count": 3,
   "outputs": [
    {
     "data": {
      "text/plain": "       Фамилия      Имя  Место в рейтинге        Фамилия Имя\n0     Латрыгин  Арсений               1.0   латрыгин арсений\n1      Смирнов  Дмитрий               2.0    смирнов дмитрий\n2        Быков   Кирилл               3.0       быков кирилл\n3  Султанбеков    Карим               4.0  султанбеков карим\n4    Федосеев     Игорь               5.0     федосеев игорь",
      "text/html": "<div>\n<style scoped>\n    .dataframe tbody tr th:only-of-type {\n        vertical-align: middle;\n    }\n\n    .dataframe tbody tr th {\n        vertical-align: top;\n    }\n\n    .dataframe thead th {\n        text-align: right;\n    }\n</style>\n<table border=\"1\" class=\"dataframe\">\n  <thead>\n    <tr style=\"text-align: right;\">\n      <th></th>\n      <th>Фамилия</th>\n      <th>Имя</th>\n      <th>Место в рейтинге</th>\n      <th>Фамилия Имя</th>\n    </tr>\n  </thead>\n  <tbody>\n    <tr>\n      <th>0</th>\n      <td>Латрыгин</td>\n      <td>Арсений</td>\n      <td>1.0</td>\n      <td>латрыгин арсений</td>\n    </tr>\n    <tr>\n      <th>1</th>\n      <td>Смирнов</td>\n      <td>Дмитрий</td>\n      <td>2.0</td>\n      <td>смирнов дмитрий</td>\n    </tr>\n    <tr>\n      <th>2</th>\n      <td>Быков</td>\n      <td>Кирилл</td>\n      <td>3.0</td>\n      <td>быков кирилл</td>\n    </tr>\n    <tr>\n      <th>3</th>\n      <td>Султанбеков</td>\n      <td>Карим</td>\n      <td>4.0</td>\n      <td>султанбеков карим</td>\n    </tr>\n    <tr>\n      <th>4</th>\n      <td>Федосеев</td>\n      <td>Игорь</td>\n      <td>5.0</td>\n      <td>федосеев игорь</td>\n    </tr>\n  </tbody>\n</table>\n</div>"
     },
     "execution_count": 3,
     "metadata": {},
     "output_type": "execute_result"
    }
   ],
   "source": [
    "ratings_flutter = pd.read_excel('cur/shmr-dlja-kati.xlsx', sheet_name='Flutter').dropna()\n",
    "ratings_flutter['Фамилия Имя'] = ratings_flutter['Фамилия'].str.strip() + ' ' + ratings_flutter['Имя'].str.strip()\n",
    "ratings_flutter['Фамилия Имя'] = ratings_flutter['Фамилия Имя'].str.lower()\n",
    "ratings_flutter.head()"
   ],
   "metadata": {
    "collapsed": false,
    "ExecuteTime": {
     "end_time": "2023-07-30T11:18:46.287876100Z",
     "start_time": "2023-07-30T11:18:45.555221200Z"
    }
   }
  },
  {
   "cell_type": "code",
   "execution_count": 4,
   "outputs": [
    {
     "data": {
      "text/plain": "          Фамилия Имя  Место в рейтинге\n0      воробьев антон                 1\n1     задорожный глеб                 2\n2  беляковский михаил                 3\n3       языков данила                 4\n4       зданович иван                 5",
      "text/html": "<div>\n<style scoped>\n    .dataframe tbody tr th:only-of-type {\n        vertical-align: middle;\n    }\n\n    .dataframe tbody tr th {\n        vertical-align: top;\n    }\n\n    .dataframe thead th {\n        text-align: right;\n    }\n</style>\n<table border=\"1\" class=\"dataframe\">\n  <thead>\n    <tr style=\"text-align: right;\">\n      <th></th>\n      <th>Фамилия Имя</th>\n      <th>Место в рейтинге</th>\n    </tr>\n  </thead>\n  <tbody>\n    <tr>\n      <th>0</th>\n      <td>воробьев антон</td>\n      <td>1</td>\n    </tr>\n    <tr>\n      <th>1</th>\n      <td>задорожный глеб</td>\n      <td>2</td>\n    </tr>\n    <tr>\n      <th>2</th>\n      <td>беляковский михаил</td>\n      <td>3</td>\n    </tr>\n    <tr>\n      <th>3</th>\n      <td>языков данила</td>\n      <td>4</td>\n    </tr>\n    <tr>\n      <th>4</th>\n      <td>зданович иван</td>\n      <td>5</td>\n    </tr>\n  </tbody>\n</table>\n</div>"
     },
     "execution_count": 4,
     "metadata": {},
     "output_type": "execute_result"
    }
   ],
   "source": [
    "ratings_android = pd.read_excel('cur/shmr-dlja-kati.xlsx', sheet_name='Android')\n",
    "ratings_android['Фамилия Имя'] = ratings_android['Фамилия Имя'].str.lower()\n",
    "ratings_android.head()"
   ],
   "metadata": {
    "collapsed": false,
    "ExecuteTime": {
     "end_time": "2023-07-30T11:18:46.443391Z",
     "start_time": "2023-07-30T11:18:46.282573900Z"
    }
   }
  },
  {
   "cell_type": "code",
   "execution_count": 5,
   "outputs": [
    {
     "data": {
      "text/plain": "     Фамилия        Имя  Место в рейтинге         Фамилия Имя\n0    Ильичев      Данил                 1       ильичев данил\n1     Нуждин   Владимир                 2     нуждин владимир\n2   Ильченко  Александр                 3  ильченко александр\n3  Рассказов       Глеб                 4      рассказов глеб\n4   Федорова      София                 5      федорова софия",
      "text/html": "<div>\n<style scoped>\n    .dataframe tbody tr th:only-of-type {\n        vertical-align: middle;\n    }\n\n    .dataframe tbody tr th {\n        vertical-align: top;\n    }\n\n    .dataframe thead th {\n        text-align: right;\n    }\n</style>\n<table border=\"1\" class=\"dataframe\">\n  <thead>\n    <tr style=\"text-align: right;\">\n      <th></th>\n      <th>Фамилия</th>\n      <th>Имя</th>\n      <th>Место в рейтинге</th>\n      <th>Фамилия Имя</th>\n    </tr>\n  </thead>\n  <tbody>\n    <tr>\n      <th>0</th>\n      <td>Ильичев</td>\n      <td>Данил</td>\n      <td>1</td>\n      <td>ильичев данил</td>\n    </tr>\n    <tr>\n      <th>1</th>\n      <td>Нуждин</td>\n      <td>Владимир</td>\n      <td>2</td>\n      <td>нуждин владимир</td>\n    </tr>\n    <tr>\n      <th>2</th>\n      <td>Ильченко</td>\n      <td>Александр</td>\n      <td>3</td>\n      <td>ильченко александр</td>\n    </tr>\n    <tr>\n      <th>3</th>\n      <td>Рассказов</td>\n      <td>Глеб</td>\n      <td>4</td>\n      <td>рассказов глеб</td>\n    </tr>\n    <tr>\n      <th>4</th>\n      <td>Федорова</td>\n      <td>София</td>\n      <td>5</td>\n      <td>федорова софия</td>\n    </tr>\n  </tbody>\n</table>\n</div>"
     },
     "execution_count": 5,
     "metadata": {},
     "output_type": "execute_result"
    }
   ],
   "source": [
    "ratings_ios = pd.read_excel('cur/shmr-dlja-kati.xlsx', sheet_name='iOS')\n",
    "ratings_ios['Фамилия Имя'] = ratings_ios['Фамилия'].str.strip() + ' ' + ratings_ios['Имя'].str.strip()\n",
    "ratings_ios['Фамилия Имя'] = ratings_ios['Фамилия Имя'].str.lower()\n",
    "ratings_ios.head()"
   ],
   "metadata": {
    "collapsed": false,
    "ExecuteTime": {
     "end_time": "2023-07-30T11:18:46.444535500Z",
     "start_time": "2023-07-30T11:18:46.332237200Z"
    }
   }
  },
  {
   "cell_type": "code",
   "execution_count": 6,
   "outputs": [],
   "source": [
    "ratings_front = pd.read_excel('cur/Баллы ШРИ.xlsx', sheet_name='Лист1').dropna()\n",
    "ratings_front['Фамилия Имя'] = ratings_front['Фамилия Имя'].str.lower().str.strip()"
   ],
   "metadata": {
    "collapsed": false,
    "ExecuteTime": {
     "end_time": "2023-07-30T11:18:46.487675700Z",
     "start_time": "2023-07-30T11:18:46.382943700Z"
    }
   }
  },
  {
   "cell_type": "code",
   "execution_count": 7,
   "outputs": [],
   "source": [
    "ratings_backend = pd.read_excel('cur/ШБР и рейтинг.xlsx')\n",
    "ratings_backend = ratings_backend.rename({'Студент': 'Фамилия Имя'}, axis=1).sort_values(\n",
    "    by='Место в рейтинге (в рамках трека)', ascending=True).dropna()\n",
    "ratings_backend['Фамилия Имя'] = ratings_backend['Фамилия Имя'].str.lower()\n",
    "ratings_backend['Фамилия Имя'] = ratings_backend['Фамилия Имя'].apply(\n",
    "    lambda full_name: ' '.join(reversed(full_name.split(' ', 1))))"
   ],
   "metadata": {
    "collapsed": false,
    "ExecuteTime": {
     "end_time": "2023-07-30T11:18:46.587504600Z",
     "start_time": "2023-07-30T11:18:46.437040100Z"
    }
   }
  },
  {
   "cell_type": "code",
   "execution_count": 8,
   "outputs": [
    {
     "data": {
      "text/plain": "         Фамилия Имя    Трек  Место в рейтинге (в рамках трека)\n0      дробышев иван  Python                                1.0\n140    муратов антон      Go                                1.0\n49   мингарипов нияз     С++                                1.0\n138      хасан карим    Java                                1.0\n141     фадеев артём      Go                                2.0",
      "text/html": "<div>\n<style scoped>\n    .dataframe tbody tr th:only-of-type {\n        vertical-align: middle;\n    }\n\n    .dataframe tbody tr th {\n        vertical-align: top;\n    }\n\n    .dataframe thead th {\n        text-align: right;\n    }\n</style>\n<table border=\"1\" class=\"dataframe\">\n  <thead>\n    <tr style=\"text-align: right;\">\n      <th></th>\n      <th>Фамилия Имя</th>\n      <th>Трек</th>\n      <th>Место в рейтинге (в рамках трека)</th>\n    </tr>\n  </thead>\n  <tbody>\n    <tr>\n      <th>0</th>\n      <td>дробышев иван</td>\n      <td>Python</td>\n      <td>1.0</td>\n    </tr>\n    <tr>\n      <th>140</th>\n      <td>муратов антон</td>\n      <td>Go</td>\n      <td>1.0</td>\n    </tr>\n    <tr>\n      <th>49</th>\n      <td>мингарипов нияз</td>\n      <td>С++</td>\n      <td>1.0</td>\n    </tr>\n    <tr>\n      <th>138</th>\n      <td>хасан карим</td>\n      <td>Java</td>\n      <td>1.0</td>\n    </tr>\n    <tr>\n      <th>141</th>\n      <td>фадеев артём</td>\n      <td>Go</td>\n      <td>2.0</td>\n    </tr>\n  </tbody>\n</table>\n</div>"
     },
     "execution_count": 8,
     "metadata": {},
     "output_type": "execute_result"
    }
   ],
   "source": [
    "ratings_backend.head()"
   ],
   "metadata": {
    "collapsed": false,
    "ExecuteTime": {
     "end_time": "2023-07-30T11:18:46.676525900Z",
     "start_time": "2023-07-30T11:18:46.516512900Z"
    }
   }
  },
  {
   "cell_type": "code",
   "execution_count": 9,
   "outputs": [],
   "source": [
    "ratings_python = ratings_backend[ratings_backend['Трек'] == 'Python']\n",
    "ratings_c = ratings_backend[ratings_backend['Трек'] == 'С++']\n",
    "ratings_java = ratings_backend[ratings_backend['Трек'] == 'Java']\n",
    "ratings_go = ratings_backend[ratings_backend['Трек'] == 'Go']"
   ],
   "metadata": {
    "collapsed": false,
    "ExecuteTime": {
     "end_time": "2023-07-30T11:18:46.677560Z",
     "start_time": "2023-07-30T11:18:46.529180200Z"
    }
   }
  },
  {
   "cell_type": "code",
   "execution_count": 10,
   "outputs": [],
   "source": [
    "df = pd.read_excel('cur/Студенты по локациям 2023 (4).xlsx', sheet_name='Тайминг 24-25 июля')\n",
    "df = df.drop(index=0)\n",
    "df['Хаб'].replace('Москва + возможность сформировать часть команды в КЗ', 'Москва', inplace=True)\n",
    "df['Хаб'] = df['Хаб'].apply(lambda x: x.strip())\n",
    "selected_columns = ['Бэкенд Python', 'Бэкенд Go', 'Бэкенд C++', 'Бэкенд Java', 'Фронт', 'Мобилка iOS',\n",
    "                    'Мобилка Android', 'Мобилка Flutter']\n",
    "df[selected_columns] = df[selected_columns].apply(pd.to_numeric, errors='coerce')\n",
    "df[selected_columns] = df[selected_columns].fillna(df[selected_columns])\n",
    "selected_columns_2 = ['Тестировщик', 'Дизайнер']\n",
    "#df[selected_columns_2] = df[selected_columns_2].applymap(lambda x: 1.0 if x.lower() == 'нужен' else np.nan)\n",
    "df['Дизайнер'] = df['Дизайнер'].apply(lambda x: 2 if str(x).lower() == 'нужен' else np.nan)\n",
    "df.at[9, 'Дизайнер'] = 3\n",
    "df['Тестировщик'] = df['Тестировщик'].apply(lambda x: 1 if str(x).lower() == 'нужен' else np.nan)"
   ],
   "metadata": {
    "collapsed": false,
    "ExecuteTime": {
     "end_time": "2023-07-30T11:18:46.796510500Z",
     "start_time": "2023-07-30T11:18:46.546264300Z"
    }
   }
  },
  {
   "cell_type": "code",
   "execution_count": 11,
   "outputs": [],
   "source": [
    "projects_python = {}\n",
    "projects_go = {}\n",
    "projects_c = {}\n",
    "projects_java = {}\n",
    "\n",
    "projects_front = {}\n",
    "\n",
    "projects_ios = {}\n",
    "projects_android = {}\n",
    "projects_flutter = {}\n",
    "\n",
    "projects_qa = {}\n",
    "projects_design = {}\n",
    "\n",
    "for index, row in df.iterrows():\n",
    "    place = row['Хаб']\n",
    "\n",
    "    if pd.notna(row['Бэкенд Python']):\n",
    "        name = row['Название проекта'].strip()\n",
    "        name += ' # Python'\n",
    "        project = Project(name=name, capacity=row['Бэкенд Python'],\n",
    "                          preferences_of_students=ratings_python['Фамилия Имя'].tolist())\n",
    "        project.place = place\n",
    "        projects_python[name] = project\n",
    "\n",
    "    if pd.notna(row['Бэкенд Go']):\n",
    "        name = row['Название проекта'].strip()\n",
    "        name += ' # Go'\n",
    "        project = Project(name=name, capacity=row['Бэкенд Go'],\n",
    "                          preferences_of_students=ratings_go['Фамилия Имя'].tolist())\n",
    "        project.place = place\n",
    "        projects_go[name] = project\n",
    "\n",
    "    if pd.notna(row['Бэкенд C++']):\n",
    "        name = row['Название проекта'].strip()\n",
    "        name += ' # C++'\n",
    "        project = Project(name=name, capacity=row['Бэкенд C++'],\n",
    "                          preferences_of_students=ratings_c['Фамилия Имя'].tolist())\n",
    "        project.place = place\n",
    "        projects_c[name] = project\n",
    "\n",
    "    if pd.notna(row['Бэкенд Java']):\n",
    "        name = row['Название проекта'].strip()\n",
    "        name += ' # Java'\n",
    "        project = Project(name=name, capacity=row['Бэкенд Java'],\n",
    "                          preferences_of_students=ratings_java['Фамилия Имя'].tolist())\n",
    "        project.place = place\n",
    "        projects_java[name] = project\n",
    "\n",
    "    if pd.notna(row['Фронт']):\n",
    "        name = row['Название проекта'].strip()\n",
    "        name += ' # Фронт'\n",
    "        project = Project(name=name, capacity=row['Фронт'],\n",
    "                          preferences_of_students=ratings_front['Фамилия Имя'].tolist())\n",
    "        project.place = place\n",
    "        projects_front[name] = project\n",
    "\n",
    "    if pd.notna(row['Мобилка iOS']):\n",
    "        name = row['Название проекта'].strip()\n",
    "        name += ' # iOS'\n",
    "        project = Project(name=name, capacity=row['Мобилка iOS'],\n",
    "                          preferences_of_students=ratings_ios['Фамилия Имя'].tolist())\n",
    "        project.place = place\n",
    "        projects_ios[name] = project\n",
    "\n",
    "    if pd.notna(row['Мобилка Android']):\n",
    "        name = row['Название проекта'].strip()\n",
    "        name += ' # Android'\n",
    "        project = Project(name=name, capacity=row['Мобилка Android'],\n",
    "                          preferences_of_students=ratings_android['Фамилия Имя'].tolist())\n",
    "        project.place = place\n",
    "        projects_android[name] = project\n",
    "\n",
    "    if pd.notna(row['Мобилка Flutter']):\n",
    "        name = row['Название проекта'].strip()\n",
    "        name += ' # Flutter'\n",
    "        project = Project(name=name, capacity=row['Мобилка Flutter'],\n",
    "                          preferences_of_students=ratings_flutter['Фамилия Имя'].tolist())\n",
    "        project.place = place\n",
    "        projects_flutter[name] = project\n",
    "\n",
    "    if pd.notna(row['Тестировщик']):\n",
    "        name = row['Название проекта'].strip()\n",
    "        name += ' # Тестировщик'\n",
    "        project = Project(name=name, capacity=row['Тестировщик'], preferences_of_students=[])\n",
    "        project.place = place\n",
    "        projects_qa[name] = project\n",
    "\n",
    "    if pd.notna(row['Дизайнер']):\n",
    "        name = row['Название проекта'].strip()\n",
    "        name += ' # Дизайнер'\n",
    "        project = Project(name=name, capacity=row['Дизайнер'], preferences_of_students=[])\n",
    "        project.place = place\n",
    "        projects_design[name] = project"
   ],
   "metadata": {
    "collapsed": false,
    "ExecuteTime": {
     "end_time": "2023-07-30T11:18:46.837810400Z",
     "start_time": "2023-07-30T11:18:46.733787100Z"
    }
   }
  },
  {
   "cell_type": "code",
   "execution_count": 12,
   "outputs": [],
   "source": [
    "#assert sum(value.capacity for value in projects_flutter.values()) == len(ratings_flutter)\n",
    "assert sum(value.capacity for value in projects_ios.values()) == len(ratings_ios)\n",
    "assert sum(value.capacity for value in projects_android.values()) == len(ratings_android)\n",
    "\n",
    "#assert sum(value.capacity for value in projects_front.values()) == len(ratings_front)\n",
    "\n",
    "assert sum(value.capacity for value in projects_python.values()) == len(ratings_python)\n",
    "#assert sum(value.capacity for value in projects_c.values()) == len(ratings_c)\n",
    "assert sum(value.capacity for value in projects_java.values()) == len(ratings_java)\n",
    "assert sum(value.capacity for value in projects_go.values()) == len(ratings_go)"
   ],
   "metadata": {
    "collapsed": false,
    "ExecuteTime": {
     "end_time": "2023-07-30T11:18:46.872139100Z",
     "start_time": "2023-07-30T11:18:46.748383100Z"
    }
   }
  },
  {
   "cell_type": "code",
   "execution_count": 13,
   "outputs": [
    {
     "name": "stderr",
     "output_type": "stream",
     "text": [
      "F:\\python3.10\\lib\\site-packages\\openpyxl\\worksheet\\_reader.py:329: UserWarning: Data Validation extension is not supported and will be removed\n",
      "  warn(msg)\n"
     ]
    }
   ],
   "source": [
    "#priority = pd.read_excel('cur/Распределение_проектов_по_разработчикам.xlsx', sheet_name='Приоритеты студентов', header=5)\n",
    "priority = pd.read_excel('cur/Распределение проектов по разработчикам.xlsx', sheet_name='Приоритеты студентов',\n",
    "                         header=5)"
   ],
   "metadata": {
    "collapsed": false,
    "ExecuteTime": {
     "end_time": "2023-07-30T11:18:47.365853100Z",
     "start_time": "2023-07-30T11:18:46.758046600Z"
    }
   }
  },
  {
   "cell_type": "code",
   "execution_count": 14,
   "outputs": [
    {
     "data": {
      "text/plain": "  С кем ты хочешь быть на одном проекте (не забудьте указать все одинаковые приоритеты)  \\\n0                      Матвиенко Назар, Мезенин Олег                                      \n1  Дергунов Игорь,  Гоним Манар, Царапкин Дмитрий...                                      \n2                                                NaN                                      \n3                                                NaN                                      \n4                                                NaN                                      \n\n             Студент Школа Направление  \\\n0    Ковалюк Алексей   ШБР      Python   \n1  Суббота Анастасия   ШБР      Python   \n2     Глазачева Анна   ШБР      Python   \n3          Лапа Анна   ШБР      Python   \n4      Антонов Артём   ШБР      Python   \n\n                                         Приоритет 1  \\\n0                                      13. Я команда   \n1                              19. Эзотерика в Алисе   \n2                              19. Эзотерика в Алисе   \n3  44. Автоматизация проверки работ на направлени...   \n4                                   14. Ачивница 2.0   \n\n                                         Приоритет 2  \\\n0  15. Интерфейс для администрирования каналов ко...   \n1                                   14. Ачивница 2.0   \n2                                   14. Ачивница 2.0   \n3                                      13. Я команда   \n4      43. Геймификация выдачи офферов пользователям   \n\n                                         Приоритет 3  \\\n0                                   14. Ачивница 2.0   \n1  18. Умная система ценообразования заданий для ...   \n2                    48. Плафторма Яндекс Практикума   \n3                    48. Плафторма Яндекс Практикума   \n4                              19. Эзотерика в Алисе   \n\n                                         Приоритет 4  \\\n0  44. Автоматизация проверки работ на направлени...   \n1  37. Софт для эффективного управления автомобилями   \n2  44. Автоматизация проверки работ на направлени...   \n3                                   14. Ачивница 2.0   \n4  18. Умная система ценообразования заданий для ...   \n\n                                         Приоритет 5  \\\n0                  38. Сетевая реферальная программа   \n1  16. Расширение географии активных исполнителей...   \n2                  38. Сетевая реферальная программа   \n3      43. Геймификация выдачи офферов пользователям   \n4                                      13. Я команда   \n\n                                         Приоритет 6  ... Приоритет 43  \\\n0   24. Командировки в Go для бизнеса. ЛК Сотрудника  ...            -   \n1  15. Интерфейс для администрирования каналов ко...  ...            -   \n2                                      13. Я команда  ...            -   \n3                  38. Сетевая реферальная программа  ...            -   \n4  15. Интерфейс для администрирования каналов ко...  ...            -   \n\n  Приоритет 44 Приоритет 45 Приоритет 46 Приоритет 47 Приоритет 48  \\\n0            -            -            -            -            -   \n1            -            -            -            -            -   \n2            -            -            -            -            -   \n3            -            -            -            -            -   \n4            -            -            -            -            -   \n\n  Unnamed: 52 Unnamed: 53 Unnamed: 54 Unnamed: 55  \n0         NaN         NaN         NaN         NaN  \n1         NaN         NaN         NaN         NaN  \n2         NaN         NaN         NaN         NaN  \n3         NaN         NaN         NaN         NaN  \n4         NaN         NaN         NaN         NaN  \n\n[5 rows x 56 columns]",
      "text/html": "<div>\n<style scoped>\n    .dataframe tbody tr th:only-of-type {\n        vertical-align: middle;\n    }\n\n    .dataframe tbody tr th {\n        vertical-align: top;\n    }\n\n    .dataframe thead th {\n        text-align: right;\n    }\n</style>\n<table border=\"1\" class=\"dataframe\">\n  <thead>\n    <tr style=\"text-align: right;\">\n      <th></th>\n      <th>С кем ты хочешь быть на одном проекте (не забудьте указать все одинаковые приоритеты)</th>\n      <th>Студент</th>\n      <th>Школа</th>\n      <th>Направление</th>\n      <th>Приоритет 1</th>\n      <th>Приоритет 2</th>\n      <th>Приоритет 3</th>\n      <th>Приоритет 4</th>\n      <th>Приоритет 5</th>\n      <th>Приоритет 6</th>\n      <th>...</th>\n      <th>Приоритет 43</th>\n      <th>Приоритет 44</th>\n      <th>Приоритет 45</th>\n      <th>Приоритет 46</th>\n      <th>Приоритет 47</th>\n      <th>Приоритет 48</th>\n      <th>Unnamed: 52</th>\n      <th>Unnamed: 53</th>\n      <th>Unnamed: 54</th>\n      <th>Unnamed: 55</th>\n    </tr>\n  </thead>\n  <tbody>\n    <tr>\n      <th>0</th>\n      <td>Матвиенко Назар, Мезенин Олег</td>\n      <td>Ковалюк Алексей</td>\n      <td>ШБР</td>\n      <td>Python</td>\n      <td>13. Я команда</td>\n      <td>15. Интерфейс для администрирования каналов ко...</td>\n      <td>14. Ачивница 2.0</td>\n      <td>44. Автоматизация проверки работ на направлени...</td>\n      <td>38. Сетевая реферальная программа</td>\n      <td>24. Командировки в Go для бизнеса. ЛК Сотрудника</td>\n      <td>...</td>\n      <td>-</td>\n      <td>-</td>\n      <td>-</td>\n      <td>-</td>\n      <td>-</td>\n      <td>-</td>\n      <td>NaN</td>\n      <td>NaN</td>\n      <td>NaN</td>\n      <td>NaN</td>\n    </tr>\n    <tr>\n      <th>1</th>\n      <td>Дергунов Игорь,  Гоним Манар, Царапкин Дмитрий...</td>\n      <td>Суббота Анастасия</td>\n      <td>ШБР</td>\n      <td>Python</td>\n      <td>19. Эзотерика в Алисе</td>\n      <td>14. Ачивница 2.0</td>\n      <td>18. Умная система ценообразования заданий для ...</td>\n      <td>37. Софт для эффективного управления автомобилями</td>\n      <td>16. Расширение географии активных исполнителей...</td>\n      <td>15. Интерфейс для администрирования каналов ко...</td>\n      <td>...</td>\n      <td>-</td>\n      <td>-</td>\n      <td>-</td>\n      <td>-</td>\n      <td>-</td>\n      <td>-</td>\n      <td>NaN</td>\n      <td>NaN</td>\n      <td>NaN</td>\n      <td>NaN</td>\n    </tr>\n    <tr>\n      <th>2</th>\n      <td>NaN</td>\n      <td>Глазачева Анна</td>\n      <td>ШБР</td>\n      <td>Python</td>\n      <td>19. Эзотерика в Алисе</td>\n      <td>14. Ачивница 2.0</td>\n      <td>48. Плафторма Яндекс Практикума</td>\n      <td>44. Автоматизация проверки работ на направлени...</td>\n      <td>38. Сетевая реферальная программа</td>\n      <td>13. Я команда</td>\n      <td>...</td>\n      <td>-</td>\n      <td>-</td>\n      <td>-</td>\n      <td>-</td>\n      <td>-</td>\n      <td>-</td>\n      <td>NaN</td>\n      <td>NaN</td>\n      <td>NaN</td>\n      <td>NaN</td>\n    </tr>\n    <tr>\n      <th>3</th>\n      <td>NaN</td>\n      <td>Лапа Анна</td>\n      <td>ШБР</td>\n      <td>Python</td>\n      <td>44. Автоматизация проверки работ на направлени...</td>\n      <td>13. Я команда</td>\n      <td>48. Плафторма Яндекс Практикума</td>\n      <td>14. Ачивница 2.0</td>\n      <td>43. Геймификация выдачи офферов пользователям</td>\n      <td>38. Сетевая реферальная программа</td>\n      <td>...</td>\n      <td>-</td>\n      <td>-</td>\n      <td>-</td>\n      <td>-</td>\n      <td>-</td>\n      <td>-</td>\n      <td>NaN</td>\n      <td>NaN</td>\n      <td>NaN</td>\n      <td>NaN</td>\n    </tr>\n    <tr>\n      <th>4</th>\n      <td>NaN</td>\n      <td>Антонов Артём</td>\n      <td>ШБР</td>\n      <td>Python</td>\n      <td>14. Ачивница 2.0</td>\n      <td>43. Геймификация выдачи офферов пользователям</td>\n      <td>19. Эзотерика в Алисе</td>\n      <td>18. Умная система ценообразования заданий для ...</td>\n      <td>13. Я команда</td>\n      <td>15. Интерфейс для администрирования каналов ко...</td>\n      <td>...</td>\n      <td>-</td>\n      <td>-</td>\n      <td>-</td>\n      <td>-</td>\n      <td>-</td>\n      <td>-</td>\n      <td>NaN</td>\n      <td>NaN</td>\n      <td>NaN</td>\n      <td>NaN</td>\n    </tr>\n  </tbody>\n</table>\n<p>5 rows × 56 columns</p>\n</div>"
     },
     "execution_count": 14,
     "metadata": {},
     "output_type": "execute_result"
    }
   ],
   "source": [
    "priority.head()"
   ],
   "metadata": {
    "collapsed": false,
    "ExecuteTime": {
     "end_time": "2023-07-30T11:18:47.369061300Z",
     "start_time": "2023-07-30T11:18:47.365853100Z"
    }
   }
  },
  {
   "cell_type": "code",
   "execution_count": 23,
   "outputs": [],
   "source": [
    "applicants_python = {}\n",
    "applicants_go = {}\n",
    "applicants_c = {}\n",
    "applicants_java = {}\n",
    "\n",
    "applicants_front = {}\n",
    "\n",
    "applicants_ios = {}\n",
    "applicants_android = {}\n",
    "applicants_flutter = {}\n",
    "\n",
    "applicants_qa = {}\n",
    "applicants_design = {}\n",
    "\n",
    "random.seed(0)\n",
    "for index, row in priority.iterrows():\n",
    "    name = row['Студент']\n",
    "    if not pd.notna(name):\n",
    "        continue\n",
    "    name = re.sub(r\"[^а-яёЁА-Яa-zA-ZӨөмірзақ\\s]\", \"\", name).strip()\n",
    "    if isinstance(name, str):\n",
    "        name = name.lower()\n",
    "        name = name.replace(' ', ' ')\n",
    "    specialization = row['Направление']\n",
    "    priority_values = []\n",
    "    for i in range(1, 48):\n",
    "        column_name = f\"Приоритет {i}\"\n",
    "        # Извлекаем значения из колонки\n",
    "        value = row[column_name]\n",
    "        # Добавляем непустые и не \"-\" значения в список priority_values\n",
    "        if pd.notna(value) and value != \"-\":\n",
    "            value = value[value.index(\". \") + 2::] if '. ' in value else value\n",
    "        result = f'{value.strip()} # {specialization}' if pd.notna(value) and value != \"-\" else None\n",
    "        priority_values.append(result if result not in priority_values else None)\n",
    "\n",
    "    if specialization == 'Python':\n",
    "        remaining_values = list(set(projects_python) - set(priority_values))\n",
    "        random.shuffle(remaining_values)\n",
    "        priority_values += remaining_values\n",
    "        priority_values = list(filter(lambda x: x is not None, priority_values))\n",
    "        assert len(priority_values) == len(projects_python), f'{len(priority_values)}, {len(projects_python)}'\n",
    "\n",
    "        applicant = Applicant(name, priority_values, specialization)\n",
    "        applicants_python[name] = applicant\n",
    "    elif specialization == 'C++':\n",
    "        remaining_values = list(set(projects_c) - set(priority_values))\n",
    "        random.shuffle(remaining_values)\n",
    "        priority_values += remaining_values\n",
    "        priority_values = list(filter(lambda x: x is not None, priority_values))\n",
    "        assert len(priority_values) == len(projects_c), f'{len(priority_values)}, {len(projects_c)}'\n",
    "\n",
    "        applicant = Applicant(name, priority_values, specialization)\n",
    "        applicants_c[name] = applicant\n",
    "    if specialization == 'Java':\n",
    "        remaining_values = list(set(projects_java) - set(priority_values))\n",
    "        random.shuffle(remaining_values)\n",
    "        priority_values += remaining_values\n",
    "        priority_values = list(filter(lambda x: x is not None, priority_values))\n",
    "        assert len(priority_values) == len(projects_java), f'{len(priority_values)}, {len(projects_java)}'\n",
    "\n",
    "        applicant = Applicant(name, priority_values, specialization)\n",
    "        applicants_java[name] = applicant\n",
    "    elif specialization == 'Go':\n",
    "        remaining_values = list(set(projects_go) - set(priority_values))\n",
    "        random.shuffle(remaining_values)\n",
    "        priority_values += remaining_values\n",
    "        priority_values = list(filter(lambda x: x is not None, priority_values))\n",
    "        assert len(priority_values) == len(projects_go), f'{len(priority_values)}, {len(projects_go)}'\n",
    "\n",
    "        applicant = Applicant(name, priority_values, specialization)\n",
    "        applicants_go[name] = applicant\n",
    "\n",
    "    if specialization == 'iOS':\n",
    "        remaining_values = list(set(projects_ios) - set(priority_values))\n",
    "        priority_values += remaining_values\n",
    "        priority_values = list(filter(lambda x: x is not None, priority_values))\n",
    "        assert len(priority_values) == len(projects_ios), f'{len(priority_values)}, {len(projects_ios)}'\n",
    "\n",
    "        applicant = Applicant(name, priority_values, specialization)\n",
    "        applicants_ios[name] = applicant\n",
    "    elif specialization == 'Flutter':\n",
    "        remaining_values = list(set(projects_flutter) - set(priority_values))\n",
    "        priority_values += remaining_values\n",
    "        priority_values = list(filter(lambda x: x is not None, priority_values))\n",
    "        assert len(priority_values) == len(projects_flutter), f'{len(priority_values)}, {len(projects_flutter)}'\n",
    "\n",
    "        applicant = Applicant(name, priority_values, specialization)\n",
    "        applicants_flutter[name] = applicant\n",
    "    if specialization == 'Android':\n",
    "        remaining_values = list(set(projects_android) - set(priority_values))\n",
    "        priority_values += remaining_values\n",
    "        priority_values = list(filter(lambda x: x is not None, priority_values))\n",
    "        assert len(priority_values) == len(projects_android), f'{len(priority_values)}, {len(projects_android)}'\n",
    "\n",
    "        applicant = Applicant(name, priority_values, specialization)\n",
    "        applicants_android[name] = applicant\n",
    "    elif specialization == 'Фронт':\n",
    "        remaining_values = list(set(projects_front) - set(priority_values))\n",
    "        priority_values += remaining_values\n",
    "        priority_values = list(filter(lambda x: x is not None, priority_values))\n",
    "        assert len(priority_values) == len(projects_front)\n",
    "\n",
    "        applicant = Applicant(name, priority_values, specialization)\n",
    "        applicants_front[name] = applicant\n",
    "\n",
    "    # elif specialization == 'Тестировщик':\n",
    "    #     remaining_values = list(set(projects_qa) - set(priority_values))\n",
    "    #     priority_values += remaining_values\n",
    "    #     priority_values = list(filter(lambda x: x is not None, priority_values))\n",
    "    #     assert len(priority_values) == len(projects_qa)\n",
    "    #\n",
    "    #     applicant = Applicant(name, priority_values, specialization)\n",
    "    #     applicants_qa[name] = applicant\n",
    "    # elif specialization == 'Дизайнер':\n",
    "    #     remaining_values = list(set(projects_design) - set(priority_values))\n",
    "    #     priority_values += remaining_values\n",
    "    #     priority_values = list(filter(lambda x: x is not None, priority_values))\n",
    "    #     assert len(priority_values) == len(projects_design)\n",
    "    #\n",
    "    #     applicant = Applicant(name, priority_values, specialization)\n",
    "    #     applicants_design[name] = applicant\n",
    "    #\n",
    "    #\n",
    "    # priority_values += remaining_values\n",
    "    # priority_values = list(filter(lambda x: x is not None, priority_values))"
   ],
   "metadata": {
    "collapsed": false,
    "ExecuteTime": {
     "end_time": "2023-07-30T11:19:12.476197100Z",
     "start_time": "2023-07-30T11:19:12.201083500Z"
    }
   }
  },
  {
   "cell_type": "code",
   "execution_count": 16,
   "outputs": [],
   "source": [
    "applicants_ios['рассказов глеб'] = Applicant('рассказов глеб',\n",
    "                                             ['Мобильный кабинет разработчика на платформе Яндекс.Игр (1) # iOS',\n",
    "                                              'Мобильный кабинет разработчика на платформе Яндекс.Игр (2) # iOS',\n",
    "                                              'Мультимодальность в Yandex Go # iOS',\n",
    "                                              'Продукт для бизнеса внутри Яндекс Go # iOS',\n",
    "                                              'Вырастить кол-во доставок на следующий день в Яндекс Go # iOS',\n",
    "                                              'Букинг Такси (B2B, B2C) # iOS',\n",
    "                                              'Тариф Magic / поручения курьеру в международной Доставке # iOS',\n",
    "                                              'Менеджер артиста: Продвижение # iOS',\n",
    "                                              'Генеративная модель в подборе тура # iOS',\n",
    "                                              'Умная камера для незрячих пользователей # iOS',\n",
    "                                              'Summary путешествия # iOS', 'Музыка для кино # iOS',\n",
    "                                              'Менеджер артиста: Создание музыки # iOS',\n",
    "                                              'Менеджер артиста: MusicID # iOS'], specialization='iOS')"
   ],
   "metadata": {
    "collapsed": false,
    "ExecuteTime": {
     "end_time": "2023-07-30T11:18:47.640416300Z",
     "start_time": "2023-07-30T11:18:47.637066600Z"
    }
   }
  },
  {
   "cell_type": "code",
   "execution_count": 17,
   "outputs": [
    {
     "name": "stderr",
     "output_type": "stream",
     "text": [
      "F:\\python3.10\\lib\\site-packages\\openpyxl\\worksheet\\_reader.py:329: UserWarning: Data Validation extension is not supported and will be removed\n",
      "  warn(msg)\n"
     ]
    },
    {
     "data": {
      "text/plain": "              Студент      Школа  Направление  \\\n0   Валерия Безродняя  Практикум  Тестировщик   \n1     Алина Кударенко  Практикум  Тестировщик   \n2       Яна Кочеткова  Практикум  Тестировщик   \n3  Константин Шарпань  Практикум  Тестировщик   \n4       Илона Кочарян  Практикум  Тестировщик   \n\n                                         Приоритет 1       Приоритет 2  \\\n0  49. Бренд-платформа для обучения по геймдеву о...  14. Ачивница 2.0   \n1                                                NaN               NaN   \n2                                     40. Потеряшкин  33. Яндекс Афиша   \n3                                   33. Яндекс Афиша     13. Я команда   \n4                                                NaN               NaN   \n\n                                         Приоритет 3  \\\n0                                     32. Елочка 2.0   \n1                                                NaN   \n2  56. Мобильный кабинет разработчика на платформ...   \n3                          36. Warehouse constructor   \n4                                                NaN   \n\n                                         Приоритет 4  \\\n0                                   33. Яндекс Афиша   \n1                                                NaN   \n2  57. Мобильный кабинет разработчика на платформ...   \n3                                   14. Ачивница 2.0   \n4                                                NaN   \n\n                                         Приоритет 5  \\\n0                                     40. Потеряшкин   \n1                                                NaN   \n2  16. Расширение географии активных исполнителей...   \n3           47. Продукт для бизнеса внутри Яндекс Go   \n4                                                NaN   \n\n                    Приоритет 6              Приоритет 7  ... Приоритет 39  \\\n0        39. Биддер для Маркета  12. Геймификация погоды  ...            -   \n1                           NaN                      NaN  ...            -   \n2                32. Елочка 2.0           27. Ad/Ed Tech  ...            -   \n3  31. Какой ты партнёр в Я.Еде           40. Потеряшкин  ...            -   \n4                           NaN                      NaN  ...            -   \n\n  Приоритет 40 Приоритет 41 Приоритет 42 Приоритет 43 Приоритет 44  \\\n0            -            -            -            -            -   \n1            -            -            -            -            -   \n2            -            -            -            -            -   \n3            -            -            -            -            -   \n4            -            -            -            -            -   \n\n  Приоритет 45 Приоритет 46 Приоритет 47 Приоритет 48  \n0            -            -            -            -  \n1            -            -            -            -  \n2            -            -            -            -  \n3            -            -            -            -  \n4            -            -            -            -  \n\n[5 rows x 51 columns]",
      "text/html": "<div>\n<style scoped>\n    .dataframe tbody tr th:only-of-type {\n        vertical-align: middle;\n    }\n\n    .dataframe tbody tr th {\n        vertical-align: top;\n    }\n\n    .dataframe thead th {\n        text-align: right;\n    }\n</style>\n<table border=\"1\" class=\"dataframe\">\n  <thead>\n    <tr style=\"text-align: right;\">\n      <th></th>\n      <th>Студент</th>\n      <th>Школа</th>\n      <th>Направление</th>\n      <th>Приоритет 1</th>\n      <th>Приоритет 2</th>\n      <th>Приоритет 3</th>\n      <th>Приоритет 4</th>\n      <th>Приоритет 5</th>\n      <th>Приоритет 6</th>\n      <th>Приоритет 7</th>\n      <th>...</th>\n      <th>Приоритет 39</th>\n      <th>Приоритет 40</th>\n      <th>Приоритет 41</th>\n      <th>Приоритет 42</th>\n      <th>Приоритет 43</th>\n      <th>Приоритет 44</th>\n      <th>Приоритет 45</th>\n      <th>Приоритет 46</th>\n      <th>Приоритет 47</th>\n      <th>Приоритет 48</th>\n    </tr>\n  </thead>\n  <tbody>\n    <tr>\n      <th>0</th>\n      <td>Валерия Безродняя</td>\n      <td>Практикум</td>\n      <td>Тестировщик</td>\n      <td>49. Бренд-платформа для обучения по геймдеву о...</td>\n      <td>14. Ачивница 2.0</td>\n      <td>32. Елочка 2.0</td>\n      <td>33. Яндекс Афиша</td>\n      <td>40. Потеряшкин</td>\n      <td>39. Биддер для Маркета</td>\n      <td>12. Геймификация погоды</td>\n      <td>...</td>\n      <td>-</td>\n      <td>-</td>\n      <td>-</td>\n      <td>-</td>\n      <td>-</td>\n      <td>-</td>\n      <td>-</td>\n      <td>-</td>\n      <td>-</td>\n      <td>-</td>\n    </tr>\n    <tr>\n      <th>1</th>\n      <td>Алина Кударенко</td>\n      <td>Практикум</td>\n      <td>Тестировщик</td>\n      <td>NaN</td>\n      <td>NaN</td>\n      <td>NaN</td>\n      <td>NaN</td>\n      <td>NaN</td>\n      <td>NaN</td>\n      <td>NaN</td>\n      <td>...</td>\n      <td>-</td>\n      <td>-</td>\n      <td>-</td>\n      <td>-</td>\n      <td>-</td>\n      <td>-</td>\n      <td>-</td>\n      <td>-</td>\n      <td>-</td>\n      <td>-</td>\n    </tr>\n    <tr>\n      <th>2</th>\n      <td>Яна Кочеткова</td>\n      <td>Практикум</td>\n      <td>Тестировщик</td>\n      <td>40. Потеряшкин</td>\n      <td>33. Яндекс Афиша</td>\n      <td>56. Мобильный кабинет разработчика на платформ...</td>\n      <td>57. Мобильный кабинет разработчика на платформ...</td>\n      <td>16. Расширение географии активных исполнителей...</td>\n      <td>32. Елочка 2.0</td>\n      <td>27. Ad/Ed Tech</td>\n      <td>...</td>\n      <td>-</td>\n      <td>-</td>\n      <td>-</td>\n      <td>-</td>\n      <td>-</td>\n      <td>-</td>\n      <td>-</td>\n      <td>-</td>\n      <td>-</td>\n      <td>-</td>\n    </tr>\n    <tr>\n      <th>3</th>\n      <td>Константин Шарпань</td>\n      <td>Практикум</td>\n      <td>Тестировщик</td>\n      <td>33. Яндекс Афиша</td>\n      <td>13. Я команда</td>\n      <td>36. Warehouse constructor</td>\n      <td>14. Ачивница 2.0</td>\n      <td>47. Продукт для бизнеса внутри Яндекс Go</td>\n      <td>31. Какой ты партнёр в Я.Еде</td>\n      <td>40. Потеряшкин</td>\n      <td>...</td>\n      <td>-</td>\n      <td>-</td>\n      <td>-</td>\n      <td>-</td>\n      <td>-</td>\n      <td>-</td>\n      <td>-</td>\n      <td>-</td>\n      <td>-</td>\n      <td>-</td>\n    </tr>\n    <tr>\n      <th>4</th>\n      <td>Илона Кочарян</td>\n      <td>Практикум</td>\n      <td>Тестировщик</td>\n      <td>NaN</td>\n      <td>NaN</td>\n      <td>NaN</td>\n      <td>NaN</td>\n      <td>NaN</td>\n      <td>NaN</td>\n      <td>NaN</td>\n      <td>...</td>\n      <td>-</td>\n      <td>-</td>\n      <td>-</td>\n      <td>-</td>\n      <td>-</td>\n      <td>-</td>\n      <td>-</td>\n      <td>-</td>\n      <td>-</td>\n      <td>-</td>\n    </tr>\n  </tbody>\n</table>\n<p>5 rows × 51 columns</p>\n</div>"
     },
     "execution_count": 17,
     "metadata": {},
     "output_type": "execute_result"
    }
   ],
   "source": [
    "priority_test = pd.read_excel('cur/Распределение проектов Практикум.xlsx', sheet_name='Приоритеты студентов',\n",
    "                         header=5)\n",
    "priority_test.head()"
   ],
   "metadata": {
    "collapsed": false,
    "ExecuteTime": {
     "end_time": "2023-07-30T11:18:48.550697Z",
     "start_time": "2023-07-30T11:18:47.638066600Z"
    }
   }
  },
  {
   "cell_type": "code",
   "execution_count": 18,
   "outputs": [],
   "source": [
    "for index, row in priority_test.iterrows():\n",
    "    name = row['Студент']\n",
    "    if not pd.notna(name):\n",
    "        continue\n",
    "    #name = re.sub(r\"[^а-яёЁА-Яa-zA-ZӨөмірзақ\\s]\", \"\", name).strip()\n",
    "    if isinstance(name, str):\n",
    "        name = name.lower()\n",
    "        name = name.replace(' ', ' ')\n",
    "    specialization = row['Направление']\n",
    "    priority_values = []\n",
    "    for i in range(1, 48):\n",
    "        column_name = f\"Приоритет {i}\"\n",
    "        # Извлекаем значения из колонки\n",
    "        value = row[column_name]\n",
    "        # Добавляем непустые и не \"-\" значения в список priority_values\n",
    "        if pd.notna(value) and value != \"-\":\n",
    "            value = value[value.index(\". \") + 2::] if '. ' in value else value\n",
    "        result = f'{value.strip()} # {specialization}' if pd.notna(value) and value != \"-\" else None\n",
    "        priority_values.append(result if result not in priority_values else None)\n",
    "\n",
    "    if specialization == 'Тестировщик':\n",
    "        remaining_values = list(set(projects_qa) - set(priority_values))\n",
    "        priority_values += remaining_values\n",
    "        priority_values = list(filter(lambda x: x is not None, priority_values))\n",
    "        #assert len(priority_values) == len(projects_qa)\n",
    "\n",
    "        applicant = Applicant(name, priority_values, specialization)\n",
    "        applicants_qa[name] = applicant\n",
    "    elif specialization == 'Дизайнер':\n",
    "        remaining_values = list(set(projects_design) - set(priority_values))\n",
    "        priority_values += remaining_values\n",
    "        priority_values = list(filter(lambda x: x is not None, priority_values))\n",
    "        #assert len(priority_values) == len(projects_design)\n",
    "\n",
    "        applicant = Applicant(name, priority_values, specialization)\n",
    "        applicants_design[name] = applicant"
   ],
   "metadata": {
    "collapsed": false,
    "ExecuteTime": {
     "end_time": "2023-07-30T11:18:48.648833600Z",
     "start_time": "2023-07-30T11:18:48.570186900Z"
    }
   }
  },
  {
   "cell_type": "code",
   "execution_count": 19,
   "outputs": [
    {
     "data": {
      "text/plain": "9          наталья буданова\n13           анна прохорова\n17         наталья миронова\n12           василий бычков\n25           галина хотяева\n7        евгения глазовская\n15       вероника гончарова\n28            юлия янтурина\n21          сергей самойлов\n24           евгений рузлёв\n18        владислав сазонов\n30           данил бардюков\n6          екатерина полова\n4             илона кочарян\n3        константин шарпань\n29         александр жвакин\n26             артем иванов\n14            павел коровин\n20         алексей жеребцов\n2             яна кочеткова\n27            нагиев ровшан\n22        надежда коршикова\n16            павел коровин\n5         владимир капралов\n1           алина кударенко\n0         валерия безродняя\n19            анна нарыжная\n11             илья морозов\n10         валентина расули\n8     валерия спитбатталова\n23      ангелина григорьева\n31           татьяна ларина\n32        никита самойленко\n33       алина красноперова\nName: Фамилия Имя, dtype: object"
     },
     "execution_count": 19,
     "metadata": {},
     "output_type": "execute_result"
    }
   ],
   "source": [
    "ratings_test = pd.read_excel('cur/Список участников в Летних школах.xlsx', sheet_name='Лист2').sort_values(by='Возраст', ascending=False)\n",
    "ratings_qa = ratings_test.rename({'ФИ': 'Фамилия Имя'}, axis=1)\n",
    "ratings_qa['Фамилия Имя'] = ratings_qa['Фамилия Имя'].str.lower()\n",
    "ratings_qa['Фамилия Имя']"
   ],
   "metadata": {
    "collapsed": false,
    "ExecuteTime": {
     "end_time": "2023-07-30T11:18:48.757048700Z",
     "start_time": "2023-07-30T11:18:48.626444100Z"
    }
   }
  },
  {
   "cell_type": "code",
   "execution_count": 20,
   "outputs": [
    {
     "data": {
      "text/plain": "                     Фамилия Имя  Рейтинг\n0                 тимофей декало        1\n1         дарья игоревна шведова        2\n2               полина селезнева        3\n3  казакова марина александровна        4\n4         исаева елена борисовна        5",
      "text/html": "<div>\n<style scoped>\n    .dataframe tbody tr th:only-of-type {\n        vertical-align: middle;\n    }\n\n    .dataframe tbody tr th {\n        vertical-align: top;\n    }\n\n    .dataframe thead th {\n        text-align: right;\n    }\n</style>\n<table border=\"1\" class=\"dataframe\">\n  <thead>\n    <tr style=\"text-align: right;\">\n      <th></th>\n      <th>Фамилия Имя</th>\n      <th>Рейтинг</th>\n    </tr>\n  </thead>\n  <tbody>\n    <tr>\n      <th>0</th>\n      <td>тимофей декало</td>\n      <td>1</td>\n    </tr>\n    <tr>\n      <th>1</th>\n      <td>дарья игоревна шведова</td>\n      <td>2</td>\n    </tr>\n    <tr>\n      <th>2</th>\n      <td>полина селезнева</td>\n      <td>3</td>\n    </tr>\n    <tr>\n      <th>3</th>\n      <td>казакова марина александровна</td>\n      <td>4</td>\n    </tr>\n    <tr>\n      <th>4</th>\n      <td>исаева елена борисовна</td>\n      <td>5</td>\n    </tr>\n  </tbody>\n</table>\n</div>"
     },
     "execution_count": 20,
     "metadata": {},
     "output_type": "execute_result"
    }
   ],
   "source": [
    "ratings_design = pd.read_excel('cur/рейтинг дизайнеры.xlsx').rename({'Имя': 'Фамилия Имя'}, axis=1)\n",
    "ratings_design['Фамилия Имя'] = ratings_design['Фамилия Имя'].str.lower()\n",
    "ratings_design.head()"
   ],
   "metadata": {
    "collapsed": false,
    "ExecuteTime": {
     "end_time": "2023-07-30T11:18:48.760371200Z",
     "start_time": "2023-07-30T11:18:48.701795700Z"
    }
   }
  },
  {
   "cell_type": "code",
   "execution_count": 21,
   "outputs": [],
   "source": [
    "# matches_design = gale_shapley(applicants_design, projects_design, ratings_design)\n",
    "# #matches_design\n",
    "# ans_design = pd.DataFrame([(elem[0].name, elem[1].name) for elem in matches_design]).rename(\n",
    "#     {0: 'Фамилия Имя', 1: 'Номер полученного проекта'}, axis=1)\n",
    "# ans_design.to_excel('cur/Практикум.xlsx', index=False, sheet_name='Дизайнеры')"
   ],
   "metadata": {
    "collapsed": false,
    "ExecuteTime": {
     "end_time": "2023-07-30T11:18:48.767599500Z",
     "start_time": "2023-07-30T11:18:48.754996400Z"
    }
   }
  },
  {
   "cell_type": "code",
   "execution_count": 22,
   "outputs": [
    {
     "ename": "ValueError",
     "evalue": "Sheet 'QA' already exists and if_sheet_exists is set to 'error'.",
     "output_type": "error",
     "traceback": [
      "\u001B[1;31m---------------------------------------------------------------------------\u001B[0m",
      "\u001B[1;31mValueError\u001B[0m                                Traceback (most recent call last)",
      "Cell \u001B[1;32mIn[22], line 6\u001B[0m\n\u001B[0;32m      4\u001B[0m ans_qa \u001B[38;5;241m=\u001B[39m pd\u001B[38;5;241m.\u001B[39mDataFrame([(elem[\u001B[38;5;241m0\u001B[39m]\u001B[38;5;241m.\u001B[39mname, elem[\u001B[38;5;241m1\u001B[39m]\u001B[38;5;241m.\u001B[39mname) \u001B[38;5;28;01mfor\u001B[39;00m elem \u001B[38;5;129;01min\u001B[39;00m matches_qa])\u001B[38;5;241m.\u001B[39mrename({\u001B[38;5;241m0\u001B[39m: \u001B[38;5;124m'\u001B[39m\u001B[38;5;124mФамилия Имя\u001B[39m\u001B[38;5;124m'\u001B[39m, \u001B[38;5;241m1\u001B[39m: \u001B[38;5;124m'\u001B[39m\u001B[38;5;124mНомер полученного проекта\u001B[39m\u001B[38;5;124m'\u001B[39m}, axis\u001B[38;5;241m=\u001B[39m\u001B[38;5;241m1\u001B[39m)\n\u001B[0;32m      5\u001B[0m \u001B[38;5;66;03m# Добавляем DataFrame в новый лист\u001B[39;00m\n\u001B[1;32m----> 6\u001B[0m \u001B[43mans_qa\u001B[49m\u001B[38;5;241;43m.\u001B[39;49m\u001B[43mto_excel\u001B[49m\u001B[43m(\u001B[49m\u001B[43mwriter\u001B[49m\u001B[43m,\u001B[49m\u001B[43m \u001B[49m\u001B[43msheet_name\u001B[49m\u001B[38;5;241;43m=\u001B[39;49m\u001B[38;5;124;43m'\u001B[39;49m\u001B[38;5;124;43mQA\u001B[39;49m\u001B[38;5;124;43m'\u001B[39;49m\u001B[43m,\u001B[49m\u001B[43m \u001B[49m\u001B[43mindex\u001B[49m\u001B[38;5;241;43m=\u001B[39;49m\u001B[38;5;28;43;01mFalse\u001B[39;49;00m\u001B[43m)\u001B[49m\n",
      "File \u001B[1;32mF:\\python3.10\\lib\\site-packages\\pandas\\core\\generic.py:2252\u001B[0m, in \u001B[0;36mNDFrame.to_excel\u001B[1;34m(self, excel_writer, sheet_name, na_rep, float_format, columns, header, index, index_label, startrow, startcol, engine, merge_cells, inf_rep, freeze_panes, storage_options)\u001B[0m\n\u001B[0;32m   2239\u001B[0m \u001B[38;5;28;01mfrom\u001B[39;00m \u001B[38;5;21;01mpandas\u001B[39;00m\u001B[38;5;21;01m.\u001B[39;00m\u001B[38;5;21;01mio\u001B[39;00m\u001B[38;5;21;01m.\u001B[39;00m\u001B[38;5;21;01mformats\u001B[39;00m\u001B[38;5;21;01m.\u001B[39;00m\u001B[38;5;21;01mexcel\u001B[39;00m \u001B[38;5;28;01mimport\u001B[39;00m ExcelFormatter\n\u001B[0;32m   2241\u001B[0m formatter \u001B[38;5;241m=\u001B[39m ExcelFormatter(\n\u001B[0;32m   2242\u001B[0m     df,\n\u001B[0;32m   2243\u001B[0m     na_rep\u001B[38;5;241m=\u001B[39mna_rep,\n\u001B[1;32m   (...)\u001B[0m\n\u001B[0;32m   2250\u001B[0m     inf_rep\u001B[38;5;241m=\u001B[39minf_rep,\n\u001B[0;32m   2251\u001B[0m )\n\u001B[1;32m-> 2252\u001B[0m \u001B[43mformatter\u001B[49m\u001B[38;5;241;43m.\u001B[39;49m\u001B[43mwrite\u001B[49m\u001B[43m(\u001B[49m\n\u001B[0;32m   2253\u001B[0m \u001B[43m    \u001B[49m\u001B[43mexcel_writer\u001B[49m\u001B[43m,\u001B[49m\n\u001B[0;32m   2254\u001B[0m \u001B[43m    \u001B[49m\u001B[43msheet_name\u001B[49m\u001B[38;5;241;43m=\u001B[39;49m\u001B[43msheet_name\u001B[49m\u001B[43m,\u001B[49m\n\u001B[0;32m   2255\u001B[0m \u001B[43m    \u001B[49m\u001B[43mstartrow\u001B[49m\u001B[38;5;241;43m=\u001B[39;49m\u001B[43mstartrow\u001B[49m\u001B[43m,\u001B[49m\n\u001B[0;32m   2256\u001B[0m \u001B[43m    \u001B[49m\u001B[43mstartcol\u001B[49m\u001B[38;5;241;43m=\u001B[39;49m\u001B[43mstartcol\u001B[49m\u001B[43m,\u001B[49m\n\u001B[0;32m   2257\u001B[0m \u001B[43m    \u001B[49m\u001B[43mfreeze_panes\u001B[49m\u001B[38;5;241;43m=\u001B[39;49m\u001B[43mfreeze_panes\u001B[49m\u001B[43m,\u001B[49m\n\u001B[0;32m   2258\u001B[0m \u001B[43m    \u001B[49m\u001B[43mengine\u001B[49m\u001B[38;5;241;43m=\u001B[39;49m\u001B[43mengine\u001B[49m\u001B[43m,\u001B[49m\n\u001B[0;32m   2259\u001B[0m \u001B[43m    \u001B[49m\u001B[43mstorage_options\u001B[49m\u001B[38;5;241;43m=\u001B[39;49m\u001B[43mstorage_options\u001B[49m\u001B[43m,\u001B[49m\n\u001B[0;32m   2260\u001B[0m \u001B[43m\u001B[49m\u001B[43m)\u001B[49m\n",
      "File \u001B[1;32mF:\\python3.10\\lib\\site-packages\\pandas\\io\\formats\\excel.py:940\u001B[0m, in \u001B[0;36mExcelFormatter.write\u001B[1;34m(self, writer, sheet_name, startrow, startcol, freeze_panes, engine, storage_options)\u001B[0m\n\u001B[0;32m    937\u001B[0m     need_save \u001B[38;5;241m=\u001B[39m \u001B[38;5;28;01mTrue\u001B[39;00m\n\u001B[0;32m    939\u001B[0m \u001B[38;5;28;01mtry\u001B[39;00m:\n\u001B[1;32m--> 940\u001B[0m     \u001B[43mwriter\u001B[49m\u001B[38;5;241;43m.\u001B[39;49m\u001B[43m_write_cells\u001B[49m\u001B[43m(\u001B[49m\n\u001B[0;32m    941\u001B[0m \u001B[43m        \u001B[49m\u001B[43mformatted_cells\u001B[49m\u001B[43m,\u001B[49m\n\u001B[0;32m    942\u001B[0m \u001B[43m        \u001B[49m\u001B[43msheet_name\u001B[49m\u001B[43m,\u001B[49m\n\u001B[0;32m    943\u001B[0m \u001B[43m        \u001B[49m\u001B[43mstartrow\u001B[49m\u001B[38;5;241;43m=\u001B[39;49m\u001B[43mstartrow\u001B[49m\u001B[43m,\u001B[49m\n\u001B[0;32m    944\u001B[0m \u001B[43m        \u001B[49m\u001B[43mstartcol\u001B[49m\u001B[38;5;241;43m=\u001B[39;49m\u001B[43mstartcol\u001B[49m\u001B[43m,\u001B[49m\n\u001B[0;32m    945\u001B[0m \u001B[43m        \u001B[49m\u001B[43mfreeze_panes\u001B[49m\u001B[38;5;241;43m=\u001B[39;49m\u001B[43mfreeze_panes\u001B[49m\u001B[43m,\u001B[49m\n\u001B[0;32m    946\u001B[0m \u001B[43m    \u001B[49m\u001B[43m)\u001B[49m\n\u001B[0;32m    947\u001B[0m \u001B[38;5;28;01mfinally\u001B[39;00m:\n\u001B[0;32m    948\u001B[0m     \u001B[38;5;66;03m# make sure to close opened file handles\u001B[39;00m\n\u001B[0;32m    949\u001B[0m     \u001B[38;5;28;01mif\u001B[39;00m need_save:\n",
      "File \u001B[1;32mF:\\python3.10\\lib\\site-packages\\pandas\\io\\excel\\_openpyxl.py:462\u001B[0m, in \u001B[0;36mOpenpyxlWriter._write_cells\u001B[1;34m(self, cells, sheet_name, startrow, startcol, freeze_panes)\u001B[0m\n\u001B[0;32m    460\u001B[0m     wks \u001B[38;5;241m=\u001B[39m \u001B[38;5;28mself\u001B[39m\u001B[38;5;241m.\u001B[39mbook\u001B[38;5;241m.\u001B[39mcreate_sheet(sheet_name, target_index)\n\u001B[0;32m    461\u001B[0m \u001B[38;5;28;01melif\u001B[39;00m \u001B[38;5;28mself\u001B[39m\u001B[38;5;241m.\u001B[39m_if_sheet_exists \u001B[38;5;241m==\u001B[39m \u001B[38;5;124m\"\u001B[39m\u001B[38;5;124merror\u001B[39m\u001B[38;5;124m\"\u001B[39m:\n\u001B[1;32m--> 462\u001B[0m     \u001B[38;5;28;01mraise\u001B[39;00m \u001B[38;5;167;01mValueError\u001B[39;00m(\n\u001B[0;32m    463\u001B[0m         \u001B[38;5;124mf\u001B[39m\u001B[38;5;124m\"\u001B[39m\u001B[38;5;124mSheet \u001B[39m\u001B[38;5;124m'\u001B[39m\u001B[38;5;132;01m{\u001B[39;00msheet_name\u001B[38;5;132;01m}\u001B[39;00m\u001B[38;5;124m'\u001B[39m\u001B[38;5;124m already exists and \u001B[39m\u001B[38;5;124m\"\u001B[39m\n\u001B[0;32m    464\u001B[0m         \u001B[38;5;124mf\u001B[39m\u001B[38;5;124m\"\u001B[39m\u001B[38;5;124mif_sheet_exists is set to \u001B[39m\u001B[38;5;124m'\u001B[39m\u001B[38;5;124merror\u001B[39m\u001B[38;5;124m'\u001B[39m\u001B[38;5;124m.\u001B[39m\u001B[38;5;124m\"\u001B[39m\n\u001B[0;32m    465\u001B[0m     )\n\u001B[0;32m    466\u001B[0m \u001B[38;5;28;01melif\u001B[39;00m \u001B[38;5;28mself\u001B[39m\u001B[38;5;241m.\u001B[39m_if_sheet_exists \u001B[38;5;241m==\u001B[39m \u001B[38;5;124m\"\u001B[39m\u001B[38;5;124moverlay\u001B[39m\u001B[38;5;124m\"\u001B[39m:\n\u001B[0;32m    467\u001B[0m     wks \u001B[38;5;241m=\u001B[39m \u001B[38;5;28mself\u001B[39m\u001B[38;5;241m.\u001B[39msheets[sheet_name]\n",
      "\u001B[1;31mValueError\u001B[0m: Sheet 'QA' already exists and if_sheet_exists is set to 'error'."
     ]
    }
   ],
   "source": [
    "matches_qa = gale_shapley(applicants_qa, projects_qa, ratings_qa)\n",
    "#matches_qa\n",
    "with pd.ExcelWriter('cur/Практикум.xlsx', engine='openpyxl', mode='a') as writer:\n",
    "    ans_qa = pd.DataFrame([(elem[0].name, elem[1].name) for elem in matches_qa]).rename({0: 'Фамилия Имя', 1: 'Номер полученного проекта'}, axis=1)\n",
    "    # Добавляем DataFrame в новый лист\n",
    "    ans_qa.to_excel(writer, sheet_name='QA', index=False)"
   ],
   "metadata": {
    "collapsed": false,
    "ExecuteTime": {
     "end_time": "2023-07-30T11:18:50.178417Z",
     "start_time": "2023-07-30T11:18:48.761665300Z"
    }
   }
  },
  {
   "cell_type": "code",
   "execution_count": null,
   "outputs": [],
   "source": [
    "matches_python = gale_shapley(applicants_python, projects_python, ratings_python)\n",
    "#matches_python\n",
    "ans_python = pd.DataFrame([(elem[0].name, elem[1].name) for elem in matches_python]).rename(\n",
    "    {0: 'Фамилия Имя', 1: 'Номер полученного проекта'}, axis=1)\n",
    "ans_python.to_excel('cur/ШБР.xlsx', index=False, sheet_name='Python')"
   ],
   "metadata": {
    "collapsed": false
   }
  },
  {
   "cell_type": "code",
   "execution_count": null,
   "outputs": [],
   "source": [
    "matches_c = gale_shapley(applicants_c, projects_c, ratings_c)\n",
    "#matches_c\n",
    "with pd.ExcelWriter('cur/ШБР.xlsx', engine='openpyxl', mode='a') as writer:\n",
    "    ans_c = pd.DataFrame([(elem[0].name, elem[1].name) for elem in matches_c]).rename({0: 'Фамилия Имя', 1: 'Номер полученного проекта'}, axis=1)\n",
    "    # Добавляем DataFrame в новый лист\n",
    "    ans_c.to_excel(writer, sheet_name='C++', index=False)"
   ],
   "metadata": {
    "collapsed": false
   }
  },
  {
   "cell_type": "code",
   "execution_count": null,
   "outputs": [],
   "source": [
    "matches_java = gale_shapley(applicants_java, projects_java, ratings_java)\n",
    "#matches_java\n",
    "with pd.ExcelWriter('cur/ШБР.xlsx', engine='openpyxl', mode='a') as writer:\n",
    "    ans_java = pd.DataFrame([(elem[0].name, elem[1].name) for elem in matches_java]).rename(\n",
    "        {0: 'Фамилия Имя', 1: 'Номер полученного проекта'}, axis=1)\n",
    "    # Добавляем DataFrame в новый лист\n",
    "    ans_java.to_excel(writer, sheet_name='Java', index=False)"
   ],
   "metadata": {
    "collapsed": false
   }
  },
  {
   "cell_type": "code",
   "execution_count": null,
   "outputs": [],
   "source": [
    "matches_go = gale_shapley(applicants_go, projects_go, ratings_go)\n",
    "#matches_go\n",
    "with pd.ExcelWriter('cur/ШБР.xlsx', engine='openpyxl', mode='a') as writer:\n",
    "    ans_go = pd.DataFrame([(elem[0].name, elem[1].name) for elem in matches_go]).rename(\n",
    "        {0: 'Фамилия Имя', 1: 'Номер полученного проекта'}, axis=1)\n",
    "    # Добавляем DataFrame в новый лист\n",
    "    ans_go.to_excel(writer, sheet_name='Go', index=False)"
   ],
   "metadata": {
    "collapsed": false
   }
  },
  {
   "cell_type": "code",
   "execution_count": null,
   "outputs": [],
   "source": [
    "matches_android = gale_shapley(applicants_android, projects_android, ratings_android)\n",
    "#matches_android\n",
    "ans_android = pd.DataFrame([(elem[0].name, elem[1].name) for elem in matches_android]).rename(\n",
    "    {0: 'Фамилия Имя', 1: 'Номер полученного проекта'}, axis=1)\n",
    "ans_android.to_excel('cur/ШМР.xlsx', index=False, sheet_name='Android')"
   ],
   "metadata": {
    "collapsed": false
   }
  },
  {
   "cell_type": "code",
   "execution_count": null,
   "outputs": [],
   "source": [
    "matches_ios = gale_shapley(applicants_ios, projects_ios, ratings_ios)\n",
    "#matches_ios\n",
    "with pd.ExcelWriter('cur/ШМР.xlsx', engine='openpyxl', mode='a') as writer:\n",
    "    ans_ios = pd.DataFrame([(elem[0].name, elem[1].name) for elem in matches_ios]).rename(\n",
    "        {0: 'Фамилия Имя', 1: 'Номер полученного проекта'}, axis=1)\n",
    "    # Добавляем DataFrame в новый лист\n",
    "    ans_ios.to_excel(writer, sheet_name='iOS', index=False)"
   ],
   "metadata": {
    "collapsed": false
   }
  },
  {
   "cell_type": "code",
   "execution_count": null,
   "outputs": [],
   "source": [
    "matches_flutter = gale_shapley(applicants_flutter, projects_flutter, ratings_flutter)\n",
    "#matches_flutter\n",
    "with pd.ExcelWriter('cur/ШМР.xlsx', engine='openpyxl', mode='a') as writer:\n",
    "    ans_flutter = pd.DataFrame([(elem[0].name, elem[1].name) for elem in matches_flutter]).rename(\n",
    "        {0: 'Фамилия Имя', 1: 'Номер полученного проекта'}, axis=1)\n",
    "    # Добавляем DataFrame в новый лист\n",
    "    ans_flutter.to_excel(writer, sheet_name='Flutter', index=False)"
   ],
   "metadata": {
    "collapsed": false
   }
  },
  {
   "cell_type": "code",
   "execution_count": null,
   "outputs": [],
   "source": [
    "matches_front = gale_shapley(applicants_front, projects_front, ratings_front)\n",
    "#matches_front\n",
    "ans_front = pd.DataFrame([(elem[0].name, elem[1].name) for elem in matches_front]).rename(\n",
    "    {0: 'Фамилия Имя', 1: 'Номер полученного проекта'}, axis=1)\n",
    "ans_front.to_excel('cur/Фронт.xlsx', index=False, sheet_name='Фронт')"
   ],
   "metadata": {
    "collapsed": false
   }
  },
  {
   "cell_type": "code",
   "execution_count": null,
   "outputs": [],
   "source": [
    "def metrics(matches):\n",
    "    ind_of_recieved_projects = [matches[i][0].preferences_of_school.index(matches[i][1].name) + 1 for i in\n",
    "                                range(len(matches))]\n",
    "    return f'среднее место проекта у студентов: {np.mean(ind_of_recieved_projects):.3f}'\n",
    "\n",
    "\n",
    "def plot(matches, specialization):\n",
    "    ind_of_recieved_projects = [matches[i][0].preferences_of_school.index(matches[i][1].name) + 1 for i in\n",
    "                                range(len(matches))]\n",
    "\n",
    "    x = range(1, len(ind_of_recieved_projects) + 1)\n",
    "    y = ind_of_recieved_projects\n",
    "\n",
    "    plt.scatter(x, y)\n",
    "    plt.xlabel('Номер по баллам')\n",
    "    #plt.ylim(0, 34)\n",
    "    plt.ylabel('Место проекта у студента')\n",
    "    plt.title('График ' + specialization)\n",
    "    plt.show()\n",
    "\n",
    "    return ind_of_recieved_projects"
   ],
   "metadata": {
    "collapsed": false
   }
  },
  {
   "cell_type": "code",
   "execution_count": null,
   "outputs": [],
   "source": [
    "plot(matches_design, 'Дизайнеры')\n",
    "print(metrics(matches_design))"
   ],
   "metadata": {
    "collapsed": false
   }
  },
  {
   "cell_type": "code",
   "execution_count": null,
   "outputs": [],
   "source": [
    "plot(matches_python, 'Python')\n",
    "print(metrics(matches_python))\n",
    "plot(matches_c, 'C++')\n",
    "print(metrics(matches_c))\n",
    "plot(matches_java, 'Java')\n",
    "print(metrics(matches_java))\n",
    "plot(matches_go, 'Go')\n",
    "print(metrics(matches_go))"
   ],
   "metadata": {
    "collapsed": false
   }
  },
  {
   "cell_type": "code",
   "execution_count": null,
   "outputs": [],
   "source": [
    "plot(matches_android, 'Android')\n",
    "print(metrics(matches_android))\n",
    "plot(matches_ios, 'iOS')\n",
    "print(metrics(matches_ios))\n",
    "plot(matches_flutter, 'Flutter')\n",
    "print(metrics(matches_flutter))"
   ],
   "metadata": {
    "collapsed": false
   }
  },
  {
   "cell_type": "code",
   "execution_count": null,
   "outputs": [],
   "source": [
    "plot(matches_front, 'Фронт')\n",
    "print(metrics(matches_front))"
   ],
   "metadata": {
    "collapsed": false
   }
  }
 ],
 "metadata": {
  "kernelspec": {
   "display_name": "Python 3",
   "language": "python",
   "name": "python3"
  },
  "language_info": {
   "codemirror_mode": {
    "name": "ipython",
    "version": 2
   },
   "file_extension": ".py",
   "mimetype": "text/x-python",
   "name": "python",
   "nbconvert_exporter": "python",
   "pygments_lexer": "ipython2",
   "version": "2.7.6"
  }
 },
 "nbformat": 4,
 "nbformat_minor": 0
}
